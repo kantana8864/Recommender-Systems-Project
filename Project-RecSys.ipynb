{
 "cells": [
  {
   "cell_type": "markdown",
   "id": "d1d74f92-57dd-49d5-8e6d-b5ab8c7ee75c",
   "metadata": {
    "id": "d1d74f92-57dd-49d5-8e6d-b5ab8c7ee75c"
   },
   "source": [
    "# DSAIT4335 Recommender Systems\n",
    "# Final Project"
   ]
  },
  {
   "cell_type": "markdown",
   "id": "e18281d7-d2fc-4a67-9bc9-21d25bad6cfc",
   "metadata": {
    "id": "e18281d7-d2fc-4a67-9bc9-21d25bad6cfc"
   },
   "source": [
    "In this project, you will work to build different recommendation models and evaluate the effectiveness of these models through offline experiments. The dataset used for the experiments is **MovieLens100K**, a movie recommendation dataset collected by GroupLens: https://grouplens.org/datasets/movielens/100k/. For more details, check the project description on Brightspace."
   ]
  },
  {
   "cell_type": "markdown",
   "id": "40cbc07f-b579-4f9b-85b5-dc43c2d7ce48",
   "metadata": {
    "id": "40cbc07f-b579-4f9b-85b5-dc43c2d7ce48"
   },
   "source": [
    "# Instruction"
   ]
  },
  {
   "cell_type": "markdown",
   "id": "944993d6-8983-46cf-880f-753f65975811",
   "metadata": {
    "id": "944993d6-8983-46cf-880f-753f65975811"
   },
   "source": [
    "The MovieLens100K is already splitted into 80% training and 20% test sets. Along with training and test sets, movies metadata as content information is also provided.\n",
    "\n",
    "**Expected file structure** for this assignment:   \n",
    "   \n",
    "   ```\n",
    "   RecSysProject/\n",
    "   ├── training.txt\n",
    "   ├── test.txt\n",
    "   ├── movies.txt\n",
    "   └── codes.ipynb\n",
    "   ```\n",
    "\n",
    "**Note:** Be sure to run all cells in each section sequentially, so that intermediate variables and packages are properly carried over to subsequent cells.\n",
    "\n",
    "**Note** Be sure to run all cells such that the submitted file contains the output of each cell.\n",
    "\n",
    "**Note** Feel free to add cells if you need more for answering a question.\n",
    "\n",
    "**Submission:** Answer all the questions in this jupyter-notebook file. Submit this jupyter-notebook file (your answers included) to Brightspace. Change the name of this jupyter-notebook file to your group number: example, group10 -> 10.ipynb."
   ]
  },
  {
   "cell_type": "markdown",
   "id": "977945fa-a202-49c4-a41d-12ada7b437da",
   "metadata": {
    "id": "977945fa-a202-49c4-a41d-12ada7b437da"
   },
   "source": [
    "# Setup"
   ]
  },
  {
   "cell_type": "code",
   "id": "302a2b5b-fdf1-41c8-b6a6-bc1cd453425b",
   "metadata": {
    "executionInfo": {
     "elapsed": 16235,
     "status": "ok",
     "timestamp": 1761075925663,
     "user": {
      "displayName": "Kanta Tanahashi",
      "userId": "14493519528935864142"
     },
     "user_tz": -120
    },
    "id": "302a2b5b-fdf1-41c8-b6a6-bc1cd453425b",
    "ExecuteTime": {
     "end_time": "2025-10-24T08:35:08.176491Z",
     "start_time": "2025-10-24T08:35:02.916414Z"
    }
   },
   "source": [
    "!pip install -q transformers torch  # For BERT\n",
    "!pip install numpy pandas matplotlib seaborn scipy scikit-learn torch tqdm\n",
    "!pip install torch-directml\n",
    "\n",
    "# you can refer https://huggingface.co/docs/transformers/en/model_doc/bert for various versions of the pre-trained model BERT"
   ],
   "outputs": [
    {
     "name": "stderr",
     "output_type": "stream",
     "text": [
      "ERROR: Invalid requirement: '#': Expected package name at the start of dependency specifier\n",
      "    #\n",
      "    ^\n"
     ]
    },
    {
     "name": "stdout",
     "output_type": "stream",
     "text": [
      "Requirement already satisfied: numpy in c:\\users\\40766\\anaconda3\\envs\\recsys\\lib\\site-packages (2.2.6)\n",
      "Requirement already satisfied: pandas in c:\\users\\40766\\anaconda3\\envs\\recsys\\lib\\site-packages (2.3.2)\n",
      "Requirement already satisfied: matplotlib in c:\\users\\40766\\anaconda3\\envs\\recsys\\lib\\site-packages (3.10.6)\n",
      "Requirement already satisfied: seaborn in c:\\users\\40766\\anaconda3\\envs\\recsys\\lib\\site-packages (0.13.2)\n",
      "Requirement already satisfied: scipy in c:\\users\\40766\\anaconda3\\envs\\recsys\\lib\\site-packages (1.15.3)\n",
      "Requirement already satisfied: scikit-learn in c:\\users\\40766\\anaconda3\\envs\\recsys\\lib\\site-packages (1.7.2)\n",
      "Requirement already satisfied: torch in c:\\users\\40766\\anaconda3\\envs\\recsys\\lib\\site-packages (2.4.1)\n",
      "Requirement already satisfied: tqdm in c:\\users\\40766\\anaconda3\\envs\\recsys\\lib\\site-packages (4.67.1)\n",
      "Requirement already satisfied: python-dateutil>=2.8.2 in c:\\users\\40766\\anaconda3\\envs\\recsys\\lib\\site-packages (from pandas) (2.9.0.post0)\n",
      "Requirement already satisfied: pytz>=2020.1 in c:\\users\\40766\\anaconda3\\envs\\recsys\\lib\\site-packages (from pandas) (2025.2)\n",
      "Requirement already satisfied: tzdata>=2022.7 in c:\\users\\40766\\anaconda3\\envs\\recsys\\lib\\site-packages (from pandas) (2025.2)\n",
      "Requirement already satisfied: contourpy>=1.0.1 in c:\\users\\40766\\anaconda3\\envs\\recsys\\lib\\site-packages (from matplotlib) (1.3.2)\n",
      "Requirement already satisfied: cycler>=0.10 in c:\\users\\40766\\anaconda3\\envs\\recsys\\lib\\site-packages (from matplotlib) (0.12.1)\n",
      "Requirement already satisfied: fonttools>=4.22.0 in c:\\users\\40766\\anaconda3\\envs\\recsys\\lib\\site-packages (from matplotlib) (4.60.0)\n",
      "Requirement already satisfied: kiwisolver>=1.3.1 in c:\\users\\40766\\anaconda3\\envs\\recsys\\lib\\site-packages (from matplotlib) (1.4.9)\n",
      "Requirement already satisfied: packaging>=20.0 in c:\\users\\40766\\anaconda3\\envs\\recsys\\lib\\site-packages (from matplotlib) (25.0)\n",
      "Requirement already satisfied: pillow>=8 in c:\\users\\40766\\anaconda3\\envs\\recsys\\lib\\site-packages (from matplotlib) (11.3.0)\n",
      "Requirement already satisfied: pyparsing>=2.3.1 in c:\\users\\40766\\anaconda3\\envs\\recsys\\lib\\site-packages (from matplotlib) (3.2.4)\n",
      "Requirement already satisfied: joblib>=1.2.0 in c:\\users\\40766\\anaconda3\\envs\\recsys\\lib\\site-packages (from scikit-learn) (1.5.2)\n",
      "Requirement already satisfied: threadpoolctl>=3.1.0 in c:\\users\\40766\\anaconda3\\envs\\recsys\\lib\\site-packages (from scikit-learn) (3.6.0)\n",
      "Requirement already satisfied: filelock in c:\\users\\40766\\anaconda3\\envs\\recsys\\lib\\site-packages (from torch) (3.19.1)\n",
      "Requirement already satisfied: typing-extensions>=4.8.0 in c:\\users\\40766\\anaconda3\\envs\\recsys\\lib\\site-packages (from torch) (4.15.0)\n",
      "Requirement already satisfied: sympy in c:\\users\\40766\\anaconda3\\envs\\recsys\\lib\\site-packages (from torch) (1.14.0)\n",
      "Requirement already satisfied: networkx in c:\\users\\40766\\anaconda3\\envs\\recsys\\lib\\site-packages (from torch) (3.4.2)\n",
      "Requirement already satisfied: jinja2 in c:\\users\\40766\\anaconda3\\envs\\recsys\\lib\\site-packages (from torch) (3.1.6)\n",
      "Requirement already satisfied: fsspec in c:\\users\\40766\\anaconda3\\envs\\recsys\\lib\\site-packages (from torch) (2025.9.0)\n",
      "Requirement already satisfied: colorama in c:\\users\\40766\\anaconda3\\envs\\recsys\\lib\\site-packages (from tqdm) (0.4.6)\n",
      "Requirement already satisfied: six>=1.5 in c:\\users\\40766\\anaconda3\\envs\\recsys\\lib\\site-packages (from python-dateutil>=2.8.2->pandas) (1.17.0)\n",
      "Requirement already satisfied: MarkupSafe>=2.0 in c:\\users\\40766\\anaconda3\\envs\\recsys\\lib\\site-packages (from jinja2->torch) (3.0.2)\n",
      "Requirement already satisfied: mpmath<1.4,>=1.1.0 in c:\\users\\40766\\anaconda3\\envs\\recsys\\lib\\site-packages (from sympy->torch) (1.3.0)\n",
      "Requirement already satisfied: torch-directml in c:\\users\\40766\\anaconda3\\envs\\recsys\\lib\\site-packages (0.2.5.dev240914)\n",
      "Requirement already satisfied: torch==2.4.1 in c:\\users\\40766\\anaconda3\\envs\\recsys\\lib\\site-packages (from torch-directml) (2.4.1)\n",
      "Requirement already satisfied: torchvision==0.19.1 in c:\\users\\40766\\anaconda3\\envs\\recsys\\lib\\site-packages (from torch-directml) (0.19.1)\n",
      "Requirement already satisfied: filelock in c:\\users\\40766\\anaconda3\\envs\\recsys\\lib\\site-packages (from torch==2.4.1->torch-directml) (3.19.1)\n",
      "Requirement already satisfied: typing-extensions>=4.8.0 in c:\\users\\40766\\anaconda3\\envs\\recsys\\lib\\site-packages (from torch==2.4.1->torch-directml) (4.15.0)\n",
      "Requirement already satisfied: sympy in c:\\users\\40766\\anaconda3\\envs\\recsys\\lib\\site-packages (from torch==2.4.1->torch-directml) (1.14.0)\n",
      "Requirement already satisfied: networkx in c:\\users\\40766\\anaconda3\\envs\\recsys\\lib\\site-packages (from torch==2.4.1->torch-directml) (3.4.2)\n",
      "Requirement already satisfied: jinja2 in c:\\users\\40766\\anaconda3\\envs\\recsys\\lib\\site-packages (from torch==2.4.1->torch-directml) (3.1.6)\n",
      "Requirement already satisfied: fsspec in c:\\users\\40766\\anaconda3\\envs\\recsys\\lib\\site-packages (from torch==2.4.1->torch-directml) (2025.9.0)\n",
      "Requirement already satisfied: numpy in c:\\users\\40766\\anaconda3\\envs\\recsys\\lib\\site-packages (from torchvision==0.19.1->torch-directml) (2.2.6)\n",
      "Requirement already satisfied: pillow!=8.3.*,>=5.3.0 in c:\\users\\40766\\anaconda3\\envs\\recsys\\lib\\site-packages (from torchvision==0.19.1->torch-directml) (11.3.0)\n",
      "Requirement already satisfied: MarkupSafe>=2.0 in c:\\users\\40766\\anaconda3\\envs\\recsys\\lib\\site-packages (from jinja2->torch==2.4.1->torch-directml) (3.0.2)\n",
      "Requirement already satisfied: mpmath<1.4,>=1.1.0 in c:\\users\\40766\\anaconda3\\envs\\recsys\\lib\\site-packages (from sympy->torch==2.4.1->torch-directml) (1.3.0)\n"
     ]
    }
   ],
   "execution_count": 1
  },
  {
   "cell_type": "code",
   "id": "0e3b0e3c-74d9-436b-b676-56bc2a8528a9",
   "metadata": {
    "colab": {
     "base_uri": "https://localhost:8080/"
    },
    "executionInfo": {
     "elapsed": 12,
     "status": "ok",
     "timestamp": 1761075925694,
     "user": {
      "displayName": "Kanta Tanahashi",
      "userId": "14493519528935864142"
     },
     "user_tz": -120
    },
    "id": "0e3b0e3c-74d9-436b-b676-56bc2a8528a9",
    "outputId": "2f83e57e-792e-4b09-8b94-8ed28d0d334e",
    "ExecuteTime": {
     "end_time": "2025-10-24T08:56:06.095331Z",
     "start_time": "2025-10-24T08:56:05.808306Z"
    }
   },
   "source": [
    "# For BERT embeddings (install: pip install transformers torch)\n",
    "print(\"Check the status of BERT installation:\")\n",
    "\n",
    "try:\n",
    "    from transformers import AutoTokenizer, AutoModel\n",
    "    import torch\n",
    "\n",
    "    BERT_AVAILABLE = True\n",
    "    directml_available = False\n",
    "    device = None\n",
    "\n",
    "    if torch.cuda.is_available():\n",
    "        device = torch.device(\"cuda\")\n",
    "    else:\n",
    "        # Try DirectML (Windows / AMD) if installed\n",
    "        try:\n",
    "            import torch_directml\n",
    "            dml_device = torch_directml.device()\n",
    "            for i in range(torch_directml.device_count()):\n",
    "                print(f\"  Device {i}: {torch_directml.device_name(i)}\")\n",
    "            device = dml_device\n",
    "            directml_available = True\n",
    "        except Exception:\n",
    "            # Try Apple MPS\n",
    "            if getattr(torch.backends, \"mps\", None) is not None and torch.backends.mps.is_available():\n",
    "                device = torch.device(\"mps\")\n",
    "            else:\n",
    "                # Fallback to CPU\n",
    "                device = torch.device(\"cpu\")\n",
    "\n",
    "    print(\"BERT libraries loaded successfully!\")\n",
    "    # device = torch.device('cuda' if torch.cuda.is_available() else 'mps')\n",
    "    print(\"torch version:\", torch.__version__)\n",
    "    print(\"CUDA available:\", torch.cuda.is_available(), \" CUDA devices:\", torch.cuda.device_count() if torch.cuda.is_available() else 0)\n",
    "    print(\"MPS available:\", getattr(torch.backends, \"mps\", None) is not None and torch.backends.mps.is_available())\n",
    "    print(\"DirectML available:\", directml_available)\n",
    "    print(\"Using device:\", device)\n",
    "except ImportError:\n",
    "    BERT_AVAILABLE = False\n",
    "    import torch\n",
    "    device = torch.device(\"cpu\")\n",
    "    directml_available = False\n",
    "    print(\"BERT libraries not available. Install with: pip install transformers torch\")\n",
    "    print(\"Using device:\", device)"
   ],
   "outputs": [
    {
     "name": "stdout",
     "output_type": "stream",
     "text": [
      "Check the status of BERT installation:\n",
      "  Device 0: AMD Radeon RX 6800M\u0000\n",
      "  Device 1: AMD Radeon(TM) Graphics\u0000\n",
      "BERT libraries loaded successfully!\n",
      "torch version: 2.4.1+cpu\n",
      "CUDA available: False  CUDA devices: 0\n",
      "MPS available: False\n",
      "DirectML available: True\n",
      "Using device: privateuseone:0\n"
     ]
    }
   ],
   "execution_count": 35
  },
  {
   "cell_type": "code",
   "id": "8055513b-9f14-4d18-b32a-7c2ee386e6e3",
   "metadata": {
    "colab": {
     "base_uri": "https://localhost:8080/"
    },
    "executionInfo": {
     "elapsed": 6,
     "status": "ok",
     "timestamp": 1761075925700,
     "user": {
      "displayName": "Kanta Tanahashi",
      "userId": "14493519528935864142"
     },
     "user_tz": -120
    },
    "id": "8055513b-9f14-4d18-b32a-7c2ee386e6e3",
    "outputId": "1d4104d8-9733-4c2e-a3ea-c6986b497b23",
    "ExecuteTime": {
     "end_time": "2025-10-24T08:36:10.169246Z",
     "start_time": "2025-10-24T08:36:10.129672Z"
    }
   },
   "source": [
    "import numpy as np\n",
    "import pandas as pd\n",
    "import matplotlib.pyplot as plt\n",
    "import seaborn as sns\n",
    "from scipy.sparse import csr_matrix\n",
    "from scipy.spatial.distance import cosine, correlation\n",
    "from sklearn.metrics import mean_squared_error, mean_absolute_error\n",
    "from sklearn.model_selection import train_test_split\n",
    "from sklearn.feature_extraction.text import TfidfVectorizer\n",
    "from sklearn.metrics.pairwise import cosine_similarity, euclidean_distances\n",
    "from sklearn.preprocessing import StandardScaler, MultiLabelBinarizer\n",
    "from collections import defaultdict\n",
    "import torch\n",
    "import torch.nn as nn\n",
    "import torch.optim as optim\n",
    "import re\n",
    "import time, math\n",
    "from tqdm import tqdm\n",
    "import random\n",
    "import itertools\n",
    "import json\n",
    "import warnings\n",
    "warnings.filterwarnings('ignore')\n",
    "\n",
    "print(\"Libraries imported successfully!\")"
   ],
   "outputs": [
    {
     "name": "stdout",
     "output_type": "stream",
     "text": [
      "Libraries imported successfully!\n"
     ]
    }
   ],
   "execution_count": 3
  },
  {
   "cell_type": "markdown",
   "id": "0b83b831",
   "metadata": {},
   "source": [
    "### Here we set the random seed to 10 in order to ensure reproducibility of the experiments."
   ]
  },
  {
   "cell_type": "code",
   "id": "VFxfSxh-Oztd",
   "metadata": {
    "executionInfo": {
     "elapsed": 1,
     "status": "ok",
     "timestamp": 1761075925702,
     "user": {
      "displayName": "Kanta Tanahashi",
      "userId": "14493519528935864142"
     },
     "user_tz": -120
    },
    "id": "VFxfSxh-Oztd",
    "ExecuteTime": {
     "end_time": "2025-10-24T08:36:12.195112Z",
     "start_time": "2025-10-24T08:36:12.183091Z"
    }
   },
   "source": [
    "SEED = 10\n",
    "\n",
    "# Python built-in random seed\n",
    "random.seed(SEED)\n",
    "\n",
    "# Numpy random seed\n",
    "np.random.seed(SEED)\n",
    "\n",
    "# PyTorch random seed (CPU)\n",
    "torch.manual_seed(SEED)\n",
    "\n",
    "# PyTorch random seed (GPU, if available)\n",
    "torch.cuda.manual_seed(SEED)\n",
    "torch.cuda.manual_seed_all(SEED)  # if using multi-GPU"
   ],
   "outputs": [],
   "execution_count": 4
  },
  {
   "cell_type": "code",
   "id": "eaaa06aa-00e8-4e4e-8ec9-907dffe0caf9",
   "metadata": {
    "ExecuteTime": {
     "end_time": "2025-10-24T08:36:15.414093Z",
     "start_time": "2025-10-24T08:36:15.407586Z"
    }
   },
   "source": [
    "# Compatibility for older numpy version\n",
    "try:\n",
    "    import numpy.core.numeric\n",
    "    import sys\n",
    "    sys.modules['numpy._core.numeric'] = numpy.core.numeric\n",
    "except ImportError:\n",
    "    pass"
   ],
   "outputs": [],
   "execution_count": 5
  },
  {
   "cell_type": "markdown",
   "id": "PKb-8I4DG1Pl",
   "metadata": {
    "id": "PKb-8I4DG1Pl"
   },
   "source": "## Mount Data Folder"
  },
  {
   "cell_type": "code",
   "id": "qdqyKhLeG08Z",
   "metadata": {
    "colab": {
     "base_uri": "https://localhost:8080/"
    },
    "executionInfo": {
     "elapsed": 1602,
     "status": "ok",
     "timestamp": 1761075927304,
     "user": {
      "displayName": "Kanta Tanahashi",
      "userId": "14493519528935864142"
     },
     "user_tz": -120
    },
    "id": "qdqyKhLeG08Z",
    "outputId": "bd28c4e8-8e6a-4e8c-cc01-328534a93a28",
    "ExecuteTime": {
     "end_time": "2025-10-24T08:36:19.144035Z",
     "start_time": "2025-10-24T08:36:19.138526Z"
    }
   },
   "source": [
    "import os\n",
    "\n",
    "# Use current directory as project root\n",
    "PROJECT_PATH = os.getcwd()  # e.g. /Users/yourname/Documents/Project-RecSys\n",
    "OUTPUTS_PATH = os.path.join(PROJECT_PATH, \"data\")\n",
    "\n",
    "# Make sure 'data' folder exists\n",
    "os.makedirs(OUTPUTS_PATH, exist_ok=True)\n",
    "\n",
    "print(\"Project Path:\", PROJECT_PATH)\n",
    "print(\"Data Path:\", OUTPUTS_PATH)"
   ],
   "outputs": [
    {
     "name": "stdout",
     "output_type": "stream",
     "text": [
      "Project Path: C:\\Users\\40766\\Desktop\\Recommender-Systems-Project\n",
      "Data Path: C:\\Users\\40766\\Desktop\\Recommender-Systems-Project\\data\n"
     ]
    }
   ],
   "execution_count": 6
  },
  {
   "cell_type": "code",
   "id": "HbPQYABRH2sW",
   "metadata": {
    "colab": {
     "base_uri": "https://localhost:8080/"
    },
    "executionInfo": {
     "elapsed": 39,
     "status": "ok",
     "timestamp": 1761075927345,
     "user": {
      "displayName": "Kanta Tanahashi",
      "userId": "14493519528935864142"
     },
     "user_tz": -120
    },
    "id": "HbPQYABRH2sW",
    "outputId": "b2f62e0a-b71b-4d94-ac4e-42bb41853549",
    "ExecuteTime": {
     "end_time": "2025-10-24T08:18:30.328860Z",
     "start_time": "2025-10-24T08:18:30.321169Z"
    }
   },
   "source": [
    "%cd $PROJECT_PATH"
   ],
   "outputs": [
    {
     "name": "stdout",
     "output_type": "stream",
     "text": [
      "C:\\Users\\40766\\Desktop\\Recommender-Systems-Project\n"
     ]
    }
   ],
   "execution_count": 7
  },
  {
   "cell_type": "markdown",
   "id": "fbbd1eff-8e8b-4f65-b92a-778107a256cc",
   "metadata": {
    "id": "fbbd1eff-8e8b-4f65-b92a-778107a256cc"
   },
   "source": [
    "# Load dataset"
   ]
  },
  {
   "cell_type": "code",
   "id": "d220e9dc-3a45-4d25-b214-23d6555cb34d",
   "metadata": {
    "colab": {
     "base_uri": "https://localhost:8080/",
     "height": 723
    },
    "executionInfo": {
     "elapsed": 983,
     "status": "ok",
     "timestamp": 1761075928330,
     "user": {
      "displayName": "Kanta Tanahashi",
      "userId": "14493519528935864142"
     },
     "user_tz": -120
    },
    "id": "d220e9dc-3a45-4d25-b214-23d6555cb34d",
    "outputId": "fe25085a-266c-4a53-d518-7c2c3975c242",
    "ExecuteTime": {
     "end_time": "2025-10-24T08:36:22.285403Z",
     "start_time": "2025-10-24T08:36:22.188144Z"
    }
   },
   "source": [
    "# loading the training set and test set\n",
    "columns_name=['user_id','item_id','rating','timestamp']\n",
    "train_data = pd.read_csv(f'{PROJECT_PATH}/training.txt', sep='\\t', names=columns_name)\n",
    "test_data = pd.read_csv(f'{PROJECT_PATH}/test.txt', sep='\\t', names=columns_name)\n",
    "\n",
    "# We take 20% of the original training set as validation\n",
    "train_data, val_data = train_test_split(\n",
    "    train_data,\n",
    "    test_size=0.2,         # 20% validation\n",
    "    random_state=10,       # ensure reproducibility\n",
    "    shuffle=True           # shuffle before splitting\n",
    ")\n",
    "\n",
    "print(f'The training data:')\n",
    "display(train_data[['user_id','item_id','rating']].head())\n",
    "print(f'The shape of the training data: {train_data.shape}')\n",
    "print('--------------------------------')\n",
    "print(f'The validation data:')\n",
    "display(val_data[['user_id','item_id','rating']].head())\n",
    "print(f'The shape of the validation data: {val_data.shape}')\n",
    "print('--------------------------------')\n",
    "print(f'The test data:')\n",
    "display(test_data[['user_id','item_id','rating']].head())\n",
    "print(f'The shape of the test data: {test_data.shape}')"
   ],
   "outputs": [
    {
     "name": "stdout",
     "output_type": "stream",
     "text": [
      "The training data:\n"
     ]
    },
    {
     "data": {
      "text/plain": [
       "       user_id  item_id  rating\n",
       "30548      450      482       5\n",
       "60209      747      179       5\n",
       "60230      747      211       5\n",
       "62326      766      176       2\n",
       "13422      251      429       4"
      ],
      "text/html": [
       "<div>\n",
       "<style scoped>\n",
       "    .dataframe tbody tr th:only-of-type {\n",
       "        vertical-align: middle;\n",
       "    }\n",
       "\n",
       "    .dataframe tbody tr th {\n",
       "        vertical-align: top;\n",
       "    }\n",
       "\n",
       "    .dataframe thead th {\n",
       "        text-align: right;\n",
       "    }\n",
       "</style>\n",
       "<table border=\"1\" class=\"dataframe\">\n",
       "  <thead>\n",
       "    <tr style=\"text-align: right;\">\n",
       "      <th></th>\n",
       "      <th>user_id</th>\n",
       "      <th>item_id</th>\n",
       "      <th>rating</th>\n",
       "    </tr>\n",
       "  </thead>\n",
       "  <tbody>\n",
       "    <tr>\n",
       "      <th>30548</th>\n",
       "      <td>450</td>\n",
       "      <td>482</td>\n",
       "      <td>5</td>\n",
       "    </tr>\n",
       "    <tr>\n",
       "      <th>60209</th>\n",
       "      <td>747</td>\n",
       "      <td>179</td>\n",
       "      <td>5</td>\n",
       "    </tr>\n",
       "    <tr>\n",
       "      <th>60230</th>\n",
       "      <td>747</td>\n",
       "      <td>211</td>\n",
       "      <td>5</td>\n",
       "    </tr>\n",
       "    <tr>\n",
       "      <th>62326</th>\n",
       "      <td>766</td>\n",
       "      <td>176</td>\n",
       "      <td>2</td>\n",
       "    </tr>\n",
       "    <tr>\n",
       "      <th>13422</th>\n",
       "      <td>251</td>\n",
       "      <td>429</td>\n",
       "      <td>4</td>\n",
       "    </tr>\n",
       "  </tbody>\n",
       "</table>\n",
       "</div>"
      ]
     },
     "metadata": {},
     "output_type": "display_data",
     "jetTransient": {
      "display_id": null
     }
    },
    {
     "name": "stdout",
     "output_type": "stream",
     "text": [
      "The shape of the training data: (64000, 4)\n",
      "--------------------------------\n",
      "The validation data:\n"
     ]
    },
    {
     "data": {
      "text/plain": [
       "       user_id  item_id  rating\n",
       "43012      561       23       5\n",
       "7447       131      536       5\n",
       "79413      936     1199       4\n",
       "13011      244      249       4\n",
       "60268      747      357       5"
      ],
      "text/html": [
       "<div>\n",
       "<style scoped>\n",
       "    .dataframe tbody tr th:only-of-type {\n",
       "        vertical-align: middle;\n",
       "    }\n",
       "\n",
       "    .dataframe tbody tr th {\n",
       "        vertical-align: top;\n",
       "    }\n",
       "\n",
       "    .dataframe thead th {\n",
       "        text-align: right;\n",
       "    }\n",
       "</style>\n",
       "<table border=\"1\" class=\"dataframe\">\n",
       "  <thead>\n",
       "    <tr style=\"text-align: right;\">\n",
       "      <th></th>\n",
       "      <th>user_id</th>\n",
       "      <th>item_id</th>\n",
       "      <th>rating</th>\n",
       "    </tr>\n",
       "  </thead>\n",
       "  <tbody>\n",
       "    <tr>\n",
       "      <th>43012</th>\n",
       "      <td>561</td>\n",
       "      <td>23</td>\n",
       "      <td>5</td>\n",
       "    </tr>\n",
       "    <tr>\n",
       "      <th>7447</th>\n",
       "      <td>131</td>\n",
       "      <td>536</td>\n",
       "      <td>5</td>\n",
       "    </tr>\n",
       "    <tr>\n",
       "      <th>79413</th>\n",
       "      <td>936</td>\n",
       "      <td>1199</td>\n",
       "      <td>4</td>\n",
       "    </tr>\n",
       "    <tr>\n",
       "      <th>13011</th>\n",
       "      <td>244</td>\n",
       "      <td>249</td>\n",
       "      <td>4</td>\n",
       "    </tr>\n",
       "    <tr>\n",
       "      <th>60268</th>\n",
       "      <td>747</td>\n",
       "      <td>357</td>\n",
       "      <td>5</td>\n",
       "    </tr>\n",
       "  </tbody>\n",
       "</table>\n",
       "</div>"
      ]
     },
     "metadata": {},
     "output_type": "display_data",
     "jetTransient": {
      "display_id": null
     }
    },
    {
     "name": "stdout",
     "output_type": "stream",
     "text": [
      "The shape of the validation data: (16000, 4)\n",
      "--------------------------------\n",
      "The test data:\n"
     ]
    },
    {
     "data": {
      "text/plain": [
       "   user_id  item_id  rating\n",
       "0        1        6       5\n",
       "1        1       10       3\n",
       "2        1       12       5\n",
       "3        1       14       5\n",
       "4        1       17       3"
      ],
      "text/html": [
       "<div>\n",
       "<style scoped>\n",
       "    .dataframe tbody tr th:only-of-type {\n",
       "        vertical-align: middle;\n",
       "    }\n",
       "\n",
       "    .dataframe tbody tr th {\n",
       "        vertical-align: top;\n",
       "    }\n",
       "\n",
       "    .dataframe thead th {\n",
       "        text-align: right;\n",
       "    }\n",
       "</style>\n",
       "<table border=\"1\" class=\"dataframe\">\n",
       "  <thead>\n",
       "    <tr style=\"text-align: right;\">\n",
       "      <th></th>\n",
       "      <th>user_id</th>\n",
       "      <th>item_id</th>\n",
       "      <th>rating</th>\n",
       "    </tr>\n",
       "  </thead>\n",
       "  <tbody>\n",
       "    <tr>\n",
       "      <th>0</th>\n",
       "      <td>1</td>\n",
       "      <td>6</td>\n",
       "      <td>5</td>\n",
       "    </tr>\n",
       "    <tr>\n",
       "      <th>1</th>\n",
       "      <td>1</td>\n",
       "      <td>10</td>\n",
       "      <td>3</td>\n",
       "    </tr>\n",
       "    <tr>\n",
       "      <th>2</th>\n",
       "      <td>1</td>\n",
       "      <td>12</td>\n",
       "      <td>5</td>\n",
       "    </tr>\n",
       "    <tr>\n",
       "      <th>3</th>\n",
       "      <td>1</td>\n",
       "      <td>14</td>\n",
       "      <td>5</td>\n",
       "    </tr>\n",
       "    <tr>\n",
       "      <th>4</th>\n",
       "      <td>1</td>\n",
       "      <td>17</td>\n",
       "      <td>3</td>\n",
       "    </tr>\n",
       "  </tbody>\n",
       "</table>\n",
       "</div>"
      ]
     },
     "metadata": {},
     "output_type": "display_data",
     "jetTransient": {
      "display_id": null
     }
    },
    {
     "name": "stdout",
     "output_type": "stream",
     "text": [
      "The shape of the test data: (20000, 4)\n"
     ]
    }
   ],
   "execution_count": 7
  },
  {
   "cell_type": "code",
   "id": "1e84160d-ef0e-4e58-8ace-307fb8cd5a79",
   "metadata": {
    "colab": {
     "base_uri": "https://localhost:8080/",
     "height": 206
    },
    "executionInfo": {
     "elapsed": 744,
     "status": "ok",
     "timestamp": 1761075929075,
     "user": {
      "displayName": "Kanta Tanahashi",
      "userId": "14493519528935864142"
     },
     "user_tz": -120
    },
    "id": "1e84160d-ef0e-4e58-8ace-307fb8cd5a79",
    "outputId": "22bc8616-1069-4cd1-e1dd-1a2d27572027",
    "ExecuteTime": {
     "end_time": "2025-10-24T08:18:52.301563Z",
     "start_time": "2025-10-24T08:18:52.201180Z"
    }
   },
   "source": [
    "movies = pd.read_csv(f'{PROJECT_PATH}/movies.txt',names=['item_id','title','genres','description'],sep='\\t')\n",
    "movies.head()"
   ],
   "outputs": [
    {
     "data": {
      "text/plain": [
       "   item_id              title                         genres  \\\n",
       "0        1   Toy Story (1995)  Animation, Children's, Comedy   \n",
       "1        2   GoldenEye (1995)    Action, Adventure, Thriller   \n",
       "2        3  Four Rooms (1995)                       Thriller   \n",
       "3        4  Get Shorty (1995)          Action, Comedy, Drama   \n",
       "4        5     Copycat (1995)         Crime, Drama, Thriller   \n",
       "\n",
       "                                         description  \n",
       "0  A group of sentient toys, who pretend to be li...  \n",
       "1  In 1986, MI6 agents James Bond and Alec Trevel...  \n",
       "2  On New Year's Eve, bellhop Sam (Marc Lawrence)...  \n",
       "3  Chili Palmer is a Miami-based loan shark and m...  \n",
       "4  After giving a guest lecture on criminal psych...  "
      ],
      "text/html": [
       "<div>\n",
       "<style scoped>\n",
       "    .dataframe tbody tr th:only-of-type {\n",
       "        vertical-align: middle;\n",
       "    }\n",
       "\n",
       "    .dataframe tbody tr th {\n",
       "        vertical-align: top;\n",
       "    }\n",
       "\n",
       "    .dataframe thead th {\n",
       "        text-align: right;\n",
       "    }\n",
       "</style>\n",
       "<table border=\"1\" class=\"dataframe\">\n",
       "  <thead>\n",
       "    <tr style=\"text-align: right;\">\n",
       "      <th></th>\n",
       "      <th>item_id</th>\n",
       "      <th>title</th>\n",
       "      <th>genres</th>\n",
       "      <th>description</th>\n",
       "    </tr>\n",
       "  </thead>\n",
       "  <tbody>\n",
       "    <tr>\n",
       "      <th>0</th>\n",
       "      <td>1</td>\n",
       "      <td>Toy Story (1995)</td>\n",
       "      <td>Animation, Children's, Comedy</td>\n",
       "      <td>A group of sentient toys, who pretend to be li...</td>\n",
       "    </tr>\n",
       "    <tr>\n",
       "      <th>1</th>\n",
       "      <td>2</td>\n",
       "      <td>GoldenEye (1995)</td>\n",
       "      <td>Action, Adventure, Thriller</td>\n",
       "      <td>In 1986, MI6 agents James Bond and Alec Trevel...</td>\n",
       "    </tr>\n",
       "    <tr>\n",
       "      <th>2</th>\n",
       "      <td>3</td>\n",
       "      <td>Four Rooms (1995)</td>\n",
       "      <td>Thriller</td>\n",
       "      <td>On New Year's Eve, bellhop Sam (Marc Lawrence)...</td>\n",
       "    </tr>\n",
       "    <tr>\n",
       "      <th>3</th>\n",
       "      <td>4</td>\n",
       "      <td>Get Shorty (1995)</td>\n",
       "      <td>Action, Comedy, Drama</td>\n",
       "      <td>Chili Palmer is a Miami-based loan shark and m...</td>\n",
       "    </tr>\n",
       "    <tr>\n",
       "      <th>4</th>\n",
       "      <td>5</td>\n",
       "      <td>Copycat (1995)</td>\n",
       "      <td>Crime, Drama, Thriller</td>\n",
       "      <td>After giving a guest lecture on criminal psych...</td>\n",
       "    </tr>\n",
       "  </tbody>\n",
       "</table>\n",
       "</div>"
      ]
     },
     "execution_count": 9,
     "metadata": {},
     "output_type": "execute_result"
    }
   ],
   "execution_count": 9
  },
  {
   "cell_type": "code",
   "id": "mHVb4DYUG3oN",
   "metadata": {
    "colab": {
     "base_uri": "https://localhost:8080/"
    },
    "executionInfo": {
     "elapsed": 7,
     "status": "ok",
     "timestamp": 1761075929083,
     "user": {
      "displayName": "Kanta Tanahashi",
      "userId": "14493519528935864142"
     },
     "user_tz": -120
    },
    "id": "mHVb4DYUG3oN",
    "outputId": "57d3585d-5f95-4666-f5e2-755cdc59823d",
    "ExecuteTime": {
     "end_time": "2025-10-24T08:51:37.198552Z",
     "start_time": "2025-10-24T08:51:37.192040Z"
    }
   },
   "source": [
    "num_users = train_data['user_id'].max()\n",
    "num_items = train_data['item_id'].max()\n",
    "# device = torch.device('cuda' if torch.cuda.is_available() else 'cpu')\n",
    "print(f'Number of users: {num_users}, Number of items: {num_items}, Using device: {device}')"
   ],
   "outputs": [
    {
     "name": "stdout",
     "output_type": "stream",
     "text": [
      "Number of users: 943, Number of items: 1682, Using device: privateuseone:1\n"
     ]
    }
   ],
   "execution_count": 31
  },
  {
   "cell_type": "markdown",
   "id": "aEJbEr7PRARh",
   "metadata": {
    "id": "aEJbEr7PRARh"
   },
   "source": [
    "# Helper Functions"
   ]
  },
  {
   "cell_type": "code",
   "id": "yNqWrIq35fZ5",
   "metadata": {
    "executionInfo": {
     "elapsed": 32,
     "status": "ok",
     "timestamp": 1761075929115,
     "user": {
      "displayName": "Kanta Tanahashi",
      "userId": "14493519528935864142"
     },
     "user_tz": -120
    },
    "id": "yNqWrIq35fZ5",
    "ExecuteTime": {
     "end_time": "2025-10-24T08:36:43.517434Z",
     "start_time": "2025-10-24T08:36:43.505413Z"
    }
   },
   "source": [
    "# Create embeddings of the movie items\n",
    "def create_bert_embeddings(content):\n",
    "    \"\"\"\n",
    "    Generate BERT embeddings for movie content.\n",
    "\n",
    "    Args:\n",
    "        content: Content of items\n",
    "\n",
    "    Returns:\n",
    "        numpy.ndarray: BERT embeddings matrix\n",
    "    \"\"\"\n",
    "    if not BERT_AVAILABLE:\n",
    "        print(\"BERT libraries not available. Install with: pip install transformers torch\")\n",
    "        return None\n",
    "\n",
    "    if content is None:\n",
    "        return None\n",
    "\n",
    "    if isinstance(content, pd.Series):\n",
    "        content = content.fillna(\"\").astype(str).tolist()\n",
    "    elif isinstance(content, np.ndarray):\n",
    "        content = content.astype(str).tolist()\n",
    "\n",
    "    model_name = 'distilbert-base-uncased'\n",
    "\n",
    "    print(f\"Loading BERT model: {model_name}\")\n",
    "\n",
    "    # Load tokenizer and model\n",
    "    tokenizer = AutoTokenizer.from_pretrained(model_name)\n",
    "    model = AutoModel.from_pretrained(model_name)\n",
    "\n",
    "    # Set device (GPU if available)\n",
    "    # device = torch.device('cuda' if torch.cuda.is_available() else 'cpu')\n",
    "    print(f\"Using: {device}\")\n",
    "    model.to(device)\n",
    "    model.eval()\n",
    "\n",
    "    print(f\"Using device: {device}\")\n",
    "\n",
    "    # Generate embeddings in batches\n",
    "    batch_size = 32  # Adjust based on available memory\n",
    "    emb = []\n",
    "\n",
    "    for i in range(0, len(content), batch_size):\n",
    "        if i % (batch_size * 10) == 0:\n",
    "            print(f\"Processing batch {i//batch_size + 1}/{len(content)//batch_size + 1}\")\n",
    "\n",
    "        batch_texts = content[i:i + batch_size]\n",
    "\n",
    "        # Tokenize batch\n",
    "        inputs = tokenizer(\n",
    "            batch_texts,\n",
    "            padding=True,\n",
    "            truncation=True,\n",
    "            max_length=512,\n",
    "            return_tensors='pt'\n",
    "        )\n",
    "\n",
    "        # Move to device\n",
    "        inputs = {k: v.to(device) for k, v in inputs.items()}\n",
    "\n",
    "        # Generate embeddings\n",
    "        with torch.no_grad():\n",
    "            outputs = model(**inputs)\n",
    "\n",
    "            # Use [CLS] token embedding (first token)\n",
    "            batch_embeddings = outputs.last_hidden_state[:, 0, :].cpu().numpy()\n",
    "            emb.extend(batch_embeddings)\n",
    "\n",
    "    emb = np.array(emb)\n",
    "\n",
    "    print(f\"BERT embeddings generated: {emb.shape}\")\n",
    "    print(f\"Embedding dimension: {emb.shape[1]}\")\n",
    "\n",
    "    return emb"
   ],
   "outputs": [],
   "execution_count": 10
  },
  {
   "cell_type": "markdown",
   "id": "UMSyrb1wSIzX",
   "metadata": {
    "id": "UMSyrb1wSIzX"
   },
   "source": [
    "## Get the item embeddings and then save them to Google Drive\n",
    "\n"
   ]
  },
  {
   "cell_type": "code",
   "id": "2hJEthiyQjbc",
   "metadata": {
    "colab": {
     "base_uri": "https://localhost:8080/"
    },
    "executionInfo": {
     "elapsed": 2071,
     "status": "ok",
     "timestamp": 1761075931206,
     "user": {
      "displayName": "Kanta Tanahashi",
      "userId": "14493519528935864142"
     },
     "user_tz": -120
    },
    "id": "2hJEthiyQjbc",
    "outputId": "5aaeb8d0-0181-4bf2-c2cc-a4fca3245003",
    "ExecuteTime": {
     "end_time": "2025-10-24T08:36:47.648296Z",
     "start_time": "2025-10-24T08:36:47.595131Z"
    }
   },
   "source": [
    "# Three diffrent content representation (title + genre, description, title + genre + description)\n",
    "\n",
    "import os\n",
    "# Create a subfolder for saved outputs to avoid performing expensive computations multiple times\n",
    "os.makedirs(OUTPUTS_PATH, exist_ok=True)\n",
    "\n",
    "# Define the file paths for each of the three embedding arrays\n",
    "path_titlegenres = os.path.join(OUTPUTS_PATH, \"item_emb_titlegenres.npy\")\n",
    "path_description = os.path.join(OUTPUTS_PATH, \"item_emb_description.npy\")\n",
    "path_full = os.path.join(OUTPUTS_PATH, \"item_emb_full.npy\")\n",
    "\n",
    "if os.path.exists(path_titlegenres):\n",
    "    print(f\"Loading Title+Genres embeddings from: {path_titlegenres} 💾\")\n",
    "    item_emb_titlegenres = np.load(path_titlegenres)\n",
    "    print(\"✅ Loaded successfully!\")\n",
    "else:\n",
    "    print(\"Computing Title+Genres embeddings... ⏳\")\n",
    "    title_genres = movies[\"title\"] + ' ' + movies[\"genres\"]\n",
    "    item_emb_titlegenres = create_bert_embeddings(title_genres)\n",
    "    np.save(path_titlegenres, item_emb_titlegenres)\n",
    "    print(f\"✅ Computed and saved to shared drive for future use!\")\n",
    "\n",
    "if os.path.exists(path_description):\n",
    "    print(f\"\\nLoading Description embeddings from: {path_description} 💾\")\n",
    "    item_emb_description = np.load(path_description)\n",
    "    print(\"✅ Loaded successfully!\")\n",
    "else:\n",
    "    print(\"\\nComputing Description embeddings... ⏳\")\n",
    "    item_emb_description = create_bert_embeddings(movies[\"description\"])\n",
    "    np.save(path_description, item_emb_description)\n",
    "    print(f\"✅ Computed and saved to shared drive for future use!\")\n",
    "\n",
    "if os.path.exists(path_full):\n",
    "    print(f\"\\nLoading Full Content embeddings from: {path_full} 💾\")\n",
    "    item_emb_full = np.load(path_full)\n",
    "    print(\"✅ Loaded successfully!\")\n",
    "else:\n",
    "    print(\"\\nComputing Full Content embeddings... ⏳\")\n",
    "    title_genres_description = movies[\"title\"] + ' ' + movies[\"genres\"] + ' ' + movies[\"description\"]\n",
    "    item_emb_full = create_bert_embeddings(title_genres_description)\n",
    "    np.save(path_full, item_emb_full)\n",
    "    print(f\"✅ Computed and saved to shared drive for future use!\")\n",
    "\n",
    "print(\"\\n--- Final Embedding Shapes ---\")\n",
    "print(f\"Title+Genres: {item_emb_titlegenres.shape}\")\n",
    "print(f\"Description:  {item_emb_description.shape}\")\n",
    "print(f\"Full Content: {item_emb_full.shape}\")"
   ],
   "outputs": [
    {
     "name": "stdout",
     "output_type": "stream",
     "text": [
      "Loading Title+Genres embeddings from: C:\\Users\\40766\\Desktop\\Recommender-Systems-Project\\data\\item_emb_titlegenres.npy 💾\n",
      "✅ Loaded successfully!\n",
      "\n",
      "Loading Description embeddings from: C:\\Users\\40766\\Desktop\\Recommender-Systems-Project\\data\\item_emb_description.npy 💾\n",
      "✅ Loaded successfully!\n",
      "\n",
      "Loading Full Content embeddings from: C:\\Users\\40766\\Desktop\\Recommender-Systems-Project\\data\\item_emb_full.npy 💾\n",
      "✅ Loaded successfully!\n",
      "\n",
      "--- Final Embedding Shapes ---\n",
      "Title+Genres: (1682, 768)\n",
      "Description:  (1682, 768)\n",
      "Full Content: (1682, 768)\n"
     ]
    }
   ],
   "execution_count": 11
  },
  {
   "cell_type": "code",
   "id": "7adeb076",
   "metadata": {
    "ExecuteTime": {
     "end_time": "2025-10-24T08:37:01.737714Z",
     "start_time": "2025-10-24T08:37:01.734204Z"
    }
   },
   "source": [
    "# Get item embedding based on item ID (item id starts at 1)\n",
    "def get_item_emb(item_id, content_type):\n",
    "    emb = None\n",
    "\n",
    "    if content_type == \"title_genres\":\n",
    "        emb = item_emb_titlegenres[item_id - 1]\n",
    "    elif content_type == \"description\":\n",
    "        emb = item_emb_description[item_id - 1]\n",
    "    elif content_type == \"full\":\n",
    "        emb = item_emb_full[item_id - 1]\n",
    "\n",
    "    return emb"
   ],
   "outputs": [],
   "execution_count": 12
  },
  {
   "cell_type": "code",
   "id": "KZiVQ-F1SS72",
   "metadata": {
    "executionInfo": {
     "elapsed": 1,
     "status": "ok",
     "timestamp": 1761075931209,
     "user": {
      "displayName": "Kanta Tanahashi",
      "userId": "14493519528935864142"
     },
     "user_tz": -120
    },
    "id": "KZiVQ-F1SS72",
    "ExecuteTime": {
     "end_time": "2025-10-24T08:37:03.495249Z",
     "start_time": "2025-10-24T08:37:03.488741Z"
    }
   },
   "source": [
    "# Given content type (title+genres, description, or title+genres+description) returns the embeddings and ratings of interacted items by user_id\n",
    "def get_interacted_items_embs_rating(train_data, user_id, content_type):\n",
    "    embs, ratings = [], []\n",
    "\n",
    "    # use train_data to retrieve the item_ids that target user interacted\n",
    "    items_and_ratings = train_data[train_data[\"user_id\"] == user_id][['item_id', 'rating']]\n",
    "    item_ids = items_and_ratings['item_id']\n",
    "    ratings = items_and_ratings['rating'].tolist()\n",
    "\n",
    "    indices = [i - 1 for i in item_ids]\n",
    "\n",
    "    if content_type == \"title_genres\":\n",
    "        embs = item_emb_titlegenres[indices]\n",
    "    elif content_type == \"description\":\n",
    "        embs = item_emb_description[indices]\n",
    "    elif content_type == \"full\":\n",
    "        embs = item_emb_full[indices]\n",
    "\n",
    "    return embs, ratings\n",
    "\n",
    "# given content type (title+genres, description, or title+genres+description) and aggregation method (avg, weighted_avg, avg_pos) returns the representation of a user.\n",
    "def get_user_emb(train_data, user_id, content_type, aggregation_method):\n",
    "\n",
    "    emb = []\n",
    "\n",
    "    # obtain item embeddings and corresponding ratings of the items that the user has interacted with\n",
    "    item_embs, ratings = get_interacted_items_embs_rating(\n",
    "        train_data, user_id, content_type\n",
    "    )\n",
    "\n",
    "    interacted_ratings = np.array(ratings)\n",
    "\n",
    "    if aggregation_method == 'avg':\n",
    "        emb = np.mean(item_embs, axis=0)\n",
    "\n",
    "    elif aggregation_method == 'weighted_avg':\n",
    "        emb = np.average(item_embs, axis=0, weights=interacted_ratings)\n",
    "\n",
    "    elif aggregation_method == 'avg_pos':\n",
    "        ratings = np.array(ratings)\n",
    "\n",
    "        # Filter for only positively rated items above 4\n",
    "        positive_mask = ratings >= 4\n",
    "        positive_embs = item_embs[positive_mask]\n",
    "\n",
    "        if len(positive_embs) > 0:\n",
    "            emb = np.mean(positive_embs, axis=0)\n",
    "        else:\n",
    "            emb = np.zeros(item_embs.shape[1])\n",
    "\n",
    "    return emb"
   ],
   "outputs": [],
   "execution_count": 13
  },
  {
   "cell_type": "code",
   "id": "BTNETH4r9rHM",
   "metadata": {
    "executionInfo": {
     "elapsed": 15,
     "status": "ok",
     "timestamp": 1761075931225,
     "user": {
      "displayName": "Kanta Tanahashi",
      "userId": "14493519528935864142"
     },
     "user_tz": -120
    },
    "id": "BTNETH4r9rHM",
    "ExecuteTime": {
     "end_time": "2025-10-24T08:37:07.068013Z",
     "start_time": "2025-10-24T08:37:07.062502Z"
    }
   },
   "source": [
    "def RMSE(actual_rating, pred_rating):\n",
    "    # Implement a function that computes RMSE error between actual ratings and predicted ratings.\n",
    "    # Note that actual_ratings and pred_ratings are lists.\n",
    "\n",
    "    result = 0.0\n",
    "\n",
    "    ############# Your code here ############\n",
    "    result = np.mean((np.array(pred_rating) - np.array(actual_rating))**2)**(1/2)\n",
    "    #########################################\n",
    "\n",
    "    return result"
   ],
   "outputs": [],
   "execution_count": 14
  },
  {
   "cell_type": "markdown",
   "id": "1d50b57f-b07a-49b0-ad8c-31566a355cc7",
   "metadata": {
    "id": "1d50b57f-b07a-49b0-ad8c-31566a355cc7"
   },
   "source": [
    "# Task 1) Implementation of different recommendation models as well as a hybrid model combining those recommendation models"
   ]
  },
  {
   "cell_type": "code",
   "id": "q03p6xVQJajO",
   "metadata": {
    "colab": {
     "base_uri": "https://localhost:8080/"
    },
    "executionInfo": {
     "elapsed": 4,
     "status": "ok",
     "timestamp": 1761075931240,
     "user": {
      "displayName": "Kanta Tanahashi",
      "userId": "14493519528935864142"
     },
     "user_tz": -120
    },
    "id": "q03p6xVQJajO",
    "outputId": "1a86b99e-2add-44f8-bfbb-9c119023ddfd",
    "ExecuteTime": {
     "end_time": "2025-10-24T08:57:03.818962Z",
     "start_time": "2025-10-24T08:57:03.813963Z"
    }
   },
   "source": [
    "# device = 'cuda' if torch.cuda.is_available() else 'mps'\n",
    "print(f'Using device: {device}')"
   ],
   "outputs": [
    {
     "name": "stdout",
     "output_type": "stream",
     "text": [
      "Using device: privateuseone:0\n"
     ]
    }
   ],
   "execution_count": 36
  },
  {
   "cell_type": "markdown",
   "id": "5N4IVgQQQTqh",
   "metadata": {
    "id": "5N4IVgQQQTqh"
   },
   "source": [
    "## 1.1 Content Based Recommendation model\n"
   ]
  },
  {
   "cell_type": "code",
   "id": "fUL-_XFEQORn",
   "metadata": {
    "executionInfo": {
     "elapsed": 40,
     "status": "ok",
     "timestamp": 1761075931281,
     "user": {
      "displayName": "Kanta Tanahashi",
      "userId": "14493519528935864142"
     },
     "user_tz": -120
    },
    "id": "fUL-_XFEQORn",
    "ExecuteTime": {
     "end_time": "2025-10-24T08:39:21.735480Z",
     "start_time": "2025-10-24T08:39:21.729459Z"
    }
   },
   "source": [
    "# compute the predicted rating for a user-item pair\n",
    "def get_user_item_prediction_content_based(train_data, user_id, item_id, content_type, aggregation_method):\n",
    "    pred_rating = 0.0\n",
    "\n",
    "    user_embedding = get_user_emb(train_data, user_id, content_type, aggregation_method)\n",
    "    item_embedding = get_item_emb(item_id, content_type)\n",
    "\n",
    "    pred_rating = np.dot(user_embedding, item_embedding)\n",
    "\n",
    "    return pred_rating"
   ],
   "outputs": [],
   "execution_count": 16
  },
  {
   "cell_type": "code",
   "id": "f55e25ab-353d-4a7c-bf68-9deb201bfbb6",
   "metadata": {
    "colab": {
     "base_uri": "https://localhost:8080/"
    },
    "executionInfo": {
     "elapsed": 6,
     "status": "ok",
     "timestamp": 1761075931282,
     "user": {
      "displayName": "Kanta Tanahashi",
      "userId": "14493519528935864142"
     },
     "user_tz": -120
    },
    "id": "f55e25ab-353d-4a7c-bf68-9deb201bfbb6",
    "outputId": "c18dc90f-0a59-4ff1-8aa9-9928c8e73bd2",
    "ExecuteTime": {
     "end_time": "2025-10-24T08:39:23.745754Z",
     "start_time": "2025-10-24T08:39:23.739688Z"
    }
   },
   "source": [
    "user_id, item_id = 100, 266\n",
    "content_type, aggregation_method = 'full', 'avg' # alternatives are content_type={title_genres,description,full} and aggregation_method={avg,weighted_avg,avg_pos}\n",
    "print('Predicted score for user_id=100 and item_id=266 for content type '+content_type+' and aggregation method '+aggregation_method+':')\n",
    "print(get_user_item_prediction_content_based(train_data, user_id, item_id, content_type, aggregation_method))"
   ],
   "outputs": [
    {
     "name": "stdout",
     "output_type": "stream",
     "text": [
      "Predicted score for user_id=100 and item_id=266 for content type full and aggregation method avg:\n",
      "143.18022\n"
     ]
    }
   ],
   "execution_count": 17
  },
  {
   "cell_type": "markdown",
   "id": "9aa3f82e",
   "metadata": {},
   "source": [
    "### Function that generates top-k recommendation list for a target user with user-based recommendataion"
   ]
  },
  {
   "cell_type": "code",
   "id": "0a3244e0",
   "metadata": {
    "ExecuteTime": {
     "end_time": "2025-10-24T08:39:29.842545Z",
     "start_time": "2025-10-24T08:39:28.562543Z"
    }
   },
   "source": [
    "def recommend_topk_content_based(train_data, target_user, k, content_type, aggregation_method):\n",
    "    \"\"\"\n",
    "    Generate Top-K recommendations for a target user using Content-based CF.\n",
    "\n",
    "    Args:\n",
    "        train_data (pd.DataFrame): ratings data with columns [user_id, item_id, rating]\n",
    "        target_user (int): user_id of the target user\n",
    "        k (int): number of items to recommend\n",
    "\n",
    "    Returns:\n",
    "        list of (item_id, predicted_score) sorted by score desc\n",
    "    \"\"\"\n",
    "    result = []\n",
    "\n",
    "    user_rated_items = set(train_data[train_data[\"user_id\"] == target_user][\"item_id\"])\n",
    "    all_items = set(train_data[\"item_id\"].unique())\n",
    "    candidate_items = all_items - user_rated_items\n",
    "\n",
    "    predictions = []\n",
    "    for item_id in candidate_items:\n",
    "        pred_rating = get_user_item_prediction_content_based(\n",
    "            train_data,\n",
    "            target_user,\n",
    "            item_id,\n",
    "            content_type,\n",
    "            aggregation_method\n",
    "        )\n",
    "        if not np.isnan(pred_rating):  # only keep valid predictions\n",
    "            predictions.append((item_id, pred_rating))\n",
    "\n",
    "    ratings = [r for _, r in predictions]\n",
    "    min_rating, max_rating = min(ratings), max(ratings)\n",
    "\n",
    "    # print(f\"Min predicted rating: {min_rating}, Max predicted rating: {max_rating}\")\n",
    "    # print(predictions[:5])\n",
    "\n",
    "    if max_rating == min_rating:\n",
    "        mapped_ratings = [(3.0, i) for i, _ in predictions]\n",
    "    else:\n",
    "        mapped_ratings = [\n",
    "            (\n",
    "                i,\n",
    "                1 + (r - min_rating) * 4 / (max_rating - min_rating),\n",
    "            )\n",
    "            for i, r in predictions\n",
    "        ]\n",
    "\n",
    "    result = sorted(mapped_ratings, key=lambda x: x[1], reverse=True)[:k]\n",
    "\n",
    "    return result\n",
    "\n",
    "\n",
    "target_user, k = 1, 50\n",
    "recommendations = recommend_topk_content_based(train_data, target_user, k, content_type=\"full\", aggregation_method=\"weighted_avg\")\n",
    "print(\n",
    "    f\"Top-{k} recommendations for user {target_user} with content-based recommendation:\"\n",
    ")\n",
    "for item, score in recommendations:\n",
    "    print(f\"Item {item}: {score:.4f}\")"
   ],
   "outputs": [
    {
     "name": "stdout",
     "output_type": "stream",
     "text": [
      "Top-50 recommendations for user 1 with content-based recommendation:\n",
      "Item 1640: 5.0000\n",
      "Item 1573: 4.9456\n",
      "Item 1423: 4.9108\n",
      "Item 1397: 4.9056\n",
      "Item 1103: 4.8623\n",
      "Item 1208: 4.8320\n",
      "Item 403: 4.7619\n",
      "Item 387: 4.7597\n",
      "Item 715: 4.7546\n",
      "Item 1250: 4.7451\n",
      "Item 385: 4.7150\n",
      "Item 56: 4.7141\n",
      "Item 724: 4.7095\n",
      "Item 781: 4.7066\n",
      "Item 147: 4.6818\n",
      "Item 637: 4.6715\n",
      "Item 916: 4.6684\n",
      "Item 381: 4.6578\n",
      "Item 345: 4.6530\n",
      "Item 1110: 4.6482\n",
      "Item 450: 4.6460\n",
      "Item 398: 4.6308\n",
      "Item 1048: 4.6285\n",
      "Item 396: 4.6223\n",
      "Item 1210: 4.6199\n",
      "Item 893: 4.6151\n",
      "Item 328: 4.6093\n",
      "Item 974: 4.6090\n",
      "Item 405: 4.6011\n",
      "Item 631: 4.6004\n",
      "Item 1605: 4.5987\n",
      "Item 229: 4.5976\n",
      "Item 228: 4.5894\n",
      "Item 317: 4.5888\n",
      "Item 424: 4.5875\n",
      "Item 771: 4.5612\n",
      "Item 406: 4.5578\n",
      "Item 791: 4.5561\n",
      "Item 803: 4.5549\n",
      "Item 375: 4.5532\n",
      "Item 429: 4.5523\n",
      "Item 507: 4.5511\n",
      "Item 298: 4.5502\n",
      "Item 691: 4.5285\n",
      "Item 751: 4.5280\n",
      "Item 800: 4.5279\n",
      "Item 386: 4.5265\n",
      "Item 327: 4.5254\n",
      "Item 264: 4.5234\n",
      "Item 1277: 4.5213\n"
     ]
    }
   ],
   "execution_count": 18
  },
  {
   "cell_type": "markdown",
   "id": "aiKjcrm8VANo",
   "metadata": {
    "id": "aiKjcrm8VANo"
   },
   "source": [
    "### Computing RMSE of the content-based recommendation model\n"
   ]
  },
  {
   "cell_type": "code",
   "id": "lGGd3MSGVgGe",
   "metadata": {
    "executionInfo": {
     "elapsed": 0,
     "status": "ok",
     "timestamp": 1761075931283,
     "user": {
      "displayName": "Kanta Tanahashi",
      "userId": "14493519528935864142"
     },
     "user_tz": -120
    },
    "id": "lGGd3MSGVgGe",
    "ExecuteTime": {
     "end_time": "2025-10-24T08:39:51.368369Z",
     "start_time": "2025-10-24T08:39:51.361368Z"
    }
   },
   "source": [
    "def evaluate_rating_prediction_content_based(train_data, test_data, content_type, aggregation_method):\n",
    "    # Create a mapping from user_id to user embedding\n",
    "    users_emb = {}\n",
    "    users = list(train_data['user_id'].unique())\n",
    "    for user in tqdm(users, desc=\"Creating user embedding mapping\"):\n",
    "        users_emb[user] = get_user_emb(train_data, user, content_type, aggregation_method)\n",
    "\n",
    "\n",
    "    # I do the same for items\n",
    "    items = list(train_data['item_id'].unique())\n",
    "    items_emb = {}\n",
    "    for item in tqdm(items, desc=\"Creating item embedding mapping\"):\n",
    "        items_emb[item] = get_item_emb(item, content_type)\n",
    "\n",
    "    actual_ratings, pred_ratings = [], []\n",
    "\n",
    "    global_mean_rating = train_data['rating'].mean()\n",
    "\n",
    "    for index, test_row in tqdm(test_data.iterrows(), total=len(test_data), desc=\"Processing test data\"):\n",
    "        user_id = test_row[\"user_id\"]\n",
    "        item_id = test_row[\"item_id\"]\n",
    "\n",
    "        user_embedding = users_emb.get(user_id)\n",
    "        item_embedding = items_emb.get(item_id)\n",
    "\n",
    "        if user_embedding is None or item_embedding is None:\n",
    "            # Impute the global average rating if we can't predict\n",
    "            pred_rating = global_mean_rating\n",
    "        else:\n",
    "            # Only calculate dot product if we have both embeddings\n",
    "            pred_rating = np.dot(user_embedding, item_embedding)\n",
    "\n",
    "        actual_ratings.append(test_row['rating'])\n",
    "        pred_ratings.append(pred_rating)\n",
    "\n",
    "    # Given predicted ratings, map them into [1,5] interval using -> 1 + (pred - min_val) * (4 / (max_val - min_val))\n",
    "\n",
    "    min_rating = min(pred_ratings)\n",
    "    max_rating = max(pred_ratings)\n",
    "\n",
    "    mapped_ratings = [1 + (rating - min_rating) * 4 / (max_rating - min_rating) for rating in pred_ratings]\n",
    "\n",
    "\n",
    "    mae_value, mse_value, rmse_value = 0.0, 0.0, 0.0\n",
    "\n",
    "\n",
    "    # compute the metrics: MAE, MSE, RMSE\n",
    "    # mae_value = MAE(actual_ratings, mapped_ratings)\n",
    "    # mse_value = MSE(actual_ratings, mapped_ratings)\n",
    "    rmse_value = RMSE(actual_ratings, mapped_ratings)\n",
    "\n",
    "    return rmse_value"
   ],
   "outputs": [],
   "execution_count": 19
  },
  {
   "cell_type": "markdown",
   "id": "VLYAsRiEXMsx",
   "metadata": {
    "id": "VLYAsRiEXMsx"
   },
   "source": [
    "### Use the RMSE loss to find out which combination of content representation and aggregation method works the best for content-recommendation\n"
   ]
  },
  {
   "cell_type": "code",
   "id": "XRpPd6myXqsj",
   "metadata": {
    "executionInfo": {
     "elapsed": 45,
     "status": "ok",
     "timestamp": 1761075931329,
     "user": {
      "displayName": "Kanta Tanahashi",
      "userId": "14493519528935864142"
     },
     "user_tz": -120
    },
    "id": "XRpPd6myXqsj",
    "ExecuteTime": {
     "end_time": "2025-10-24T08:39:58.576480Z",
     "start_time": "2025-10-24T08:39:58.570452Z"
    }
   },
   "source": [
    "def hyperparameter_search_content_based(train_data, val_data, content_types, aggregation_methods):\n",
    "    \"\"\"\n",
    "    Perform hyperparameter tuning for content based recommendation. It finds the best combination\n",
    "    of content representations and aggregation methods\n",
    "\n",
    "    Args:\n",
    "        train_data (pd.DataFrame): training set with columns ['user_id', 'item_id', 'rating']\n",
    "        val_data (pd.DataFrame): validation set with columns ['user_id', 'item_id', 'rating']\n",
    "        content_types: content types list (title_genres, description, full)\n",
    "        aggregation_methods: avg, weighted_avg, avg_pos\n",
    "\n",
    "    Returns:\n",
    "        dict: {'best_config': (best_content_type, best_aggregation_method), 'best_rmse': float, 'results': list of tuples (k, rmse)}\n",
    "    \"\"\"\n",
    "\n",
    "    print(\"\\n=== Content Based Recommendation Hyperparameter Search ===\")\n",
    "    results = []\n",
    "\n",
    "    for content_type in content_types:\n",
    "        for agg_method in aggregation_methods:\n",
    "          print(f\"starting with {content_type} and {agg_method}\")\n",
    "          rmse = evaluate_rating_prediction_content_based(\n",
    "              train_data,\n",
    "              val_data,\n",
    "              content_type,\n",
    "              agg_method\n",
    "          )\n",
    "\n",
    "          results.append({\n",
    "              'content_type': content_type,\n",
    "              'aggregation_method': agg_method,\n",
    "              'RMSE': rmse\n",
    "          })\n",
    "          print(f\"Config: ({content_type}, {agg_method}) -> RMSE = {rmse:.4f}\")\n",
    "\n",
    "    # Get the best performing combinations as the result of this hyperparameter tuning\n",
    "    best_result = min(results, key=lambda x: x['RMSE'])\n",
    "    best_config = (best_result['content_type'], best_result['aggregation_method'])\n",
    "    best_rmse = best_result['RMSE']\n",
    "\n",
    "    print(f\"Best result was achieved by the config: {best_config}\")\n",
    "\n",
    "    return {\n",
    "        'best_config': best_config,\n",
    "        'best_rmse': best_rmse,\n",
    "        'results': results\n",
    "    }"
   ],
   "outputs": [],
   "execution_count": 20
  },
  {
   "cell_type": "code",
   "id": "OqXf2GZSbDZa",
   "metadata": {
    "colab": {
     "base_uri": "https://localhost:8080/"
    },
    "executionInfo": {
     "elapsed": 52102,
     "status": "ok",
     "timestamp": 1761075983443,
     "user": {
      "displayName": "Kanta Tanahashi",
      "userId": "14493519528935864142"
     },
     "user_tz": -120
    },
    "id": "OqXf2GZSbDZa",
    "outputId": "7cdd3a7c-df24-49c7-be5b-85026cfe78c8",
    "ExecuteTime": {
     "end_time": "2025-10-24T08:40:05.087613Z",
     "start_time": "2025-10-24T08:40:05.072054Z"
    }
   },
   "source": [
    "import pickle\n",
    "\n",
    "# Define parameter space\n",
    "content_types_grid = ['title_genres', 'description', 'full']\n",
    "aggregation_methods_grid = ['avg', 'weighted_avg', 'avg_pos']\n",
    "\n",
    "path_content_based_tuning = os.path.join(OUTPUTS_PATH, 'content_based_tuning_results.pkl')\n",
    "\n",
    "# Run the search or load results\n",
    "if os.path.exists(path_content_based_tuning):\n",
    "    print(f\"Loading Content-based tuning results from: {path_content_based_tuning} 💾\")\n",
    "    with open(path_content_based_tuning, 'rb') as f:\n",
    "        content_based_tuning = pickle.load(f)\n",
    "    print(\"✅ Loaded successfully!\")\n",
    "else:\n",
    "    print(\"Running Content-based hyperparameter search... ⏳\")\n",
    "\n",
    "    content_based_tuning = hyperparameter_search_content_based(\n",
    "        train_data,\n",
    "        val_data,\n",
    "        content_types_grid,\n",
    "        aggregation_methods_grid\n",
    "    )\n",
    "\n",
    "    # Save the results\n",
    "    with open(path_content_based_tuning, 'wb') as f:\n",
    "        pickle.dump(content_based_tuning, f)\n",
    "    print(f\"✅ Saved Content-based tuning results to {path_content_based_tuning}\")\n",
    "\n",
    "print(\"\\n--- Content-Based Tuning Results ---\")\n",
    "print(f\"Best Config: {content_based_tuning['best_config']}\")\n",
    "print(f\"Best Validation RMSE: {content_based_tuning['best_rmse']:.4f}\")\n",
    "\n",
    "rmse_content_based = content_based_tuning['best_rmse']"
   ],
   "outputs": [
    {
     "name": "stdout",
     "output_type": "stream",
     "text": [
      "Loading Content-based tuning results from: C:\\Users\\40766\\Desktop\\Recommender-Systems-Project\\data\\content_based_tuning_results.pkl 💾\n",
      "✅ Loaded successfully!\n",
      "\n",
      "--- Content-Based Tuning Results ---\n",
      "Best Config: ('full', 'weighted_avg')\n",
      "Best Validation RMSE: 1.4700\n"
     ]
    }
   ],
   "execution_count": 21
  },
  {
   "cell_type": "code",
   "id": "gFFuU1JCuM_V",
   "metadata": {
    "colab": {
     "base_uri": "https://localhost:8080/",
     "height": 607
    },
    "executionInfo": {
     "elapsed": 860,
     "status": "ok",
     "timestamp": 1761075984304,
     "user": {
      "displayName": "Kanta Tanahashi",
      "userId": "14493519528935864142"
     },
     "user_tz": -120
    },
    "id": "gFFuU1JCuM_V",
    "outputId": "9df189ae-277e-414b-8b62-a4d4482fc274",
    "ExecuteTime": {
     "end_time": "2025-10-24T08:40:17.202385Z",
     "start_time": "2025-10-24T08:40:16.965618Z"
    }
   },
   "source": [
    "# Visualize Content based recommendation hyperparameter tuning results\n",
    "\n",
    "results_df = pd.DataFrame(content_based_tuning['results'], columns=['content_type', \"aggregation_method\", 'RMSE'])\n",
    "results_df[\"cobination\"] = results_df[\"content_type\"] + \" + \" + results_df[\"aggregation_method\"]\n",
    "results_df = results_df.sort_values('RMSE')\n",
    "\n",
    "plt.figure(figsize=(10, 6))\n",
    "plt.bar(results_df['cobination'], results_df['RMSE'], color='skyblue', edgecolor='black')\n",
    "\n",
    "plt.title(\"Content-based CF Hyperparameter Tuning\\n(RMSE by content_type + aggregation_method)\", fontsize=12)\n",
    "plt.xlabel(\"content_type + aggregation_method combination\", fontsize=10)\n",
    "plt.ylabel(\"Validation RMSE\", fontsize=10)\n",
    "plt.xticks(rotation=45, ha='right')\n",
    "plt.grid(axis='y', linestyle='--', alpha=0.6)\n",
    "\n",
    "plt.tight_layout()\n",
    "plt.show()\n"
   ],
   "outputs": [
    {
     "data": {
      "text/plain": [
       "<Figure size 1000x600 with 1 Axes>"
      ],
      "image/png": "[encoded data removed]"
     },
     "metadata": {},
     "output_type": "display_data",
     "jetTransient": {
      "display_id": null
     }
    }
   ],
   "execution_count": 22
  },
  {
   "cell_type": "markdown",
   "id": "w63PCaiNr5e9",
   "metadata": {
    "id": "w63PCaiNr5e9"
   },
   "source": [
    "## 1.2 User-based neighborhood method (UserKNN)"
   ]
  },
  {
   "cell_type": "markdown",
   "id": "UR9oe4EpmHuZ",
   "metadata": {
    "id": "UR9oe4EpmHuZ"
   },
   "source": [
    "The **Pearson correlation coefficient** between two users \\(x\\) and \\(y\\) is defined as:\n",
    "\n",
    "$$\n",
    "r_{xy} = \\frac{\\sum_{i \\in I_{xy}} (x_i - \\bar{x})(y_i - \\bar{y})}\n",
    "              {\\sqrt{\\sum_{i \\in I_{xy}} (x_i - \\bar{x})^2} \\cdot \\sqrt{\\sum_{i \\in I_{xy}} (y_i - \\bar{y})^2}}\n",
    "$$\n",
    "\n",
    "**Where:**\n",
    "\n",
    "- $I_{xy}$ = set of items rated by both users  \n",
    "- $x_i$, $y_i$ = ratings of users \\(x\\) and \\(y\\) on item \\(i\\)  \n",
    "- $\\bar{x}$, $\\bar{y}$ = mean ratings of users \\(x\\) and \\(y\\) on the common items  \n",
    "\n"
   ]
  },
  {
   "cell_type": "code",
   "id": "GHv4hw8wACh5",
   "metadata": {
    "executionInfo": {
     "elapsed": 2,
     "status": "ok",
     "timestamp": 1761075984308,
     "user": {
      "displayName": "Kanta Tanahashi",
      "userId": "14493519528935864142"
     },
     "user_tz": -120
    },
    "id": "GHv4hw8wACh5",
    "ExecuteTime": {
     "end_time": "2025-10-24T08:40:29.381501Z",
     "start_time": "2025-10-24T08:40:29.364947Z"
    }
   },
   "source": [
    "# define pearson correlation to obtain users similarity\n",
    "def pearson_correlation(user1_ratings: pd.Series, user2_ratings: pd.Series) -> float:\n",
    "    # only consider items that have been rated by both users\n",
    "    common_items = user1_ratings.dropna().index.intersection(user2_ratings.dropna().index)\n",
    "\n",
    "    if len(common_items) < 2:\n",
    "        return 0\n",
    "\n",
    "    u1_ratings = user1_ratings.loc[common_items]\n",
    "    u2_ratings = user2_ratings.loc[common_items]\n",
    "\n",
    "    u1_mean = u1_ratings.mean()\n",
    "    u2_mean = u2_ratings.mean()\n",
    "\n",
    "    numerator = ((u1_ratings - u1_mean) * (u2_ratings - u2_mean)).sum()\n",
    "    denominator = np.sqrt(((u1_ratings - u1_mean) ** 2).sum()) * np.sqrt(((u2_ratings - u2_mean) ** 2).sum())\n",
    "\n",
    "    if denominator == 0:\n",
    "        return 0.0\n",
    "\n",
    "    result = numerator / denominator\n",
    "\n",
    "    if not np.isfinite(result):\n",
    "        return 0.0\n",
    "\n",
    "    return result\n",
    "\n",
    "# compute similarity matrix of size len(users), len(users).\n",
    "def compute_user_similarity_matrix(train_data: pd.DataFrame) -> pd.DataFrame:\n",
    "    users = train_data['user_id'].unique()\n",
    "    user_similarity_matrix = pd.DataFrame(np.zeros((len(users), len(users))), index=users, columns=users)\n",
    "\n",
    "    for i, usera in enumerate(users):\n",
    "        for j, userb in enumerate(users):\n",
    "            if i > j:\n",
    "                continue\n",
    "            if usera == userb:\n",
    "                user_similarity_matrix.loc[usera, userb] = 1\n",
    "            else:\n",
    "                sim = pearson_correlation(train_data[train_data[\"user_id\"] == usera].set_index(\"item_id\")[\"rating\"], train_data[train_data[\"user_id\"] == userb].set_index(\"item_id\")[\"rating\"])\n",
    "                user_similarity_matrix.loc[usera, userb] = sim\n",
    "                user_similarity_matrix.loc[userb, usera] = sim\n",
    "\n",
    "    return user_similarity_matrix\n",
    "\n",
    "# Get top-k most similar users to the target user and return List of tuples: [(neighbor_user_id, similarity), ...] sorted by similarity descending\n",
    "def get_k_user_neighbors(train_data, user_similarity_matrix: pd.DataFrame, target_user, target_item, k=5):\n",
    "    top_k_neighbors = []\n",
    "\n",
    "    # we want to select top k neighbours who have rated the target item\n",
    "    rated_users = train_data.loc[train_data['item_id'] == target_item, 'user_id'].unique()\n",
    "\n",
    "    user_similarities = user_similarity_matrix.loc[target_user].drop(target_user)\n",
    "    # Only keep users who have rated the target item\n",
    "    user_similarities = user_similarities.loc[user_similarities.index.isin(rated_users)]\n",
    "    top_k_neighbors = list(user_similarities.nlargest(k).items())\n",
    "\n",
    "    return top_k_neighbors"
   ],
   "outputs": [],
   "execution_count": 23
  },
  {
   "cell_type": "code",
   "id": "EC4rj05jW3y_",
   "metadata": {
    "colab": {
     "base_uri": "https://localhost:8080/"
    },
    "executionInfo": {
     "elapsed": 695,
     "status": "ok",
     "timestamp": 1761075985004,
     "user": {
      "displayName": "Kanta Tanahashi",
      "userId": "14493519528935864142"
     },
     "user_tz": -120
    },
    "id": "EC4rj05jW3y_",
    "outputId": "8f6a30c3-9b55-45e0-a624-5efb045e00c5",
    "ExecuteTime": {
     "end_time": "2025-10-24T09:11:19.380529Z",
     "start_time": "2025-10-24T08:58:19.470431Z"
    }
   },
   "source": [
    "path_user_similarity_matrix = os.path.join(OUTPUTS_PATH, \"user_similarity_matrix.pkl\")\n",
    "\n",
    "if os.path.exists(path_user_similarity_matrix):\n",
    "    print(f\"Loading user similarity matrix from: {path_user_similarity_matrix} 💾\")\n",
    "    user_similarity_matrix = pd.read_pickle(path_user_similarity_matrix)\n",
    "    print(\"✅ Loaded successfully!\")\n",
    "else:\n",
    "    print(\"Computing user similarity matrix... ⏳\")\n",
    "    user_similarity_matrix = compute_user_similarity_matrix(train_data)\n",
    "    user_similarity_matrix.to_pickle(path_user_similarity_matrix)\n",
    "    print(f\"✅ Computed and saved to shared drive for future use!\")\n",
    "\n",
    "# Verify the index\n",
    "print(f\"User similarity matrix shape: {user_similarity_matrix.shape}\")\n",
    "print(f\"Is user 943 in user_similarity_matrix index after loading/computing: {943 in user_similarity_matrix.index}\")"
   ],
   "outputs": [
    {
     "name": "stdout",
     "output_type": "stream",
     "text": [
      "Computing user similarity matrix... ⏳\n",
      "✅ Computed and saved to shared drive for future use!\n",
      "User similarity matrix shape: (943, 943)\n",
      "Is user 943 in user_similarity_matrix index after loading/computing: True\n"
     ]
    }
   ],
   "execution_count": 38
  },
  {
   "cell_type": "code",
   "id": "R0NSep-vsAdL",
   "metadata": {
    "executionInfo": {
     "elapsed": 1,
     "status": "ok",
     "timestamp": 1761075985006,
     "user": {
      "displayName": "Kanta Tanahashi",
      "userId": "14493519528935864142"
     },
     "user_tz": -120
    },
    "id": "R0NSep-vsAdL",
    "ExecuteTime": {
     "end_time": "2025-10-24T09:46:49.785721Z",
     "start_time": "2025-10-24T09:46:49.770023Z"
    }
   },
   "source": [
    "def predict_rating_user_based(\n",
    "    train_data: pd.DataFrame,\n",
    "    user_similarity_matrix: pd.DataFrame,\n",
    "    target_user,\n",
    "    target_item,\n",
    "    global_mean_rating, k=5,\n",
    "):\n",
    "    \"\"\"\n",
    "    Predict rating for target_user and target_item using mean-centered user-based CF.\n",
    "\n",
    "    Parameters:\n",
    "    - ratings: pd.DataFrame with columns ['user_id', 'item_id', 'rating']\n",
    "    - user_similarity_matrix: pd.DataFrame of user-user similarities\n",
    "    - target_user: user ID\n",
    "    - target_item: item ID\n",
    "    - global_mean_rating: global mean rating to use as fallback\n",
    "    - k: number of neighbors to consider\n",
    "\n",
    "    Returns:\n",
    "    - float: predicted rating, or np.nan if not possible\n",
    "    \"\"\"\n",
    "    result = 0.0\n",
    "\n",
    "    ############# Your code here ############\n",
    "    user_ratings = train_data[train_data[\"user_id\"] == target_user].set_index(\"item_id\")[\"rating\"]\n",
    "    item_ratings = train_data[train_data[\"item_id\"] == target_item].set_index(\"user_id\")[\"rating\"]\n",
    "\n",
    "    user_mean = user_ratings.mean()\n",
    "\n",
    "    # if user has no rating, fall back to global mean rating\n",
    "    if pd.isna(user_mean):\n",
    "        user_mean = global_mean_rating\n",
    "\n",
    "    # gets top k neighbors who rated the target item\n",
    "    top_k_neighbors = get_k_user_neighbors(train_data, user_similarity_matrix, target_user, target_item, k)\n",
    "\n",
    "    # If no neighbors, return user mean\n",
    "    if not top_k_neighbors:\n",
    "        return user_mean\n",
    "\n",
    "    neighbor_ids = [n_id for n_id, similarity in top_k_neighbors]\n",
    "    neighbour_id_to_mean_rating = train_data[train_data[\"user_id\"].isin(neighbor_ids)].groupby('user_id')['rating'].mean()\n",
    "    # # global mean for neighbors with no ratings\n",
    "    # neighbour_id_to_mean_rating = neighbour_id_to_mean_rating.fillna(global_mean_rating)\n",
    "\n",
    "    numerator = 0.0\n",
    "    denominator = 0.0\n",
    "\n",
    "    for neighbour_id, similarity in top_k_neighbors:\n",
    "        if neighbour_id in item_ratings.index:\n",
    "            numerator += similarity * (item_ratings.loc[neighbour_id] - neighbour_id_to_mean_rating[neighbour_id])\n",
    "            denominator += abs(similarity)\n",
    "\n",
    "    if denominator == 0:\n",
    "        return user_mean \n",
    "\n",
    "    result = user_mean + (numerator/denominator)\n",
    "\n",
    "    result = np.clip(result, 1, 5)\n",
    "\n",
    "    #########################################\n",
    "\n",
    "    return result"
   ],
   "outputs": [],
   "execution_count": 39
  },
  {
   "cell_type": "code",
   "id": "zpFXA2OStU6G",
   "metadata": {
    "colab": {
     "base_uri": "https://localhost:8080/"
    },
    "executionInfo": {
     "elapsed": 5,
     "status": "ok",
     "timestamp": 1761075985011,
     "user": {
      "displayName": "Kanta Tanahashi",
      "userId": "14493519528935864142"
     },
     "user_tz": -120
    },
    "id": "zpFXA2OStU6G",
    "outputId": "aa0e5211-15cd-4204-b04c-b070752e31e0",
    "ExecuteTime": {
     "end_time": "2025-10-24T09:46:55.252832Z",
     "start_time": "2025-10-24T09:46:55.218825Z"
    }
   },
   "source": [
    "target_user, target_item, k = 1, 17, 50\n",
    "global_mean_rating = train_data[\"rating\"].mean()\n",
    "print(\n",
    "    f\"The actual rating for user {target_user} and item {target_item} is 3. The predicted rating by user-based CF for user {target_user} and item {target_item} is {predict_rating_user_based(train_data, user_similarity_matrix, target_user, target_item, global_mean_rating, k):.4f}\"\n",
    ")"
   ],
   "outputs": [
    {
     "name": "stdout",
     "output_type": "stream",
     "text": [
      "The actual rating for user 1 and item 17 is 3. The predicted rating by user-based CF for user 1 and item 17 is 3.3509\n"
     ]
    }
   ],
   "execution_count": 40
  },
  {
   "cell_type": "markdown",
   "id": "1b5e4d7e",
   "metadata": {},
   "source": [
    "### Function that generates top-k recommendation list for a target user with user-based recommendataion"
   ]
  },
  {
   "cell_type": "code",
   "id": "d6a9a890",
   "metadata": {
    "ExecuteTime": {
     "end_time": "2025-10-24T09:47:03.355976Z",
     "start_time": "2025-10-24T09:46:57.806606Z"
    }
   },
   "source": [
    "def recommend_topk_user_based(train_data, user_similarity_matrix, target_user, k_user, k=5):\n",
    "    \"\"\"\n",
    "    Generate Top-K recommendations for a target user using User-based CF.\n",
    "\n",
    "    Args:\n",
    "        train_data (pd.DataFrame): ratings data with columns [user_id, item_id, rating]\n",
    "        user_similarity_matrix (pd.DataFrame): precomputed user-user similarity matrix\n",
    "        target_user (int): user_id of the target user\n",
    "        k (int): number of items to recommend\n",
    "\n",
    "    Returns:\n",
    "        list of (item_id, predicted_score) sorted by score desc\n",
    "    \"\"\"\n",
    "    result = []\n",
    "\n",
    "    user_rated_items = set(train_data[train_data[\"user_id\"] == target_user][\"item_id\"])\n",
    "    all_items = set(train_data[\"item_id\"].unique())\n",
    "    candidate_items = all_items - user_rated_items\n",
    "\n",
    "    predictions = []\n",
    "    for item_id in candidate_items:\n",
    "        pred_rating = predict_rating_user_based(\n",
    "            train_data,\n",
    "            user_similarity_matrix,\n",
    "            target_user,\n",
    "            item_id,\n",
    "            global_mean_rating,\n",
    "            k_user,\n",
    "        )\n",
    "        if not np.isnan(pred_rating):  # only keep valid predictions\n",
    "            predictions.append((item_id, pred_rating))\n",
    "\n",
    "    result = sorted(predictions, key=lambda x: x[1], reverse=True)[:k]\n",
    "\n",
    "    return result\n",
    "\n",
    "\n",
    "target_user, k_user, k = 1, 50, 50\n",
    "recommendations = recommend_topk_user_based(\n",
    "    train_data, user_similarity_matrix, target_user, k_user, k\n",
    ")\n",
    "print(f\"Top-{k} recommendations for user {target_user} with user-based recommendation:\")\n",
    "for item, score in recommendations:\n",
    "    print(f\"Item {item}: {score:.4f}\")"
   ],
   "outputs": [
    {
     "name": "stdout",
     "output_type": "stream",
     "text": [
      "Top-50 recommendations for user 1 with user-based recommendation:\n",
      "Item 74: 5.0000\n",
      "Item 891: 5.0000\n",
      "Item 1233: 5.0000\n",
      "Item 1467: 5.0000\n",
      "Item 1599: 5.0000\n",
      "Item 1618: 5.0000\n",
      "Item 1293: 4.9983\n",
      "Item 1368: 4.9329\n",
      "Item 851: 4.8699\n",
      "Item 1442: 4.8647\n",
      "Item 1662: 4.8641\n",
      "Item 1673: 4.8269\n",
      "Item 1629: 4.8244\n",
      "Item 1038: 4.8119\n",
      "Item 1167: 4.8031\n",
      "Item 1414: 4.7698\n",
      "Item 1642: 4.7602\n",
      "Item 1144: 4.7600\n",
      "Item 1607: 4.7481\n",
      "Item 793: 4.7234\n",
      "Item 1631: 4.7051\n",
      "Item 1645: 4.7051\n",
      "Item 1650: 4.7051\n",
      "Item 1656: 4.6965\n",
      "Item 1512: 4.6906\n",
      "Item 1449: 4.6672\n",
      "Item 1367: 4.6660\n",
      "Item 1189: 4.6474\n",
      "Item 408: 4.6468\n",
      "Item 1424: 4.6459\n",
      "Item 1643: 4.6428\n",
      "Item 909: 4.6152\n",
      "Item 483: 4.6146\n",
      "Item 957: 4.6018\n",
      "Item 1624: 4.5918\n",
      "Item 677: 4.5787\n",
      "Item 360: 4.5726\n",
      "Item 64: 4.5596\n",
      "Item 868: 4.5571\n",
      "Item 1338: 4.5406\n",
      "Item 1452: 4.5360\n",
      "Item 272: 4.5343\n",
      "Item 918: 4.5280\n",
      "Item 285: 4.5256\n",
      "Item 12: 4.5209\n",
      "Item 1122: 4.5181\n",
      "Item 1256: 4.5103\n",
      "Item 318: 4.4989\n",
      "Item 1255: 4.4821\n",
      "Item 1664: 4.4794\n"
     ]
    }
   ],
   "execution_count": 41
  },
  {
   "cell_type": "markdown",
   "id": "QoQRNu8aqSUz",
   "metadata": {
    "id": "QoQRNu8aqSUz"
   },
   "source": [
    "### Computing RMSE of the User based KNN recommendation model\n",
    "\n"
   ]
  },
  {
   "cell_type": "code",
   "id": "-WfE6nKfqSyw",
   "metadata": {
    "executionInfo": {
     "elapsed": 1,
     "status": "ok",
     "timestamp": 1761075985012,
     "user": {
      "displayName": "Kanta Tanahashi",
      "userId": "14493519528935864142"
     },
     "user_tz": -120
    },
    "id": "-WfE6nKfqSyw",
    "ExecuteTime": {
     "end_time": "2025-10-24T09:47:15.378309Z",
     "start_time": "2025-10-24T09:47:15.362535Z"
    }
   },
   "source": [
    "def evaluate_rating_prediction_user_based(train_data, test_data, user_similarity_matrix, k):\n",
    "    actual_ratings, pred_ratings = [], []\n",
    "    global_mean_rating = train_data[\"rating\"].mean()\n",
    "\n",
    "\n",
    "    for index, test_row in tqdm(test_data.iterrows(), total=len(test_data), desc=\"Processing test data\"):\n",
    "        user_id = test_row[\"user_id\"]\n",
    "        item_id = test_row[\"item_id\"]\n",
    "\n",
    "        pred_rating = predict_rating_user_based(train_data, user_similarity_matrix, user_id, item_id, global_mean_rating, k)\n",
    "\n",
    "        if not np.isnan(pred_rating):\n",
    "            actual_ratings.append(test_row['rating'])\n",
    "            pred_ratings.append(pred_rating)\n",
    "\n",
    "    # Given predicted ratings, map them into [1,5] interval using -> 1 + (pred - min_val) * (4 / (max_val - min_val))\n",
    "\n",
    "    min_rating = min(pred_ratings)\n",
    "    max_rating = max(pred_ratings)\n",
    "\n",
    "    if max_rating == min_rating:\n",
    "        min_rating = max_rating - 0.001\n",
    "\n",
    "    mapped_ratings = [1 + (rating - min_rating) * 4 / (max_rating - min_rating) for rating in pred_ratings]\n",
    "\n",
    "    mae_value, mse_value, rmse_value = 0.0, 0.0, 0.0\n",
    "\n",
    "    # compute the metrics: MAE, MSE, RMSE\n",
    "    # mae_value = MAE(actual_ratings, mapped_ratings)\n",
    "    # mse_value = MSE(actual_ratings, mapped_ratings)\n",
    "    rmse_value = RMSE(actual_ratings, mapped_ratings)\n",
    "\n",
    "    return rmse_value"
   ],
   "outputs": [],
   "execution_count": 43
  },
  {
   "cell_type": "markdown",
   "id": "1R8yyCKEqbl4",
   "metadata": {
    "id": "1R8yyCKEqbl4"
   },
   "source": [
    "### Use the RMSE loss to find out which combination of content representation and aggregation method works the best for content-recommendation\n",
    "\n",
    "\n"
   ]
  },
  {
   "cell_type": "code",
   "id": "G8zoktfgqeOR",
   "metadata": {
    "executionInfo": {
     "elapsed": 17,
     "status": "ok",
     "timestamp": 1761081484666,
     "user": {
      "displayName": "Kanta Tanahashi",
      "userId": "14493519528935864142"
     },
     "user_tz": -120
    },
    "id": "G8zoktfgqeOR",
    "ExecuteTime": {
     "end_time": "2025-10-24T09:47:18.393195Z",
     "start_time": "2025-10-24T09:47:18.379089Z"
    }
   },
   "source": [
    "def hyperparameter_search_user_based(train_data, val_data, user_similarity_matrix, ks):\n",
    "    \"\"\"\n",
    "    Perform hyperparameter tuning for user KNN based recommendation. It finds the best k value\n",
    "\n",
    "    Args:\n",
    "        train_data (pd.DataFrame): training set with columns ['user_id', 'item_id', 'rating']\n",
    "        val_data (pd.DataFrame): validation set with columns ['user_id', 'item_id', 'rating']\n",
    "        user_similarity_matrix: user similarity matrix\n",
    "        ks: list of ks to test out\n",
    "\n",
    "    Returns:\n",
    "            dict: {'best_k': int, 'best_rmse': float, 'results': list of tuples (k, rmse)}\n",
    "    \"\"\"\n",
    "\n",
    "    print(\"\\n=== User Based Recommendation Hyperparameter Search ===\")\n",
    "    results = []\n",
    "\n",
    "    for k in ks:\n",
    "          print(f\"Testing k value={k}\")\n",
    "          rmse = evaluate_rating_prediction_user_based(train_data, test_data, user_similarity_matrix, k)\n",
    "\n",
    "          results.append({\n",
    "              'k': k,\n",
    "              'RMSE': rmse,\n",
    "          })\n",
    "          print(f\"Config: k={k} -> RMSE = {rmse:.4f}\")\n",
    "\n",
    "    # Get the best performing combinations as the result of this hyperparameter tuning\n",
    "    best_result = min(results, key=lambda x: x['RMSE'])\n",
    "    best_k = best_result['k']\n",
    "    best_rmse = best_result['RMSE']\n",
    "    print(f\"\\n✅ Best UserKNN config: k={best_k}, RMSE={best_rmse:.4f}\")\n",
    "\n",
    "    return {'best_k': best_k, 'best_rmse': best_rmse, 'results': results}"
   ],
   "outputs": [],
   "execution_count": 44
  },
  {
   "cell_type": "code",
   "id": "lmO-3xPmqepz",
   "metadata": {
    "colab": {
     "base_uri": "https://localhost:8080/"
    },
    "executionInfo": {
     "elapsed": 1404516,
     "status": "ok",
     "timestamp": 1761082889615,
     "user": {
      "displayName": "Kanta Tanahashi",
      "userId": "14493519528935864142"
     },
     "user_tz": -120
    },
    "id": "lmO-3xPmqepz",
    "outputId": "38adbc23-3df1-4d79-8014-66fec94dde5b",
    "ExecuteTime": {
     "end_time": "2025-10-24T09:47:24.488024Z",
     "start_time": "2025-10-24T09:47:24.460932Z"
    }
   },
   "source": [
    "path_user_knn_tuning = os.path.join(OUTPUTS_PATH, \"user_knn_tuning_result.pkl\")\n",
    "ks = [5, 10, 20, 30, 50, 70, 100]\n",
    "\n",
    "user_knn_tuning = None\n",
    "\n",
    "if os.path.exists(path_user_knn_tuning):\n",
    "    print(f\"Loading UserKNN tuning results from: {path_user_knn_tuning} 💾\")\n",
    "    with open(path_user_knn_tuning, 'rb') as f:\n",
    "        user_knn_tuning = pickle.load(f)\n",
    "    print(\"✅ Loaded successfully!\")\n",
    "else:\n",
    "    print(\"Running UserKNN hyperparameter search... ⏳\")\n",
    "    user_knn_tuning = hyperparameter_search_user_based(train_data, val_data, user_similarity_matrix, ks)\n",
    "    with open(path_user_knn_tuning, 'wb') as f:\n",
    "        pickle.dump(user_knn_tuning, f)\n",
    "    print(f\"✅ Saved UserKNN tuning results to {path_user_knn_tuning}\")"
   ],
   "outputs": [
    {
     "name": "stdout",
     "output_type": "stream",
     "text": [
      "Loading UserKNN tuning results from: C:\\Users\\40766\\Desktop\\Recommender-Systems-Project\\data\\user_knn_tuning_result.pkl 💾\n",
      "✅ Loaded successfully!\n"
     ]
    }
   ],
   "execution_count": 45
  },
  {
   "cell_type": "code",
   "id": "chHfq5rZtSgT",
   "metadata": {
    "colab": {
     "base_uri": "https://localhost:8080/",
     "height": 487
    },
    "executionInfo": {
     "elapsed": 284,
     "status": "ok",
     "timestamp": 1761083050979,
     "user": {
      "displayName": "Kanta Tanahashi",
      "userId": "14493519528935864142"
     },
     "user_tz": -120
    },
    "id": "chHfq5rZtSgT",
    "outputId": "bdf29031-57ca-483f-84d9-9aa82634a4f7",
    "ExecuteTime": {
     "end_time": "2025-10-24T09:47:28.986477Z",
     "start_time": "2025-10-24T09:47:28.823941Z"
    }
   },
   "source": [
    "# Visualize UserKNN hyperparameter tuning results\n",
    "\n",
    "results_df = pd.DataFrame(user_knn_tuning['results'], columns=['k', 'RMSE'])\n",
    "\n",
    "plt.figure(figsize=(8,5))\n",
    "plt.plot(results_df['k'], results_df['RMSE'], marker='o', linestyle='-', linewidth=2)\n",
    "plt.title(\"User-based CF Hyperparameter Tuning (RMSE vs. k)\")\n",
    "plt.xlabel(\"Number of Neighbours (k)\")\n",
    "plt.ylabel(\"Validation RMSE\")\n",
    "plt.grid(True, linestyle='--', alpha=0.6)\n",
    "\n",
    "# Highlight the best k\n",
    "best_k = user_knn_tuning['best_k']\n",
    "best_rmse = user_knn_tuning['best_rmse']\n",
    "rmse_user_based = best_rmse\n",
    "plt.scatter(best_k, best_rmse, color='red', s=100, label=f\"Best k={best_k} (RMSE={best_rmse:.4f})\")\n",
    "plt.legend()\n",
    "plt.show()"
   ],
   "outputs": [
    {
     "data": {
      "text/plain": [
       "<Figure size 800x500 with 1 Axes>"
      ],
      "image/png": "[encoded data removed]"
     },
     "metadata": {},
     "output_type": "display_data",
     "jetTransient": {
      "display_id": null
     }
    }
   ],
   "execution_count": 46
  },
  {
   "cell_type": "markdown",
   "id": "wuOCOGREIQFh",
   "metadata": {
    "id": "wuOCOGREIQFh"
   },
   "source": [
    "## 1.3 Item-based neighborhood method (ItemKNN)"
   ]
  },
  {
   "cell_type": "markdown",
   "id": "coDZ3EC8qg7d",
   "metadata": {
    "id": "coDZ3EC8qg7d"
   },
   "source": [
    "The **cosine similarity** between two items \\(i\\) and \\(j\\) is defined as:\n",
    "\n",
    "$$\n",
    "\\text{sim}(i,j) = \\frac{\\sum_{u \\in U_{ij}} r_{u,i} \\cdot r_{u,j}}\n",
    "                      {\\sqrt{\\sum_{u \\in U_{ij}} r_{u,i}^2} \\cdot \\sqrt{\\sum_{u \\in U_{ij}} r_{u,j}^2}}\n",
    "$$\n",
    "\n",
    "Where:\n",
    "\n",
    "- \\(r_{u,i}\\) = rating of user \\(u\\) on item \\(i\\)  \n",
    "- \\(r_{u,j}\\) = rating of user \\(u\\) on item \\(j\\)  \n",
    "- \\(U_{ij}\\) = set of users who have rated both items \\(i\\) and \\(j\\)  \n"
   ]
  },
  {
   "cell_type": "code",
   "execution_count": 266,
   "id": "va6rJ7eeCFJ4",
   "metadata": {
    "colab": {
     "base_uri": "https://localhost:8080/"
    },
    "executionInfo": {
     "elapsed": 40,
     "status": "ok",
     "timestamp": 1761083084407,
     "user": {
      "displayName": "Kanta Tanahashi",
      "userId": "14493519528935864142"
     },
     "user_tz": -120
    },
    "id": "va6rJ7eeCFJ4",
    "outputId": "82c28526-4108-4d2e-b715-15abd9e668a1"
   },
   "outputs": [
    {
     "name": "stdout",
     "output_type": "stream",
     "text": [
      "Cosine similarity between items 1 and 2 is 0.9545\n"
     ]
    }
   ],
   "source": [
    "def cosine_similarity(item1_ratings: pd.Series, item2_ratings: pd.Series) -> float:\n",
    "    \"\"\"\n",
    "    Compute cosine similarity between two items' rating vectors.\n",
    "    Only common users are considered.\n",
    "\n",
    "    Parameters:\n",
    "    - item1_ratings, item2_ratings: pd.Series indexed by user_id\n",
    "\n",
    "    Returns:\n",
    "    - float: cosine similarity between -1 and 1\n",
    "    \"\"\"\n",
    "    result = 0.0\n",
    "\n",
    "    common_users = item1_ratings.index.intersection(item2_ratings.index)\n",
    "    if len(common_users) == 0:\n",
    "        return 0.0  # no common users, similarity is 0\n",
    "\n",
    "    x = item1_ratings[common_users].values\n",
    "    y = item2_ratings[common_users].values\n",
    "\n",
    "    numerator = np.dot(x, y)\n",
    "    denominator = np.sqrt(np.dot(x, x)) * np.sqrt(np.dot(y, y))\n",
    "    if denominator == 0:\n",
    "        return 0.0  # avoid division by zero\n",
    "\n",
    "    result = numerator / denominator\n",
    "\n",
    "    return result\n",
    "\n",
    "item1, item2 = 1, 2\n",
    "item1_ratings = train_data[train_data['item_id'] == item1].set_index('user_id')['rating']\n",
    "item2_ratings = train_data[train_data['item_id'] == item2].set_index('user_id')['rating']\n",
    "print(f\"Cosine similarity between items {item1} and {item2} is {cosine_similarity(item1_ratings, item2_ratings):.4f}\")"
   ]
  },
  {
   "cell_type": "markdown",
   "id": "9a0BmkPrqrfx",
   "metadata": {
    "id": "9a0BmkPrqrfx"
   },
   "source": [
    "### Item-Item Similarity Matrix"
   ]
  },
  {
   "cell_type": "code",
   "execution_count": 267,
   "id": "hmpmwEt5CN44",
   "metadata": {
    "executionInfo": {
     "elapsed": 11,
     "status": "ok",
     "timestamp": 1761083086642,
     "user": {
      "displayName": "Kanta Tanahashi",
      "userId": "14493519528935864142"
     },
     "user_tz": -120
    },
    "id": "hmpmwEt5CN44"
   },
   "outputs": [],
   "source": [
    "def compute_item_similarity_matrix(train_data: pd.DataFrame) -> pd.DataFrame:\n",
    "    \"\"\"\n",
    "    Compute item-item similarity matrix using cosine similarity.\n",
    "\n",
    "    Parameters:\n",
    "    - ratings: pd.DataFrame with columns ['user_id', 'item_id', 'rating']\n",
    "\n",
    "    Returns:\n",
    "    - pd.DataFrame: item-item similarity matrix (rows & cols = item_ids)\n",
    "    \"\"\"\n",
    "    items = train_data['item_id'].unique()\n",
    "    item_similarity_matrix = pd.DataFrame(np.zeros((len(items), len(items))), index=items, columns=items)\n",
    "\n",
    "    for i, i1 in enumerate(items):\n",
    "        i1_ratings = train_data[train_data['item_id'] == i1].set_index('user_id')['rating']\n",
    "        for j, i2 in enumerate(items):\n",
    "            if j > i:  # Only compute for the upper triangle\n",
    "                i2_ratings = train_data[train_data['item_id'] == i2].set_index('user_id')['rating']\n",
    "                sim = cosine_similarity(i1_ratings, i2_ratings)\n",
    "                item_similarity_matrix.at[i1, i2] = sim\n",
    "                item_similarity_matrix.at[i2, i1] = sim  # Mirror the value\n",
    "            elif i == j:\n",
    "                item_similarity_matrix.at[i1, i2] = 1.0  # Similarity with self is 1\n",
    "\n",
    "    return item_similarity_matrix\n",
    "\n",
    "# start_time = time.time()\n",
    "# item_similarity_matrix = compute_item_similarity_matrix(train_data)\n",
    "# end_time = time.time()\n",
    "# print(f'Running time: {end_time - start_time:.4f} seconds')"
   ]
  },
  {
   "cell_type": "code",
   "execution_count": 268,
   "id": "JZ4Xhb8NZOvE",
   "metadata": {
    "colab": {
     "base_uri": "https://localhost:8080/"
    },
    "executionInfo": {
     "elapsed": 912,
     "status": "ok",
     "timestamp": 1761083089359,
     "user": {
      "displayName": "Kanta Tanahashi",
      "userId": "14493519528935864142"
     },
     "user_tz": -120
    },
    "id": "JZ4Xhb8NZOvE",
    "outputId": "38506686-af82-4564-9d8d-ceeb8380ba94"
   },
   "outputs": [
    {
     "name": "stdout",
     "output_type": "stream",
     "text": [
      "Loading item similarity matrix from: /Users/kantatanahashi/Documents/master_cs/recommender_systems/Project-RecSys/data/item_similarity_matrix.pkl 💾\n",
      "✅ Loaded successfully with shape (1615, 1615) and item IDs preserved!\n"
     ]
    }
   ],
   "source": [
    "path_item_similarity_matrix = os.path.join(OUTPUTS_PATH, \"item_similarity_matrix.pkl\")\n",
    "\n",
    "if os.path.exists(path_item_similarity_matrix):\n",
    "    print(f\"Loading item similarity matrix from: {path_item_similarity_matrix} 💾\")\n",
    "    item_similarity_matrix = pd.read_pickle(path_item_similarity_matrix)\n",
    "\n",
    "    # ensure IDs are int\n",
    "    item_similarity_matrix.index = item_similarity_matrix.index.astype(int)\n",
    "    item_similarity_matrix.columns = item_similarity_matrix.columns.astype(int)\n",
    "\n",
    "    print(f\"✅ Loaded successfully with shape {item_similarity_matrix.shape} and item IDs preserved!\")\n",
    "else:\n",
    "    print(\"Computing item similarity matrix... ⏳\")\n",
    "    start_time = time.time()\n",
    "    item_similarity_matrix = compute_item_similarity_matrix(train_data)\n",
    "    end_time = time.time()\n",
    "\n",
    "    # ensure IDs are int\n",
    "    item_similarity_matrix.index = item_similarity_matrix.index.astype(int)\n",
    "    item_similarity_matrix.columns = item_similarity_matrix.columns.astype(int)\n",
    "\n",
    "    # save properly with labels\n",
    "    item_similarity_matrix.to_pickle(path_item_similarity_matrix)\n",
    "    print(f\"✅ Computed and saved to {path_item_similarity_matrix} (took {end_time - start_time:.2f}s)\")"
   ]
  },
  {
   "cell_type": "code",
   "execution_count": 269,
   "id": "XifedD9isb1l",
   "metadata": {
    "colab": {
     "base_uri": "https://localhost:8080/"
    },
    "executionInfo": {
     "elapsed": 12,
     "status": "ok",
     "timestamp": 1761083094394,
     "user": {
      "displayName": "Kanta Tanahashi",
      "userId": "14493519528935864142"
     },
     "user_tz": -120
    },
    "id": "XifedD9isb1l",
    "outputId": "a69aef90-8ce5-4173-a229-72e3326627db"
   },
   "outputs": [
    {
     "name": "stdout",
     "output_type": "stream",
     "text": [
      "Matrix shape: (1615, 1615)\n",
      "Index dtype: int64\n",
      "Column dtype: int64\n",
      "Sample item IDs: [482, 179, 211, 176, 429, 71, 678, 1006, 252, 172]\n",
      "Accessing item 599 row works? False\n"
     ]
    }
   ],
   "source": [
    "print(\"Matrix shape:\", item_similarity_matrix.shape)\n",
    "print(\"Index dtype:\", item_similarity_matrix.index.dtype)\n",
    "print(\"Column dtype:\", item_similarity_matrix.columns.dtype)\n",
    "print(\"Sample item IDs:\", item_similarity_matrix.index[:10].tolist())\n",
    "print(\"Accessing item 599 row works?\", 599 in item_similarity_matrix.index)"
   ]
  },
  {
   "cell_type": "markdown",
   "id": "Lg3eGgG1JASZ",
   "metadata": {
    "id": "Lg3eGgG1JASZ"
   },
   "source": [
    "\n",
    "Instead of calculating the similarity for all pairs, we only compute it for one half of the matrix (upper or lower triangle) and then mirror the values."
   ]
  },
  {
   "cell_type": "markdown",
   "id": "-KO4aCyLqzOR",
   "metadata": {
    "id": "-KO4aCyLqzOR"
   },
   "source": [
    "### Get k most similar item along with the similarity values to a target item"
   ]
  },
  {
   "cell_type": "code",
   "execution_count": 270,
   "id": "5B4S0OplQwZw",
   "metadata": {
    "colab": {
     "base_uri": "https://localhost:8080/"
    },
    "executionInfo": {
     "elapsed": 8,
     "status": "ok",
     "timestamp": 1761083095608,
     "user": {
      "displayName": "Kanta Tanahashi",
      "userId": "14493519528935864142"
     },
     "user_tz": -120
    },
    "id": "5B4S0OplQwZw",
    "outputId": "01faf4a8-cc62-43bf-e5a8-95c951f1f2ee"
   },
   "outputs": [
    {
     "name": "stdout",
     "output_type": "stream",
     "text": [
      "Neighbors of item 1 are:\n"
     ]
    },
    {
     "data": {
      "text/plain": [
       "[(870, np.float64(1.0000000000000002)),\n",
       " (920, np.float64(1.0)),\n",
       " (1456, np.float64(1.0)),\n",
       " (1392, np.float64(1.0)),\n",
       " (1641, np.float64(1.0)),\n",
       " (848, np.float64(1.0)),\n",
       " (1260, np.float64(1.0)),\n",
       " (337, np.float64(1.0)),\n",
       " (34, np.float64(1.0)),\n",
       " (1547, np.float64(1.0))]"
      ]
     },
     "execution_count": 270,
     "metadata": {},
     "output_type": "execute_result"
    }
   ],
   "source": [
    "def get_k_item_neighbors(item_similarity_matrix: pd.DataFrame, target_item, k=5):\n",
    "    \"\"\"\n",
    "    Retrieve top-k most similar items to the target item.\n",
    "\n",
    "    Parameters:\n",
    "    - item_similarity_matrix: pd.DataFrame, item-item similarity\n",
    "    - target_item: item ID\n",
    "    - k: number of neighbors\n",
    "\n",
    "    Returns:\n",
    "    - List of tuples: [(neighbor_item_id, similarity), ...]\n",
    "    \"\"\"\n",
    "    top_k_neighbors = []\n",
    "\n",
    "    similarities = item_similarity_matrix.loc[target_item].drop(index=target_item)\n",
    "    top_k_neighbors = similarities.sort_values(ascending=False).head(k)\n",
    "    top_k_neighbors = list(zip(top_k_neighbors.index, top_k_neighbors.values))\n",
    "\n",
    "    return top_k_neighbors\n",
    "\n",
    "target_item, k = 1, 10\n",
    "print(f\"Neighbors of item {target_item} are:\")\n",
    "get_k_item_neighbors(item_similarity_matrix, target_item, k)"
   ]
  },
  {
   "cell_type": "markdown",
   "id": "4l19jFyMq8hm",
   "metadata": {
    "id": "4l19jFyMq8hm"
   },
   "source": [
    "### Function that predicts the rating that a target user might give to a target item using item-item similarity matrix"
   ]
  },
  {
   "cell_type": "markdown",
   "id": "M5NV_FNvq7MG",
   "metadata": {
    "id": "M5NV_FNvq7MG"
   },
   "source": [
    "The **predicted rating** for a target user \\(u\\) on a target item \\(i\\) using item-based collaborative filtering is:\n",
    "\n",
    "$$\n",
    "\\hat{r}_{u,i} = \\frac{\\sum_{j \\in N(i)} s(i,j) \\cdot r_{u,j}}{\\sum_{j \\in N(i)} |s(i,j)|}\n",
    "$$\n",
    "\n",
    "Where:\n",
    "\n",
    "- \\(\\hat{r}_{u,i}\\) = predicted rating of user \\(u\\) on item \\(i\\)  \n",
    "- \\(N(i)\\) = set of top-\\(k\\) most similar items to item \\(i\\) that user \\(u\\) has rated  \n",
    "- \\(s(i,j)\\) = similarity between item \\(i\\) and item \\(j\\)  \n",
    "- \\(r_{u,j}\\) = rating of user \\(u\\) on item \\(j\\)  \n"
   ]
  },
  {
   "cell_type": "code",
   "execution_count": 271,
   "id": "lS7GKnS6Q7dU",
   "metadata": {
    "colab": {
     "base_uri": "https://localhost:8080/"
    },
    "executionInfo": {
     "elapsed": 65,
     "status": "ok",
     "timestamp": 1761083096991,
     "user": {
      "displayName": "Kanta Tanahashi",
      "userId": "14493519528935864142"
     },
     "user_tz": -120
    },
    "id": "lS7GKnS6Q7dU",
    "outputId": "dbf70c91-f8c7-40bc-f92a-189e667f1626"
   },
   "outputs": [
    {
     "name": "stdout",
     "output_type": "stream",
     "text": [
      "The actual rating for user 1 and item 17 is 3. The predicted rating by item-based CF for user 1 and item 17 is 3.4342\n"
     ]
    }
   ],
   "source": [
    "def predict_rating_item_based(train_data: pd.DataFrame, item_similarity_matrix: pd.DataFrame, target_user, target_item, k=5):\n",
    "    \"\"\"\n",
    "    Predict rating using item-based CF (non-mean centric).\n",
    "\n",
    "    Parameters:\n",
    "    - ratings: pd.DataFrame ['user_id', 'item_id', 'rating']\n",
    "    - item_similarity_matrix: item-item similarity DataFrame\n",
    "    - target_user: user ID\n",
    "    - target_item: item ID\n",
    "    - k: number of neighbors to use\n",
    "\n",
    "    Returns:\n",
    "    - float: predicted rating, or np.nan if not enough data\n",
    "    \"\"\"\n",
    "    result = 0.0\n",
    "\n",
    "    user_ratings_all = train_data[train_data[\"user_id\"] == target_user][\"rating\"]\n",
    "    user_mean = user_ratings_all.mean()\n",
    "\n",
    "    if target_item not in item_similarity_matrix.index:\n",
    "        return user_mean\n",
    "\n",
    "    user_ratings = train_data[train_data['user_id'] == target_user][['item_id', 'rating']]\n",
    "    rated_items = user_ratings['item_id'].values\n",
    "\n",
    "    # Get top-k similar items to target_item that user has rated\n",
    "    similarities = item_similarity_matrix.loc[target_item, rated_items]\n",
    "    top_k_idx = np.argsort(similarities.values)[::-1][:k]\n",
    "    top_k_items = rated_items[top_k_idx]\n",
    "    top_k_sims = similarities.values[top_k_idx]\n",
    "\n",
    "    numerator = 0.0\n",
    "    denominator = 0.0\n",
    "    for item, sim in zip(top_k_items, top_k_sims):\n",
    "        rating = user_ratings[user_ratings['item_id'] == item]['rating'].values[0]\n",
    "        numerator += sim * rating\n",
    "        denominator += abs(sim)\n",
    "\n",
    "    if denominator == 0:\n",
    "        # If no similar items, return user's mean rating or np.nan\n",
    "        return user_mean\n",
    "\n",
    "    result = numerator / denominator\n",
    "\n",
    "    return result\n",
    "\n",
    "target_user, target_item, k = 1, 17, 50\n",
    "print(f\"The actual rating for user {target_user} and item {target_item} is 3. The predicted rating by item-based CF for user {target_user} and item {target_item} is {predict_rating_item_based(train_data, item_similarity_matrix, target_user, target_item, k):.4f}\")"
   ]
  },
  {
   "cell_type": "markdown",
   "id": "hh8Q3qrUrF4K",
   "metadata": {
    "id": "hh8Q3qrUrF4K"
   },
   "source": [
    "### Function that generates top-k recommendation list for a target user with item-based recommendataion"
   ]
  },
  {
   "cell_type": "code",
   "execution_count": 272,
   "id": "uQfuQcbvRmfN",
   "metadata": {
    "colab": {
     "base_uri": "https://localhost:8080/"
    },
    "executionInfo": {
     "elapsed": 24044,
     "status": "ok",
     "timestamp": 1761083121916,
     "user": {
      "displayName": "Kanta Tanahashi",
      "userId": "14493519528935864142"
     },
     "user_tz": -120
    },
    "id": "uQfuQcbvRmfN",
    "outputId": "992f4ca5-d448-4a3e-db97-13f99ec35ef3"
   },
   "outputs": [
    {
     "name": "stdout",
     "output_type": "stream",
     "text": [
      "Top-50 recommendations for user 1:\n",
      "Item 1342: 5.0000\n",
      "Item 1354: 5.0000\n",
      "Item 1652: 5.0000\n",
      "Item 1414: 4.7500\n",
      "Item 1347: 4.6667\n",
      "Item 1429: 4.4000\n",
      "Item 868: 4.3337\n",
      "Item 1332: 4.3333\n",
      "Item 1618: 4.3333\n",
      "Item 1368: 4.3318\n",
      "Item 957: 4.2857\n",
      "Item 1674: 4.2647\n",
      "Item 1472: 4.2500\n",
      "Item 1158: 4.2487\n",
      "Item 1465: 4.2400\n",
      "Item 1596: 4.2381\n",
      "Item 1639: 4.2193\n",
      "Item 1431: 4.1862\n",
      "Item 1485: 4.1715\n",
      "Item 1447: 4.1714\n",
      "Item 1450: 4.1714\n",
      "Item 1452: 4.1714\n",
      "Item 1453: 4.1714\n",
      "Item 1460: 4.1714\n",
      "Item 1656: 4.1613\n",
      "Item 1436: 4.1600\n",
      "Item 1554: 4.1600\n",
      "Item 1578: 4.1600\n",
      "Item 1630: 4.1600\n",
      "Item 1631: 4.1600\n",
      "Item 1632: 4.1600\n",
      "Item 1633: 4.1600\n",
      "Item 1634: 4.1600\n",
      "Item 1635: 4.1600\n",
      "Item 1637: 4.1600\n",
      "Item 1638: 4.1600\n",
      "Item 1640: 4.1600\n",
      "Item 1641: 4.1600\n",
      "Item 1645: 4.1600\n",
      "Item 1647: 4.1600\n",
      "Item 1648: 4.1600\n",
      "Item 1650: 4.1600\n",
      "Item 1497: 4.1538\n",
      "Item 1327: 4.1470\n",
      "Item 1259: 4.1429\n",
      "Item 1420: 4.1429\n",
      "Item 1064: 4.1425\n",
      "Item 314: 4.1423\n",
      "Item 1323: 4.1417\n",
      "Item 1200: 4.1395\n"
     ]
    }
   ],
   "source": [
    "def recommend_topk_item_based(train_data, item_similarity_matrix, target_user, k_item, k=5):\n",
    "    \"\"\"\n",
    "    Generate Top-K recommendations for a target user using Item-based CF.\n",
    "\n",
    "    Args:\n",
    "        train_data (pd.DataFrame): ratings data with columns [user_id, item_id, rating]\n",
    "        item_similarity_matrix (pd.DataFrame): precomputed item-item similarity matrix\n",
    "        target_user (int): user_id of the target user\n",
    "        k (int): number of items to recommend\n",
    "\n",
    "    Returns:\n",
    "        list of (item_id, predicted_score) sorted by score desc\n",
    "    \"\"\"\n",
    "    result = []\n",
    "\n",
    "    user_rated_items = set(train_data[train_data['user_id'] == target_user]['item_id'])\n",
    "    all_items = set(train_data['item_id'].unique())\n",
    "    candidate_items = all_items - user_rated_items\n",
    "\n",
    "    predictions = []\n",
    "    for item_id in candidate_items:\n",
    "        pred_rating = predict_rating_item_based(\n",
    "            train_data, item_similarity_matrix, target_user, item_id, k_item\n",
    "        )\n",
    "        if not np.isnan(pred_rating):  # only keep valid predictions\n",
    "            predictions.append((item_id, pred_rating))\n",
    "\n",
    "    result = sorted(predictions, key=lambda x: x[1], reverse=True)[:k]\n",
    "\n",
    "    return result\n",
    "\n",
    "target_user, k_item, k = 1, 50, 50\n",
    "recommendations = recommend_topk_item_based(train_data, item_similarity_matrix, target_user, k_item, k)\n",
    "print(f\"Top-{k} recommendations for user {target_user}:\")\n",
    "for item, score in recommendations:\n",
    "    print(f\"Item {item}: {score:.4f}\")"
   ]
  },
  {
   "cell_type": "markdown",
   "id": "G4oE2x2QrKJg",
   "metadata": {
    "id": "G4oE2x2QrKJg"
   },
   "source": [
    "### Item based CF Hyperparameter Tuning"
   ]
  },
  {
   "cell_type": "markdown",
   "id": "QO04wAMxsXPO",
   "metadata": {
    "id": "QO04wAMxsXPO"
   },
   "source": [
    "> Since this is a rating task, we will be using RMSE to tune the number of neighbours to take into consideration, namely `k`."
   ]
  },
  {
   "cell_type": "code",
   "execution_count": 273,
   "id": "h-xLyhC3stKd",
   "metadata": {
    "executionInfo": {
     "elapsed": 3,
     "status": "ok",
     "timestamp": 1761083121937,
     "user": {
      "displayName": "Kanta Tanahashi",
      "userId": "14493519528935864142"
     },
     "user_tz": -120
    },
    "id": "h-xLyhC3stKd"
   },
   "outputs": [],
   "source": [
    "def evaluate_rating_prediction_item_based(train_data, test_data, item_similarity_matrix, k):\n",
    "\n",
    "    def RMSE(actual_rating, pred_rating):\n",
    "        return np.mean((np.array(pred_rating) - np.array(actual_rating))**2)**0.5\n",
    "\n",
    "    preds, actuals = [], []\n",
    "\n",
    "    for _, row in val_data.iterrows():\n",
    "        user_id, item_id, true_rating = int(row['user_id']), int(row['item_id']), row['rating']\n",
    "        pred = predict_rating_item_based(train_data, item_similarity_matrix, user_id, item_id, k=k)\n",
    "\n",
    "        # Skip if prediction not possible (NaN)\n",
    "        if not np.isnan(pred):\n",
    "            preds.append(pred)\n",
    "            actuals.append(true_rating)\n",
    "\n",
    "    rmse = RMSE(actuals, preds)\n",
    "    return rmse\n",
    "\n",
    "def hyperparameter_search_item_based(train_data, val_data, item_similarity_matrix, k_values=[5, 10, 20, 30, 50, 70, 100]):\n",
    "    \"\"\"\n",
    "    Perform hyperparameter tuning for Item-based CF using validation RMSE.\n",
    "    Only searches over k (number of neighbors), but can be extended easily.\n",
    "\n",
    "    Args:\n",
    "        train_data (pd.DataFrame): training set with columns ['user_id', 'item_id', 'rating']\n",
    "        val_data (pd.DataFrame): validation set with columns ['user_id', 'item_id', 'rating']\n",
    "        item_similarity_matrix (pd.DataFrame): precomputed item-item similarity matrix\n",
    "        k_values (list): list of k values to test\n",
    "\n",
    "    Returns:\n",
    "        dict: {'best_k': int, 'best_rmse': float, 'results': list of tuples (k, rmse)}\n",
    "    \"\"\"\n",
    "\n",
    "    print(\"\\n=== Item-based CF Hyperparameter Search ===\")\n",
    "    results = []\n",
    "\n",
    "    for k in k_values:\n",
    "        print(f\"\\nEvaluating k = {k}...\")\n",
    "        rmse = evaluate_rating_prediction_item_based(train_data, val_data, item_similarity_matrix, k)\n",
    "\n",
    "        results.append({\n",
    "            'k': k,\n",
    "            'RMSE': rmse,\n",
    "        })\n",
    "\n",
    "        if np.isnan(rmse):\n",
    "            print(f\"k={k}: Evaluation failed (no valid predictions).\")\n",
    "        else:\n",
    "            print(f\"k={k}: Validation RMSE = {rmse:.4f}\")\n",
    "\n",
    "    valid_results = [r for r in results if not np.isnan(r['RMSE'])]\n",
    "\n",
    "    if not valid_results:\n",
    "        print(\"Hyperparameter search failed to produce any valid results.\")\n",
    "        return {'best_k': None, 'best_rmse': np.nan, 'results': results}\n",
    "\n",
    "    best_result = min(valid_results, key=lambda x: x['RMSE'])\n",
    "    best_k = best_result['k']\n",
    "    best_rmse = best_result['RMSE']\n",
    "\n",
    "    print(f\"\\n✅ Best ItemKNN config: k={best_k}, RMSE={best_rmse:.4f}\")\n",
    "\n",
    "    return {'best_k': best_k, 'best_rmse': best_rmse, 'results': results}\n"
   ]
  },
  {
   "cell_type": "code",
   "execution_count": 274,
   "id": "XfMDg3wGFmpp",
   "metadata": {
    "colab": {
     "base_uri": "https://localhost:8080/"
    },
    "executionInfo": {
     "elapsed": 137,
     "status": "ok",
     "timestamp": 1761083122073,
     "user": {
      "displayName": "Kanta Tanahashi",
      "userId": "14493519528935864142"
     },
     "user_tz": -120
    },
    "id": "XfMDg3wGFmpp",
    "outputId": "4c38af49-824b-408d-b81c-5f792c1e2d0e"
   },
   "outputs": [
    {
     "name": "stdout",
     "output_type": "stream",
     "text": [
      "Loading ItemKNN tuning results from: /Users/kantatanahashi/Documents/master_cs/recommender_systems/Project-RecSys/data/item_knn_tuning_results.pkl 💾\n",
      "✅ Loaded successfully!\n"
     ]
    }
   ],
   "source": [
    "import pickle\n",
    "\n",
    "path_item_knn_tuning = os.path.join(OUTPUTS_PATH, 'item_knn_tuning_results.pkl')\n",
    "\n",
    "\n",
    "if os.path.exists(path_item_knn_tuning):\n",
    "    print(f\"Loading ItemKNN tuning results from: {path_item_knn_tuning} 💾\")\n",
    "    with open(path_item_knn_tuning, 'rb') as f:\n",
    "        item_knn_tuning = pickle.load(f)\n",
    "    print(\"✅ Loaded successfully!\")\n",
    "else:\n",
    "    print(\"Running ItemKNN hyperparameter search... ⏳\")\n",
    "    item_knn_tuning = hyperparameter_search_item_based(train_data, val_data, item_similarity_matrix)\n",
    "    with open(path_item_knn_tuning, 'wb') as f:\n",
    "        pickle.dump(item_knn_tuning, f)\n",
    "    print(f\"✅ Saved ItemKNN tuning results to {path_item_knn_tuning}\")"
   ]
  },
  {
   "cell_type": "code",
   "execution_count": 275,
   "id": "rqsB-Ki8tGeh",
   "metadata": {
    "executionInfo": {
     "elapsed": 4,
     "status": "ok",
     "timestamp": 1761083132930,
     "user": {
      "displayName": "Kanta Tanahashi",
      "userId": "14493519528935864142"
     },
     "user_tz": -120
    },
    "id": "rqsB-Ki8tGeh"
   },
   "outputs": [],
   "source": [
    "best_k = item_knn_tuning['best_k']\n",
    "# takes 20 minutes to run, remember best is 20 with RMSE=0.9028"
   ]
  },
  {
   "cell_type": "code",
   "execution_count": 276,
   "id": "mWschuJLvAfc",
   "metadata": {
    "colab": {
     "base_uri": "https://localhost:8080/",
     "height": 487
    },
    "executionInfo": {
     "elapsed": 236,
     "status": "ok",
     "timestamp": 1761083134093,
     "user": {
      "displayName": "Kanta Tanahashi",
      "userId": "14493519528935864142"
     },
     "user_tz": -120
    },
    "id": "mWschuJLvAfc",
    "outputId": "104d9ab1-7568-4aca-dfa6-3e22874cea32"
   },
   "outputs": [
    {
     "data": {
      "image/png": "[encoded data removed]",
      "text/plain": [
       "<Figure size 800x500 with 1 Axes>"
      ]
     },
     "metadata": {},
     "output_type": "display_data"
    }
   ],
   "source": [
    "# Visualize ItemKNN hyperparameter tuning results\n",
    "\n",
    "results_df = pd.DataFrame(item_knn_tuning['results'], columns=['k', 'RMSE'])\n",
    "\n",
    "plt.figure(figsize=(8,5))\n",
    "plt.plot(results_df['k'], results_df['RMSE'], marker='o', linestyle='-', linewidth=2)\n",
    "plt.title(\"Item-based CF Hyperparameter Tuning (RMSE vs. k)\")\n",
    "plt.xlabel(\"Number of Neighbours (k)\")\n",
    "plt.ylabel(\"Validation RMSE\")\n",
    "plt.grid(True, linestyle='--', alpha=0.6)\n",
    "\n",
    "# Highlight the best k\n",
    "best_k = item_knn_tuning['best_k']\n",
    "best_rmse = item_knn_tuning['best_rmse']\n",
    "rmse_item_based = best_rmse\n",
    "plt.scatter(best_k, best_rmse, color='red', s=100, label=f\"Best k={best_k} (RMSE={best_rmse:.4f})\")\n",
    "plt.legend()\n",
    "plt.show()"
   ]
  },
  {
   "cell_type": "markdown",
   "id": "ZLcefhxTzmCH",
   "metadata": {
    "id": "ZLcefhxTzmCH"
   },
   "source": [
    "> Based on the results and as seen in the visualization, we take 20 to be the best number of neighbours."
   ]
  },
  {
   "cell_type": "markdown",
   "id": "yrwgBUQB_Bv6",
   "metadata": {
    "id": "yrwgBUQB_Bv6"
   },
   "source": [
    "## 1.4 Matrix Factorization model (MF)"
   ]
  },
  {
   "cell_type": "markdown",
   "id": "uhjkhMeL-7dV",
   "metadata": {
    "id": "uhjkhMeL-7dV"
   },
   "source": [
    "### MF Model"
   ]
  },
  {
   "cell_type": "code",
   "execution_count": 277,
   "id": "PGx5t32MIW-Z",
   "metadata": {
    "executionInfo": {
     "elapsed": 40,
     "status": "ok",
     "timestamp": 1761083145042,
     "user": {
      "displayName": "Kanta Tanahashi",
      "userId": "14493519528935864142"
     },
     "user_tz": -120
    },
    "id": "PGx5t32MIW-Z"
   },
   "outputs": [],
   "source": [
    "class MFModel(nn.Module):\n",
    "    def __init__(self, num_users, num_items, num_factors=32):\n",
    "        super(MFModel, self).__init__()\n",
    "        # User and item embeddings\n",
    "        self.user_emb = nn.Embedding(num_users, num_factors)\n",
    "        self.item_emb = nn.Embedding(num_items, num_factors)\n",
    "        self._init_weights()\n",
    "\n",
    "    def _init_weights(self):\n",
    "        nn.init.normal_(self.user_emb.weight, std=0.01)\n",
    "        nn.init.normal_(self.item_emb.weight, std=0.01)\n",
    "\n",
    "    def forward(self, user_ids, item_ids):\n",
    "        # Dot product between user and item embeddings\n",
    "        u = self.user_emb(user_ids)\n",
    "        i = self.item_emb(item_ids)\n",
    "        pred = (u * i).sum(dim=1)\n",
    "        return pred"
   ]
  },
  {
   "cell_type": "code",
   "execution_count": 278,
   "id": "AIUtf9lcIdCZ",
   "metadata": {
    "executionInfo": {
     "elapsed": 14,
     "status": "ok",
     "timestamp": 1761083145347,
     "user": {
      "displayName": "Kanta Tanahashi",
      "userId": "14493519528935864142"
     },
     "user_tz": -120
    },
    "id": "AIUtf9lcIdCZ"
   },
   "outputs": [],
   "source": [
    "class MFTrainer:\n",
    "    def __init__(self, num_users, num_items, num_factors=32, lr=0.01, reg=1e-4, epochs=10, device=device, outputs_path=\"outputs\"):\n",
    "        self.device = device\n",
    "        self.num_users = num_users\n",
    "        self.num_items = num_items\n",
    "        self.outputs_path = os.path.join(outputs_path, 'MF')\n",
    "        os.makedirs(self.outputs_path, exist_ok=True)\n",
    "        self.model_file = os.path.join(self.outputs_path, \"mf_model.pt\")\n",
    "\n",
    "        self.model = MFModel(num_users, num_items, num_factors).to(device)\n",
    "        self.optimizer = optim.Adam(self.model.parameters(), lr=lr, weight_decay=reg)\n",
    "        self.epochs = epochs\n",
    "        self.loss_fn = nn.MSELoss()\n",
    "\n",
    "    def train(self, train_data):\n",
    "        users = torch.LongTensor(train_data['user_id'].values - 1).to(self.device)\n",
    "        items = torch.LongTensor(train_data['item_id'].values - 1).to(self.device)\n",
    "        ratings = torch.FloatTensor(train_data['rating'].values).to(self.device)\n",
    "\n",
    "        dataset = torch.utils.data.TensorDataset(users, items, ratings)\n",
    "        loader = torch.utils.data.DataLoader(dataset, batch_size=256, shuffle=True)\n",
    "\n",
    "        print(\"Training MF...\")\n",
    "        for epoch in range(self.epochs):\n",
    "            total_loss = 0\n",
    "            for u, i, r in loader:\n",
    "                pred = self.model(u, i)\n",
    "                loss = self.loss_fn(pred, r)\n",
    "                self.optimizer.zero_grad()\n",
    "                loss.backward()\n",
    "                self.optimizer.step()\n",
    "                total_loss += loss.item()\n",
    "            print(f\"Epoch {epoch+1}/{self.epochs}, Loss={total_loss/len(loader):.4f}\")\n",
    "\n",
    "        # Save trained model\n",
    "        torch.save(self.model.state_dict(), self.model_file)\n",
    "        self.trained = True\n",
    "        print(f\"MF model saved to {self.model_file}\")\n",
    "\n",
    "    def predict(self, user_id, item_id):\n",
    "        self.model.eval()\n",
    "        user = torch.LongTensor([user_id - 1]).to(self.device)\n",
    "        item = torch.LongTensor([item_id - 1]).to(self.device)\n",
    "        with torch.no_grad():\n",
    "            pred = self.model(user, item)\n",
    "        return pred.item()\n",
    "\n",
    "    def evaluate(self, data: pd.DataFrame) -> float:\n",
    "        self.model.eval()\n",
    "\n",
    "        users = torch.LongTensor(data[\"user_id\"].values - 1).to(self.device)\n",
    "        items = torch.LongTensor(data[\"item_id\"].values - 1).to(self.device)\n",
    "        ratings = torch.FloatTensor(data[\"rating\"].values).to(self.device)\n",
    "\n",
    "        rmse = 0.0\n",
    "        with torch.no_grad():\n",
    "            preds = self.model(users, items)\n",
    "            rmse = torch.sqrt(torch.mean((preds - ratings) ** 2)).item()\n",
    "\n",
    "        return rmse"
   ]
  },
  {
   "cell_type": "markdown",
   "id": "IvVff20q--Y9",
   "metadata": {
    "id": "IvVff20q--Y9"
   },
   "source": [
    "### MF Hyperparam Searching and Training"
   ]
  },
  {
   "cell_type": "code",
   "execution_count": 279,
   "id": "be5QiPWE_AJ8",
   "metadata": {
    "executionInfo": {
     "elapsed": 4,
     "status": "ok",
     "timestamp": 1761083149395,
     "user": {
      "displayName": "Kanta Tanahashi",
      "userId": "14493519528935864142"
     },
     "user_tz": -120
    },
    "id": "be5QiPWE_AJ8"
   },
   "outputs": [],
   "source": [
    "def hyperparameter_search_MF(train_data, val_data, num_users, num_items, device, OUTPUTS_PATH, load_best_only=False):\n",
    "    \"\"\"\n",
    "    Perform grid search over MF hyperparameters.\n",
    "    If load_best_only=True, directly load the previously best model without retraining.\n",
    "    \"\"\"\n",
    "\n",
    "    mf_dir = os.path.join(OUTPUTS_PATH, \"MF\")\n",
    "    os.makedirs(mf_dir, exist_ok=True)\n",
    "\n",
    "    best_config_file = os.path.join(mf_dir, \"best_mf_config.json\")\n",
    "    best_model_file = os.path.join(mf_dir, \"mf_model.pt\")\n",
    "\n",
    "    # ===============================\n",
    "    # Case 1: Only load best model\n",
    "    # ===============================\n",
    "    if load_best_only:\n",
    "        if not os.path.exists(best_config_file) or not os.path.exists(best_model_file):\n",
    "            raise FileNotFoundError(\"⚠️ No saved best MF model found. Run grid search first.\")\n",
    "\n",
    "        with open(best_config_file, \"r\") as f:\n",
    "            best_result = json.load(f)\n",
    "\n",
    "        print(f\"🔹 Loading best MF model: {best_result}\")\n",
    "\n",
    "        best_num_factors = best_result[\"params\"][0]\n",
    "        best_lr = best_result[\"params\"][1]\n",
    "        best_reg = best_result[\"params\"][2]\n",
    "\n",
    "        mf_trainer = MFTrainer(\n",
    "            num_users, num_items,\n",
    "            num_factors=best_num_factors, lr=best_lr, reg=best_reg,\n",
    "            epochs=10, device=device, outputs_path=OUTPUTS_PATH\n",
    "        )\n",
    "\n",
    "        mf_trainer.model.load_state_dict(torch.load(best_model_file, map_location=device))\n",
    "        print(f\"✅ Loaded pre-trained MF model from {best_model_file}\")\n",
    "\n",
    "        print(\"MF Prediction Example:\", mf_trainer.predict(1, 50))\n",
    "        return mf_trainer, best_result[\"rmse\"]\n",
    "\n",
    "    # ===============================\n",
    "    # Case 2: Full grid search\n",
    "    # ===============================\n",
    "    mf_param_grid = {\n",
    "        \"num_factors\": [16, 32, 64],\n",
    "        \"lr\": [0.005, 0.01],\n",
    "        \"reg\": [1e-4, 1e-3],\n",
    "    }\n",
    "\n",
    "    best_result = {\"rmse\": float(\"inf\"), \"params\": None}\n",
    "\n",
    "    print(\"\\n=== MF Hyperparameter Search ===\")\n",
    "    for num_factors, lr, reg in itertools.product(\n",
    "            mf_param_grid[\"num_factors\"],\n",
    "            mf_param_grid[\"lr\"],\n",
    "            mf_param_grid[\"reg\"]):\n",
    "\n",
    "        print(f\"\\nTraining MF with num_factors={num_factors}, lr={lr}, reg={reg}\")\n",
    "        mf_trainer = MFTrainer(\n",
    "            num_users, num_items,\n",
    "            num_factors=num_factors, lr=lr, reg=reg,\n",
    "            epochs=5, device=device, outputs_path=OUTPUTS_PATH\n",
    "        )\n",
    "\n",
    "        mf_trainer.train(train_data)\n",
    "\n",
    "        # ---- Evaluate on validation set using RMSE ----\n",
    "        rmse = mf_trainer.evaluate(val_data)\n",
    "        print(f\"Validation RMSE = {rmse:.4f}\")\n",
    "\n",
    "        if rmse < best_result[\"rmse\"]:\n",
    "            best_result[\"rmse\"] = rmse\n",
    "            best_result[\"params\"] = (num_factors, lr, reg)\n",
    "\n",
    "    print(f\"\\n✅ Best MF Config: factors={best_result['params'][0]}, \"\n",
    "          f\"lr={best_result['params'][1]}, reg={best_result['params'][2]}, \"\n",
    "          f\"RMSE={best_result['rmse']:.4f}\")\n",
    "\n",
    "    # Save best configuration to JSON file\n",
    "    with open(best_config_file, \"w\") as f:\n",
    "        json.dump(best_result, f, indent=4)\n",
    "        print(f\"💾 Saved best MF configuration to {best_config_file}\")\n",
    "\n",
    "    # ===============================\n",
    "    # Train final best model\n",
    "    # ===============================\n",
    "    best_num_factors, best_lr, best_reg = best_result[\"params\"]\n",
    "    final_mf = MFTrainer(\n",
    "        num_users, num_items,\n",
    "        num_factors=best_num_factors, lr=best_lr, reg=best_reg,\n",
    "        epochs=10, device=device, outputs_path=OUTPUTS_PATH\n",
    "    )\n",
    "    final_mf.train(train_data)\n",
    "\n",
    "    # Save the best model as a fixed filename\n",
    "    torch.save(final_mf.model.state_dict(), best_model_file)\n",
    "    print(f\"💾 Best MF model saved to {best_model_file}\")\n",
    "\n",
    "    print(\"MF Prediction Example:\", final_mf.predict(1, 50))\n",
    "    return final_mf, best_result[\"rmse\"]"
   ]
  },
  {
   "cell_type": "code",
   "execution_count": null,
   "id": "zmDzFaDt_Bc5",
   "metadata": {
    "colab": {
     "base_uri": "https://localhost:8080/"
    },
    "executionInfo": {
     "elapsed": 39504,
     "status": "ok",
     "timestamp": 1761083190660,
     "user": {
      "displayName": "Kanta Tanahashi",
      "userId": "14493519528935864142"
     },
     "user_tz": -120
    },
    "id": "zmDzFaDt_Bc5",
    "outputId": "cfbd74c2-eb4d-49ca-a4d9-1534d2b043e5"
   },
   "outputs": [
    {
     "name": "stdout",
     "output_type": "stream",
     "text": [
      "\n",
      "=== MF Hyperparameter Search ===\n",
      "\n",
      "Training MF with num_factors=16, lr=0.005, reg=0.0001\n",
      "Loaded pre-trained MF model from /Users/kantatanahashi/Documents/master_cs/recommender_systems/Project-RecSys/data/MF/mf_model.pt\n",
      "MF model already trained, skipping training.\n",
      "Validation RMSE = 0.9582\n",
      "\n",
      "Training MF with num_factors=16, lr=0.005, reg=0.001\n",
      "Loaded pre-trained MF model from /Users/kantatanahashi/Documents/master_cs/recommender_systems/Project-RecSys/data/MF/mf_model.pt\n",
      "MF model already trained, skipping training.\n",
      "Validation RMSE = 0.9582\n",
      "\n",
      "Training MF with num_factors=16, lr=0.01, reg=0.0001\n",
      "Loaded pre-trained MF model from /Users/kantatanahashi/Documents/master_cs/recommender_systems/Project-RecSys/data/MF/mf_model.pt\n",
      "MF model already trained, skipping training.\n",
      "Validation RMSE = 0.9582\n",
      "\n",
      "Training MF with num_factors=16, lr=0.01, reg=0.001\n",
      "Loaded pre-trained MF model from /Users/kantatanahashi/Documents/master_cs/recommender_systems/Project-RecSys/data/MF/mf_model.pt\n",
      "MF model already trained, skipping training.\n",
      "Validation RMSE = 0.9582\n",
      "\n",
      "Training MF with num_factors=32, lr=0.005, reg=0.0001\n",
      "Failed to load MF model, will train from scratch.\n",
      "Training MF...\n",
      "Epoch 1/5, Loss=6.3611\n",
      "Epoch 2/5, Loss=1.0476\n"
     ]
    }
   ],
   "source": [
    "# mf_model, rmse_mf = hyperparameter_search_MF(train_data, val_data, num_users, num_items, device, OUTPUTS_PATH)\n",
    "mf_model, rmse_mf = hyperparameter_search_MF(train_data, val_data, num_users, num_items, device, OUTPUTS_PATH, load_best_only=True)  # debug only"
   ]
  },
  {
   "cell_type": "code",
   "execution_count": null,
   "id": "e218b326",
   "metadata": {},
   "outputs": [
    {
     "name": "stdout",
     "output_type": "stream",
     "text": [
      "Minimum Validation RMSE from MF: 0.9582\n"
     ]
    }
   ],
   "source": [
    "print(f\"Minimum Validation RMSE from MF: {rmse_mf:.4f}\")"
   ]
  },
  {
   "cell_type": "markdown",
   "id": "afe1319a",
   "metadata": {},
   "source": [
    "### Recommend Top K items based on matrix factorization"
   ]
  },
  {
   "cell_type": "code",
   "execution_count": null,
   "id": "fd4804d7",
   "metadata": {},
   "outputs": [],
   "source": [
    "import torch\n",
    "import numpy as np\n",
    "import pandas as pd\n",
    "\n",
    "\n",
    "def recommend_topk_mf(\n",
    "    mf_trainer: MFTrainer, train_data: pd.DataFrame, target_user: int, k: int\n",
    "):\n",
    "    \"\"\"\n",
    "    Generates Top-K recommendations for a target user using the trained MF model.\n",
    "\n",
    "    This function predicts scores for all items the user has not yet rated\n",
    "    in a single batch for efficiency.\n",
    "\n",
    "    Args:\n",
    "        mf_trainer (MFTrainer): The trained MFTrainer object from your code.\n",
    "        train_data (pd.DataFrame): Training data used to find already-rated items.\n",
    "        target_user (int): The target user ID (assumed to be 1-indexed).\n",
    "        k (int): The number of items to recommend.\n",
    "\n",
    "    Returns:\n",
    "        list: A list of k item IDs (1-indexed), sorted by predicted score.\n",
    "    \"\"\"\n",
    "    mf_trainer.model.eval()\n",
    "    user_rated_items = set(train_data[train_data[\"user_id\"] == target_user][\"item_id\"])\n",
    "    all_items = set(range(1, mf_trainer.num_items + 1))\n",
    "    candidate_items = all_items - user_rated_items\n",
    "    candidate_items_list = sorted(list(candidate_items))\n",
    "\n",
    "    # 3. Prepare tensors for batch prediction\n",
    "    device = mf_trainer.device\n",
    "\n",
    "    # Create a tensor for the user ID (0-indexed), repeated for all candidate items\n",
    "    users_tensor = (\n",
    "        torch.LongTensor([target_user - 1]).expand(len(candidate_items_list)).to(device)\n",
    "    )\n",
    "\n",
    "    # Create a tensor for all 0-indexed candidate item IDs\n",
    "    items_tensor = torch.LongTensor(np.array(candidate_items_list) - 1).to(device)\n",
    "\n",
    "    # 4. Get all predictions in one batch\n",
    "    with torch.no_grad():\n",
    "        predictions = mf_trainer.model(users_tensor, items_tensor)\n",
    "\n",
    "\n",
    "    scores = predictions.cpu().numpy()\n",
    "    item_scores = list(zip(candidate_items_list, scores))\n",
    "\n",
    "    item_scores.sort(key=lambda x: x[1], reverse=True)\n",
    "\n",
    "    top_k_recommendations = [item_id for item_id, score in item_scores[:k]]\n",
    "\n",
    "    return top_k_recommendations"
   ]
  },
  {
   "cell_type": "code",
   "execution_count": null,
   "id": "03ce82c2",
   "metadata": {},
   "outputs": [
    {
     "name": "stdout",
     "output_type": "stream",
     "text": [
      "Top-10 recommendations based on matrix factorizationfor user 1:\n",
      "[408, 357, 134, 483, 318, 511, 12, 513, 479, 199]\n"
     ]
    }
   ],
   "source": [
    "target_user = 1\n",
    "k = 10\n",
    "\n",
    "recommendations = recommend_topk_mf(\n",
    "    mf_trainer=mf_model, train_data=train_data, target_user=target_user, k=k\n",
    ")\n",
    "\n",
    "print(f\"Top-{k} recommendations based on matrix factorizationfor user {target_user}:\")\n",
    "print(recommendations)"
   ]
  },
  {
   "cell_type": "markdown",
   "id": "JO8JJvBMIg5R",
   "metadata": {
    "id": "JO8JJvBMIg5R"
   },
   "source": [
    "## 1.5 Bayesian Personalized Ranking method (BPR)\n",
    "\n",
    "BPR is a pairwise ranking optimization method for personalized recommendation. The main idea of BPR is to optimize the ranking of items for each user by maximizing the difference in predicted scores between items that a user has interacted with (positive items) and items that they have not interacted with (negative items).\n",
    "\n",
    "Here, MF is served as the underlying model for BPR. Objective function of BPR (MF-based) is defined as follows:\n",
    "\n",
    "$$\\sum_{(u, i, j) \\in D_S} \\ln \\sigma(\\hat{x}_{ui} - \\hat{x}_{uj}) - \\lambda_{\\Theta} ||\\Theta||^2$$\n",
    "\n",
    "where $D_S$ is the set of all user-item pairs such that user $u$ has interacted with item $i$ (positive item) but not with item $j$ (negative item), $\\sigma$ is the sigmoid function, $\\hat{x}_{ui}$ and $\\hat{x}_{uj}$ are the predicted scores for user $u$ on items $i$ and $j$, respectively, $\\Theta$ represents the model parameters (user and item latent factors), and $\\lambda_{\\Theta}$ is the regularization parameter to prevent overfitting."
   ]
  },
  {
   "cell_type": "markdown",
   "id": "Du-gjYQd_LC-",
   "metadata": {
    "id": "Du-gjYQd_LC-"
   },
   "source": [
    "### BPR Model"
   ]
  },
  {
   "cell_type": "code",
   "execution_count": null,
   "id": "BI7lDbQVIiyi",
   "metadata": {
    "id": "BI7lDbQVIiyi"
   },
   "outputs": [],
   "source": [
    "class BPRModel(nn.Module):\n",
    "    def __init__(self, num_users, num_items, num_factors=32):\n",
    "        super(BPRModel, self).__init__()\n",
    "        # User and item embeddings without bias\n",
    "        self.user_emb = nn.Embedding(num_users, num_factors)\n",
    "        self.item_emb = nn.Embedding(num_items, num_factors)\n",
    "        self._init_weights()\n",
    "\n",
    "    def _init_weights(self):\n",
    "        nn.init.normal_(self.user_emb.weight, std=0.1)\n",
    "        nn.init.normal_(self.item_emb.weight, std=0.1)\n",
    "\n",
    "    def forward(self, user, item_i, item_j):\n",
    "        # Compute difference between positive and negative item scores\n",
    "        u = self.user_emb(user)\n",
    "        i = self.item_emb(item_i)\n",
    "        j = self.item_emb(item_j)\n",
    "        x_ui = (u * i).sum(dim=1)\n",
    "        x_uj = (u * j).sum(dim=1)\n",
    "        return x_ui - x_uj\n",
    "\n",
    "    def predict(self, user, item):\n",
    "        # Compute preference score for a single item\n",
    "        u = self.user_emb(user)\n",
    "        i = self.item_emb(item)\n",
    "        return (u * i).sum(dim=1)"
   ]
  },
  {
   "cell_type": "code",
   "execution_count": null,
   "id": "PFL1yiKOIk6N",
   "metadata": {
    "id": "PFL1yiKOIk6N"
   },
   "outputs": [],
   "source": [
    "class BPRTrainer:\n",
    "    def __init__(self, num_users, num_items, num_factors=32, lr=0.01, reg=1e-4, epochs=10,\n",
    "                 device=device, outputs_path=\"outputs\", batch_size=1024):\n",
    "        self.device = device\n",
    "        self.outputs_path = os.path.join(outputs_path, 'BPR')\n",
    "        os.makedirs(self.outputs_path, exist_ok=True)\n",
    "        self.model_file = os.path.join(self.outputs_path, \"bpr_model.pt\")\n",
    "        self.batch_size = batch_size\n",
    "\n",
    "        self.model = BPRModel(num_users, num_items, num_factors).to(device)\n",
    "        self.optimizer = optim.Adam(self.model.parameters(), lr=lr, weight_decay=reg)\n",
    "        self.epochs = epochs\n",
    "\n",
    "    def _build_user_pos(self, train_data):\n",
    "        user_pos = defaultdict(set)\n",
    "        for _, row in train_data.iterrows():\n",
    "            user_pos[int(row['user_id']) - 1].add(int(row['item_id']) - 1)\n",
    "        return user_pos\n",
    "\n",
    "    def train(self, train_data):\n",
    "        user_pos = self._build_user_pos(train_data)\n",
    "        num_items = self.model.item_emb.num_embeddings\n",
    "        all_items = np.arange(num_items)\n",
    "\n",
    "        print(\"Training BPR with mini-batch...\")\n",
    "        for epoch in range(self.epochs):\n",
    "            batch_u, batch_i, batch_j = [], [], []\n",
    "            total_loss = 0\n",
    "            for u in user_pos:\n",
    "                pos_items = list(user_pos[u])\n",
    "                if len(pos_items) == 0:\n",
    "                    continue\n",
    "                for i in pos_items:\n",
    "                    # sample negative\n",
    "                    j = np.random.choice(np.setdiff1d(all_items, pos_items))\n",
    "                    batch_u.append(u)\n",
    "                    batch_i.append(i)\n",
    "                    batch_j.append(j)\n",
    "                    # train in batch\n",
    "                    if len(batch_u) >= self.batch_size:\n",
    "                        loss = self._train_batch(batch_u, batch_i, batch_j)\n",
    "                        total_loss += loss\n",
    "                        batch_u, batch_i, batch_j = [], [], []\n",
    "            # train remaining\n",
    "            if batch_u:\n",
    "                loss = self._train_batch(batch_u, batch_i, batch_j)\n",
    "                total_loss += loss\n",
    "\n",
    "            print(f\"Epoch {epoch+1}/{self.epochs}, Avg Loss={total_loss/len(user_pos):.4f}\")\n",
    "\n",
    "        torch.save(self.model.state_dict(), self.model_file)\n",
    "        self.trained = True\n",
    "        print(f\"BPR model saved to {self.model_file}\")\n",
    "\n",
    "    def _train_batch(self, batch_u, batch_i, batch_j):\n",
    "        batch_u = torch.LongTensor(batch_u).to(self.device)\n",
    "        batch_i = torch.LongTensor(batch_i).to(self.device)\n",
    "        batch_j = torch.LongTensor(batch_j).to(self.device)\n",
    "\n",
    "        x_uij = self.model(batch_u, batch_i, batch_j)\n",
    "        loss = -torch.log(torch.sigmoid(x_uij)).mean()\n",
    "\n",
    "        self.optimizer.zero_grad()\n",
    "        loss.backward()\n",
    "        self.optimizer.step()\n",
    "        return loss.item()\n",
    "\n",
    "    def recommend(self, user_id, train_data=None, top_k=10):\n",
    "        self.model.eval()\n",
    "        u = torch.LongTensor([user_id - 1]).to(self.device)\n",
    "        scores = self.model.predict(u, torch.arange(self.model.item_emb.num_embeddings).to(self.device)).cpu().detach().numpy()\n",
    "        if train_data is not None:\n",
    "            interacted = set(train_data[train_data['user_id'] == user_id]['item_id'])\n",
    "        else:\n",
    "            interacted = set()\n",
    "        candidates = [(i+1, s) for i, s in enumerate(scores) if (i+1) not in interacted]\n",
    "        candidates.sort(key=lambda x: x[1], reverse=True)\n",
    "        return candidates[:top_k]"
   ]
  },
  {
   "cell_type": "markdown",
   "id": "m_bsBQD7_M18",
   "metadata": {
    "id": "m_bsBQD7_M18"
   },
   "source": [
    "### BPR Hyperparam Searching and Training\n",
    "\n",
    "> Since BPR is a ranking task, nDCG/MRR/Precision/Recall can be used as target. However, `loss` is used here for simplicity."
   ]
  },
  {
   "cell_type": "code",
   "execution_count": null,
   "id": "IiUQcl_O_X4_",
   "metadata": {
    "id": "IiUQcl_O_X4_"
   },
   "outputs": [],
   "source": [
    "def hyperparameter_search_BPR(train_data, num_users, num_items, device, OUTPUTS_PATH, load_best_only=False):\n",
    "    \"\"\"\n",
    "    Perform grid search over BPR hyperparameters.\n",
    "    If load_best_only=True, directly load the previously best model without retraining.\n",
    "    \"\"\"\n",
    "\n",
    "    import json\n",
    "\n",
    "    bpr_dir = os.path.join(OUTPUTS_PATH, \"BPR\")\n",
    "    os.makedirs(bpr_dir, exist_ok=True)\n",
    "\n",
    "    best_config_file = os.path.join(bpr_dir, \"best_bpr_config.json\")\n",
    "    best_model_file = os.path.join(bpr_dir, \"bpr_model.pt\")\n",
    "\n",
    "    # ===============================\n",
    "    # Case 1: Only load best model\n",
    "    # ===============================\n",
    "    if load_best_only:\n",
    "        if not os.path.exists(best_config_file) or not os.path.exists(best_model_file):\n",
    "            raise FileNotFoundError(\"⚠️ No saved best BPR model found. Run grid search first.\")\n",
    "\n",
    "        with open(best_config_file, \"r\") as f:\n",
    "            best_result = json.load(f)\n",
    "\n",
    "        print(f\"🔹 Loading best BPR model: {best_result}\")\n",
    "\n",
    "        best_num_factors = best_result[\"params\"][0]\n",
    "        best_lr = best_result[\"params\"][1]\n",
    "        best_reg = best_result[\"params\"][2]\n",
    "\n",
    "        bpr_trainer = BPRTrainer(\n",
    "            num_users, num_items,\n",
    "            num_factors=best_num_factors, lr=best_lr, reg=best_reg,\n",
    "            epochs=10, device=device, outputs_path=OUTPUTS_PATH\n",
    "        )\n",
    "\n",
    "        bpr_trainer.model.load_state_dict(torch.load(best_model_file, map_location=device))\n",
    "        print(f\"✅ Loaded pre-trained BPR model from {best_model_file}\")\n",
    "\n",
    "        print(\"BPR Top-5 Recommendations:\", bpr_trainer.recommend(1, train_data=train_data, top_k=5))\n",
    "        return bpr_trainer\n",
    "\n",
    "    # ===============================\n",
    "    # Case 2: Full grid search\n",
    "    # ===============================\n",
    "    bpr_param_grid = {\n",
    "        \"num_factors\": [16, 32, 64],\n",
    "        \"lr\": [0.005, 0.01],\n",
    "        \"reg\": [1e-4, 1e-3],\n",
    "    }\n",
    "\n",
    "    best_result = {\"loss\": float(\"inf\"), \"params\": None}\n",
    "\n",
    "    print(\"\\n=== BPR Hyperparameter Search ===\")\n",
    "    for num_factors, lr, reg in itertools.product(\n",
    "            bpr_param_grid[\"num_factors\"],\n",
    "            bpr_param_grid[\"lr\"],\n",
    "            bpr_param_grid[\"reg\"]):\n",
    "\n",
    "        print(f\"\\nTraining BPR with num_factors={num_factors}, lr={lr}, reg={reg}\")\n",
    "        bpr_trainer = BPRTrainer(\n",
    "            num_users, num_items,\n",
    "            num_factors=num_factors, lr=lr, reg=reg,\n",
    "            epochs=5, device=device, outputs_path=OUTPUTS_PATH\n",
    "        )\n",
    "        bpr_trainer.train(train_data)\n",
    "\n",
    "        # ---- Compute average training loss as proxy metric ----\n",
    "        user_pos = bpr_trainer._build_user_pos(train_data)\n",
    "        total_loss = 0\n",
    "        num_samples = 0\n",
    "\n",
    "        for u in list(user_pos.keys())[:200]:  # Sample subset for speed\n",
    "            pos_items = list(user_pos[u])\n",
    "            if len(pos_items) == 0:\n",
    "                continue\n",
    "            j = np.random.randint(0, num_items)\n",
    "            u_tensor = torch.LongTensor([u]).to(device)\n",
    "            i_tensor = torch.LongTensor([pos_items[0]]).to(device)\n",
    "            j_tensor = torch.LongTensor([j]).to(device)\n",
    "\n",
    "            with torch.no_grad():\n",
    "                x_uij = bpr_trainer.model(u_tensor, i_tensor, j_tensor)\n",
    "                loss = -torch.log(torch.sigmoid(x_uij)).mean().item()\n",
    "\n",
    "            total_loss += loss\n",
    "            num_samples += 1\n",
    "\n",
    "        avg_loss = total_loss / num_samples\n",
    "        print(f\"Validation Avg Loss = {avg_loss:.4f}\")\n",
    "\n",
    "        if avg_loss < best_result[\"loss\"]:\n",
    "            best_result[\"loss\"] = avg_loss\n",
    "            best_result[\"params\"] = (num_factors, lr, reg)\n",
    "\n",
    "    print(f\"\\n✅ Best BPR Config: factors={best_result['params'][0]}, \"\n",
    "          f\"lr={best_result['params'][1]}, reg={best_result['params'][2]}, \"\n",
    "          f\"Loss={best_result['loss']:.4f}\")\n",
    "\n",
    "    # Save best configuration to JSON file\n",
    "    with open(best_config_file, \"w\") as f:\n",
    "        json.dump(best_result, f, indent=4)\n",
    "        print(f\"💾 Saved best BPR configuration to {best_config_file}\")\n",
    "\n",
    "    # ===============================\n",
    "    # Train final best model\n",
    "    # ===============================\n",
    "    best_num_factors, best_lr, best_reg = best_result[\"params\"]\n",
    "    final_bpr = BPRTrainer(\n",
    "        num_users, num_items,\n",
    "        num_factors=best_num_factors, lr=best_lr, reg=best_reg,\n",
    "        epochs=10, device=device, outputs_path=OUTPUTS_PATH\n",
    "    )\n",
    "    final_bpr.train(train_data)\n",
    "\n",
    "    # Save best model as fixed filename\n",
    "    torch.save(final_bpr.model.state_dict(), best_model_file)\n",
    "    print(f\"💾 Best BPR model saved to {best_model_file}\")\n",
    "\n",
    "    print(\"BPR Top-5 Recommendations:\", final_bpr.recommend(1, train_data=train_data, top_k=5))\n",
    "    return final_bpr"
   ]
  },
  {
   "cell_type": "code",
   "execution_count": null,
   "id": "ZbqFr_6M_ZFm",
   "metadata": {
    "colab": {
     "base_uri": "https://localhost:8080/"
    },
    "executionInfo": {
     "elapsed": 196317,
     "status": "ok",
     "timestamp": 1761057360026,
     "user": {
      "displayName": "Elena Mihalache",
      "userId": "05431839471568078681"
     },
     "user_tz": -120
    },
    "id": "ZbqFr_6M_ZFm",
    "outputId": "9eafd1f2-3a9a-4c1f-884e-b701985e48d5"
   },
   "outputs": [
    {
     "name": "stdout",
     "output_type": "stream",
     "text": [
      "\n",
      "=== BPR Hyperparameter Search ===\n",
      "\n",
      "Training BPR with num_factors=16, lr=0.005, reg=0.0001\n",
      "Failed to load BPR model, will train from scratch.\n",
      "Training BPR with mini-batch...\n",
      "Epoch 1/5, Avg Loss=0.0463\n",
      "Epoch 2/5, Avg Loss=0.0461\n"
     ]
    },
    {
     "ename": "KeyboardInterrupt",
     "evalue": "",
     "output_type": "error",
     "traceback": [
      "\u001B[31m---------------------------------------------------------------------------\u001B[39m",
      "\u001B[31mKeyboardInterrupt\u001B[39m                         Traceback (most recent call last)",
      "\u001B[36mCell\u001B[39m\u001B[36m \u001B[39m\u001B[32mIn[178]\u001B[39m\u001B[32m, line 2\u001B[39m\n\u001B[32m      1\u001B[39m \u001B[38;5;66;03m# bpr_model = hyperparameter_search_BPR(train_data, num_users, num_items, device, OUTPUTS_PATH, True)  # force retraining\u001B[39;00m\n\u001B[32m----> \u001B[39m\u001B[32m2\u001B[39m bpr_model = \u001B[43mhyperparameter_search_BPR\u001B[49m\u001B[43m(\u001B[49m\u001B[43mtrain_data\u001B[49m\u001B[43m,\u001B[49m\u001B[43m \u001B[49m\u001B[43mnum_users\u001B[49m\u001B[43m,\u001B[49m\u001B[43m \u001B[49m\u001B[43mnum_items\u001B[49m\u001B[43m,\u001B[49m\u001B[43m \u001B[49m\u001B[43mdevice\u001B[49m\u001B[43m,\u001B[49m\u001B[43m \u001B[49m\u001B[43mOUTPUTS_PATH\u001B[49m\u001B[43m)\u001B[49m\n",
      "\u001B[36mCell\u001B[39m\u001B[36m \u001B[39m\u001B[32mIn[177]\u001B[39m\u001B[32m, line 23\u001B[39m, in \u001B[36mhyperparameter_search_BPR\u001B[39m\u001B[34m(train_data, num_users, num_items, device, OUTPUTS_PATH, force_retrain)\u001B[39m\n\u001B[32m     18\u001B[39m \u001B[38;5;28mprint\u001B[39m(\u001B[33mf\u001B[39m\u001B[33m\"\u001B[39m\u001B[38;5;130;01m\\n\u001B[39;00m\u001B[33mTraining BPR with num_factors=\u001B[39m\u001B[38;5;132;01m{\u001B[39;00mnum_factors\u001B[38;5;132;01m}\u001B[39;00m\u001B[33m, lr=\u001B[39m\u001B[38;5;132;01m{\u001B[39;00mlr\u001B[38;5;132;01m}\u001B[39;00m\u001B[33m, reg=\u001B[39m\u001B[38;5;132;01m{\u001B[39;00mreg\u001B[38;5;132;01m}\u001B[39;00m\u001B[33m\"\u001B[39m)\n\u001B[32m     19\u001B[39m bpr_trainer = BPRTrainer(\n\u001B[32m     20\u001B[39m     num_users, num_items, num_factors=num_factors, lr=lr, reg=reg,\n\u001B[32m     21\u001B[39m     epochs=\u001B[32m5\u001B[39m, device=device, outputs_path=OUTPUTS_PATH\n\u001B[32m     22\u001B[39m )\n\u001B[32m---> \u001B[39m\u001B[32m23\u001B[39m \u001B[43mbpr_trainer\u001B[49m\u001B[43m.\u001B[49m\u001B[43mtrain\u001B[49m\u001B[43m(\u001B[49m\u001B[43mtrain_data\u001B[49m\u001B[43m,\u001B[49m\u001B[43m \u001B[49m\u001B[43mforce_retrain\u001B[49m\u001B[43m=\u001B[49m\u001B[43mforce_retrain\u001B[49m\u001B[43m)\u001B[49m\n\u001B[32m     25\u001B[39m \u001B[38;5;66;03m# ---- Compute average training loss as proxy metric ----\u001B[39;00m\n\u001B[32m     26\u001B[39m user_pos = bpr_trainer._build_user_pos(train_data)\n",
      "\u001B[36mCell\u001B[39m\u001B[36m \u001B[39m\u001B[32mIn[176]\u001B[39m\u001B[32m, line 48\u001B[39m, in \u001B[36mBPRTrainer.train\u001B[39m\u001B[34m(self, train_data, force_retrain)\u001B[39m\n\u001B[32m     45\u001B[39m     \u001B[38;5;28;01mcontinue\u001B[39;00m\n\u001B[32m     46\u001B[39m \u001B[38;5;28;01mfor\u001B[39;00m i \u001B[38;5;129;01min\u001B[39;00m pos_items:\n\u001B[32m     47\u001B[39m     \u001B[38;5;66;03m# sample negative\u001B[39;00m\n\u001B[32m---> \u001B[39m\u001B[32m48\u001B[39m     j = np.random.choice(\u001B[43mnp\u001B[49m\u001B[43m.\u001B[49m\u001B[43msetdiff1d\u001B[49m\u001B[43m(\u001B[49m\u001B[43mall_items\u001B[49m\u001B[43m,\u001B[49m\u001B[43m \u001B[49m\u001B[43mpos_items\u001B[49m\u001B[43m)\u001B[49m)\n\u001B[32m     49\u001B[39m     batch_u.append(u)\n\u001B[32m     50\u001B[39m     batch_i.append(i)\n",
      "\u001B[36mFile \u001B[39m\u001B[32m/opt/homebrew/Caskroom/miniconda/base/lib/python3.13/site-packages/numpy/lib/_arraysetops_impl.py:1260\u001B[39m, in \u001B[36msetdiff1d\u001B[39m\u001B[34m(ar1, ar2, assume_unique)\u001B[39m\n\u001B[32m   1258\u001B[39m     ar1 = unique(ar1)\n\u001B[32m   1259\u001B[39m     ar2 = unique(ar2)\n\u001B[32m-> \u001B[39m\u001B[32m1260\u001B[39m \u001B[38;5;28;01mreturn\u001B[39;00m ar1[\u001B[43m_in1d\u001B[49m\u001B[43m(\u001B[49m\u001B[43mar1\u001B[49m\u001B[43m,\u001B[49m\u001B[43m \u001B[49m\u001B[43mar2\u001B[49m\u001B[43m,\u001B[49m\u001B[43m \u001B[49m\u001B[43massume_unique\u001B[49m\u001B[43m=\u001B[49m\u001B[38;5;28;43;01mTrue\u001B[39;49;00m\u001B[43m,\u001B[49m\u001B[43m \u001B[49m\u001B[43minvert\u001B[49m\u001B[43m=\u001B[49m\u001B[38;5;28;43;01mTrue\u001B[39;49;00m\u001B[43m)\u001B[49m]\n",
      "\u001B[36mFile \u001B[39m\u001B[32m/opt/homebrew/Caskroom/miniconda/base/lib/python3.13/site-packages/numpy/lib/_arraysetops_impl.py:994\u001B[39m, in \u001B[36m_in1d\u001B[39m\u001B[34m(ar1, ar2, assume_unique, invert, kind)\u001B[39m\n\u001B[32m    990\u001B[39m         dtype = ar2.dtype\n\u001B[32m    992\u001B[39m     out = np.empty_like(in_range_ar1, dtype=np.intp)\n\u001B[32m    993\u001B[39m     outgoing_array[basic_mask] = isin_helper_ar[\n\u001B[32m--> \u001B[39m\u001B[32m994\u001B[39m             \u001B[43mnp\u001B[49m\u001B[43m.\u001B[49m\u001B[43msubtract\u001B[49m\u001B[43m(\u001B[49m\u001B[43min_range_ar1\u001B[49m\u001B[43m,\u001B[49m\u001B[43m \u001B[49m\u001B[43mar2_min\u001B[49m\u001B[43m,\u001B[49m\u001B[43m \u001B[49m\u001B[43mdtype\u001B[49m\u001B[43m=\u001B[49m\u001B[43mdtype\u001B[49m\u001B[43m,\u001B[49m\n\u001B[32m    995\u001B[39m \u001B[43m                        \u001B[49m\u001B[43mout\u001B[49m\u001B[43m=\u001B[49m\u001B[43mout\u001B[49m\u001B[43m,\u001B[49m\u001B[43m \u001B[49m\u001B[43mcasting\u001B[49m\u001B[43m=\u001B[49m\u001B[33;43m\"\u001B[39;49m\u001B[33;43munsafe\u001B[39;49m\u001B[33;43m\"\u001B[39;49m\u001B[43m)\u001B[49m]\n\u001B[32m    997\u001B[39m     \u001B[38;5;28;01mreturn\u001B[39;00m outgoing_array\n\u001B[32m    998\u001B[39m \u001B[38;5;28;01melif\u001B[39;00m kind == \u001B[33m'\u001B[39m\u001B[33mtable\u001B[39m\u001B[33m'\u001B[39m:  \u001B[38;5;66;03m# not range_safe_from_overflow\u001B[39;00m\n",
      "\u001B[31mKeyboardInterrupt\u001B[39m: "
     ]
    }
   ],
   "source": [
    "# bpr_model = hyperparameter_search_BPR(train_data, num_users, num_items, device, OUTPUTS_PATH)\n",
    "bpr_model = hyperparameter_search_BPR(train_data, num_users, num_items, device, OUTPUTS_PATH, load_best_only=True)  # debug only"
   ]
  },
  {
   "cell_type": "code",
   "execution_count": null,
   "id": "4439cc05",
   "metadata": {},
   "outputs": [],
   "source": [
    "target_user = 1\n",
    "k = 10\n",
    "\n",
    "recommendations = bpr_model.recommend(\n",
    "    target_user, train_data, k\n",
    ")\n",
    "\n",
    "print(f\"Top-{k} recommendations based on Bayesian Personalized Ranking for user {target_user}:\")\n",
    "print(recommendations)"
   ]
  },
  {
   "cell_type": "markdown",
   "id": "FCzZb89GWyIW",
   "metadata": {
    "id": "FCzZb89GWyIW"
   },
   "source": [
    "## 1.6 Hybrid recommender"
   ]
  },
  {
   "cell_type": "markdown",
   "id": "SYab93qu7PeW",
   "metadata": {
    "id": "SYab93qu7PeW"
   },
   "source": [
    "### Generate component predictions"
   ]
  },
  {
   "cell_type": "markdown",
   "id": "WOF3RJfr7dwm",
   "metadata": {
    "id": "WOF3RJfr7dwm"
   },
   "source": [
    "Each base model gives a predicted rating:\n",
    "\n",
    "[\n",
    "score_{C_j}(u,i)\n",
    "]\n",
    "\n",
    "for a user u and item i.\n",
    "\n",
    "The hybrid model learns how to **weight these base model predictions** to produce a final score:\n",
    "\n",
    "[\n",
    "score(u,i) = \\sum_{j=1}^k \\alpha_j , score_{C_j}(u,i)\n",
    "]\n",
    "\n",
    "where the (\\alpha_j) coefficients show how much each component contributes.\n"
   ]
  },
  {
   "cell_type": "code",
   "execution_count": null,
   "id": "ijf9whQC6ozt",
   "metadata": {
    "id": "ijf9whQC6ozt"
   },
   "outputs": [],
   "source": [
    "def generate_component_predictions(val_data, train_data,\n",
    "                                   item_similarity_matrix, user_similarity_matrix,\n",
    "                                   mf_model, bpr_model,\n",
    "                                   k_item=20, k_user=70,\n",
    "                                   device=device, verbose=False):\n",
    "    \"\"\"\n",
    "    Generate predictions from multiple recommender components for each (user, item) pair.\n",
    "\n",
    "    Handles both 0-indexed and 1-indexed matrices automatically.\n",
    "    Returns DataFrame with columns:\n",
    "    [user_id, item_id, true_rating, cb, userknn, itemknn, mf, bpr]\n",
    "    \"\"\"\n",
    "\n",
    "    preds = []\n",
    "    skipped = 0\n",
    "\n",
    "    # Detect index offset automatically (0-indexed or 1-indexed)\n",
    "    user_min = user_similarity_matrix.index.min()\n",
    "    item_min = item_similarity_matrix.index.min()\n",
    "\n",
    "    user_offset = 1 if user_min == 0 else 0\n",
    "    item_offset = 1 if item_min == 0 else 0\n",
    "\n",
    "    global_mean_rating = train_data[\"rating\"].mean()\n",
    "\n",
    "    if pd.isna(global_mean_rating):\n",
    "        print(\"!!! CRITICAL ERROR: global_mean_rating is NaN !!!\")\n",
    "        print(\"This means your train_data['rating'] column might be all NaNs.\")\n",
    "        print(\"Dropping NaNs from training data for mean calculation...\")\n",
    "        # Try a fallback mean calculation\n",
    "        global_mean_rating = train_data[\"rating\"].dropna().mean()\n",
    "        if pd.isna(global_mean_rating):\n",
    "            raise ValueError(\n",
    "                \"CRITICAL: Still cannot calculate global_mean_rating. Check train_data.\"\n",
    "            )\n",
    "\n",
    "    if verbose:\n",
    "        print(f\"Detected user matrix offset: {user_offset}, item matrix offset: {item_offset}\")\n",
    "\n",
    "    for idx, row in val_data.iterrows():\n",
    "        user_id, item_id, true_rating = int(row['user_id']), int(row['item_id']), row['rating']\n",
    "\n",
    "        try:\n",
    "            # --- Content-based prediction (using full embedding, average aggregation) ---\n",
    "            cb_pred = get_user_item_prediction_content_based(train_data, user_id, item_id, 'full', 'weighted_avg')\n",
    "\n",
    "            # --- User-based CF prediction ---\n",
    "            adj_user_id = user_id - user_offset\n",
    "            if adj_user_id not in user_similarity_matrix.index:\n",
    "                raise KeyError(f\"User {adj_user_id} not in similarity matrix\")\n",
    "            ub_pred = predict_rating_user_based(\n",
    "                train_data,\n",
    "                user_similarity_matrix,\n",
    "                user_id,\n",
    "                item_id,\n",
    "                global_mean_rating, k=k_user,\n",
    "            )\n",
    "\n",
    "            # --- Item-based CF prediction ---\n",
    "            adj_item_id = item_id - item_offset\n",
    "            if adj_item_id not in item_similarity_matrix.index:\n",
    "                raise KeyError(f\"Item {adj_item_id} not in similarity matrix\")\n",
    "            ib_pred = predict_rating_item_based(train_data, item_similarity_matrix, user_id, item_id, k=k_item)\n",
    "\n",
    "            # --- Matrix Factorization prediction ---\n",
    "            mf_pred = mf_model.predict(user_id, item_id)\n",
    "\n",
    "            # --- BPR prediction ---\n",
    "            with torch.no_grad():\n",
    "                bpr_model.model.to(device)\n",
    "                bpr_pred = bpr_model.model.predict(\n",
    "                    torch.LongTensor([user_id - 1]).to(device),\n",
    "                    torch.LongTensor([item_id - 1]).to(device)\n",
    "                ).item()\n",
    "\n",
    "            preds.append([user_id, item_id, true_rating, cb_pred, ub_pred, ib_pred, mf_pred, bpr_pred])\n",
    "\n",
    "        except Exception as e:\n",
    "            skipped += 1\n",
    "            if verbose:\n",
    "                print(f\"⚠️ Skipped user {user_id}, item {item_id}: {e}\")\n",
    "            continue\n",
    "\n",
    "    df_preds = pd.DataFrame(preds, columns=['user_id', 'item_id', 'true_rating', 'cb', 'userknn', 'itemknn', 'mf', 'bpr'])\n",
    "    print(f\"✅ Completed hybrid prediction data generation. Skipped {skipped} problematic pairs.\")\n",
    "    print(f\"Returned shape: {df_preds.shape}\")\n",
    "    return df_preds"
   ]
  },
  {
   "cell_type": "markdown",
   "id": "5V7MOt4y7SN3",
   "metadata": {
    "id": "5V7MOt4y7SN3"
   },
   "source": [
    "### Train the hybrid regression model"
   ]
  },
  {
   "cell_type": "code",
   "execution_count": null,
   "id": "6E0opnGd7XJm",
   "metadata": {
    "colab": {
     "base_uri": "https://localhost:8080/",
     "height": 883
    },
    "executionInfo": {
     "elapsed": 251917,
     "status": "ok",
     "timestamp": 1761057611979,
     "user": {
      "displayName": "Elena Mihalache",
      "userId": "05431839471568078681"
     },
     "user_tz": -120
    },
    "id": "6E0opnGd7XJm",
    "outputId": "699aaf49-4bd6-425e-9c7a-9b95e1b0cb27"
   },
   "outputs": [],
   "source": [
    "from sklearn.linear_model import LinearRegression\n",
    "\n",
    "# Generate predictions for validation set\n",
    "hybrid_train = generate_component_predictions(\n",
    "    val_data, train_data,\n",
    "    item_similarity_matrix, user_similarity_matrix,\n",
    "    mf_model, bpr_model,\n",
    "    k_item=20, k_user=70,\n",
    "    verbose=True\n",
    ")\n",
    "\n",
    "X = hybrid_train[['cb','userknn','itemknn','mf','bpr']]\n",
    "y = hybrid_train['true_rating']\n",
    "\n",
    "# Train regression model\n",
    "hybrid_reg = LinearRegression(fit_intercept=True)\n",
    "\n",
    "hybrid_reg.fit(X, y)\n",
    "\n",
    "# Display learned coefficients\n",
    "coefficients = pd.DataFrame({\n",
    "    'Component': X.columns,\n",
    "    'Alpha (Weight)': hybrid_reg.coef_\n",
    "})\n",
    "display(coefficients)\n",
    "print(f\"Intercept (bias): {hybrid_reg.intercept_:.4f}\")\n"
   ]
  },
  {
   "cell_type": "code",
   "execution_count": null,
   "id": "6b00da13",
   "metadata": {},
   "outputs": [],
   "source": [
    "print(hybrid_train.isna().sum())"
   ]
  },
  {
   "cell_type": "markdown",
   "id": "jZ8XIy8YB8Kh",
   "metadata": {
    "id": "jZ8XIy8YB8Kh"
   },
   "source": [
    "### Check ranges and summary stats"
   ]
  },
  {
   "cell_type": "code",
   "execution_count": null,
   "id": "7xiX2z8AB98U",
   "metadata": {
    "colab": {
     "base_uri": "https://localhost:8080/",
     "height": 206
    },
    "executionInfo": {
     "elapsed": 79,
     "status": "ok",
     "timestamp": 1761057612060,
     "user": {
      "displayName": "Elena Mihalache",
      "userId": "05431839471568078681"
     },
     "user_tz": -120
    },
    "id": "7xiX2z8AB98U",
    "outputId": "cf6a3270-a8da-483a-aa6e-908ad013e612"
   },
   "outputs": [],
   "source": [
    "# Look at the min, max, mean, std for each component\n",
    "hybrid_train[['cb','userknn','itemknn','mf','bpr']].describe().T"
   ]
  },
  {
   "cell_type": "markdown",
   "id": "8Qa1poSeCZm9",
   "metadata": {
    "id": "8Qa1poSeCZm9"
   },
   "source": [
    "### Train the regression after scaling"
   ]
  },
  {
   "cell_type": "code",
   "execution_count": null,
   "id": "pVE5-oA1Ccc5",
   "metadata": {
    "colab": {
     "base_uri": "https://localhost:8080/",
     "height": 223
    },
    "executionInfo": {
     "elapsed": 93,
     "status": "ok",
     "timestamp": 1761057612154,
     "user": {
      "displayName": "Elena Mihalache",
      "userId": "05431839471568078681"
     },
     "user_tz": -120
    },
    "id": "pVE5-oA1Ccc5",
    "outputId": "a92ac7f9-5a7c-45a7-a931-69daa36f4c50"
   },
   "outputs": [],
   "source": [
    "from sklearn.preprocessing import StandardScaler\n",
    "\n",
    "# Select only numeric prediction columns\n",
    "X = hybrid_train[['cb','userknn','itemknn','mf','bpr']]\n",
    "\n",
    "# Fit the scaler on training data\n",
    "scaler = StandardScaler()\n",
    "X_scaled = scaler.fit_transform(X)\n",
    "\n",
    "# Train regression on scaled features\n",
    "hybrid_reg_scaled = LinearRegression()\n",
    "hybrid_reg_scaled.fit(X_scaled, hybrid_train['true_rating'])\n",
    "\n",
    "# Show new coefficients\n",
    "coefficients_scaled = pd.DataFrame({\n",
    "    'Component': X.columns,\n",
    "    'Alpha (Weight)': hybrid_reg_scaled.coef_\n",
    "})\n",
    "display(coefficients_scaled)\n",
    "print(f\"Intercept (bias): {hybrid_reg_scaled.intercept_:.4f}\")"
   ]
  },
  {
   "cell_type": "markdown",
   "id": "o0P_LHoOJ7C7",
   "metadata": {
    "id": "o0P_LHoOJ7C7"
   },
   "source": [
    "Before scaling the predictors have different magnitudes. The regression absorbs those differences into both coefficients and intercept so the small negative intercept just compensates for overly high CB predictions. After scaling, all predictors are centered (mean=0) and standardized (std=1) so the intercept becomes the mean of the target, i.e. the average movie rating."
   ]
  },
  {
   "cell_type": "markdown",
   "id": "PiX0TC3RsTSt",
   "metadata": {
    "id": "PiX0TC3RsTSt"
   },
   "source": [
    "### Generate Top-K recommendations for a given user using the trained hybrid regression model."
   ]
  },
  {
   "cell_type": "markdown",
   "id": "oXIJFihtsmi1",
   "metadata": {
    "id": "oXIJFihtsmi1"
   },
   "source": [
    "TODO: change 20 to best_k"
   ]
  },
  {
   "cell_type": "code",
   "execution_count": null,
   "id": "iyeRTbRcsWXA",
   "metadata": {
    "id": "iyeRTbRcsWXA"
   },
   "outputs": [],
   "source": [
    "def recommend_topk_hybrid(user_id, hybrid_model, train_data, item_similarity_matrix, user_similarity_matrix,\n",
    "                          mf_model, bpr_model, scaler, k_item=20, k_user=50, top_k=10, device=device):\n",
    "    \"\"\"\n",
    "    Generate Top-K recommendations for a given user using the trained hybrid regression model.\n",
    "\n",
    "    Args:\n",
    "        user_id (int): Target user.\n",
    "        hybrid_model: Trained LinearRegression model (hybrid_reg_scaled).\n",
    "        train_data (pd.DataFrame): Training ratings.\n",
    "        item_similarity_matrix (pd.DataFrame): Precomputed item-item similarities.\n",
    "        user_similarity_matrix (pd.DataFrame): Precomputed user-user similarities.\n",
    "        mf_model: Trained MF model.\n",
    "        bpr_model: Trained BPR model.\n",
    "        scaler: StandardScaler fitted on hybrid training data.\n",
    "        k_item (int): Number of neighbors for ItemKNN.\n",
    "        k_user (int): Number of neighbors for UserKNN.\n",
    "        top_k (int): Number of items to recommend.\n",
    "        device (str): 'cpu' or 'cuda'.\n",
    "\n",
    "    Returns:\n",
    "        list of (item_id, hybrid_pred_score)\n",
    "    \"\"\"\n",
    "    # Get items the user already rated\n",
    "    user_rated_items = set(train_data[train_data['user_id'] == user_id]['item_id'])\n",
    "    all_items = set(train_data['item_id'].unique())\n",
    "    candidate_items = all_items - user_rated_items\n",
    "\n",
    "    predictions = []\n",
    "    for item_id in candidate_items:\n",
    "        try:\n",
    "            # --- Get component predictions ---\n",
    "            cb_pred = get_user_item_prediction_content_based(train_data, user_id, item_id, 'full', 'weighted_avg')\n",
    "            ub_pred = predict_rating_user_based(train_data, user_similarity_matrix, user_id, item_id, k=k_user)\n",
    "            ib_pred = predict_rating_item_based(train_data, item_similarity_matrix, user_id, item_id, k=k_item)\n",
    "            mf_pred = mf_model.predict(user_id, item_id)\n",
    "            with torch.no_grad():\n",
    "                bpr_model.model.to(device)\n",
    "                bpr_pred = bpr_model.model.predict(\n",
    "                    torch.LongTensor([user_id - 1]).to(device),\n",
    "                    torch.LongTensor([item_id - 1]).to(device)\n",
    "                ).item()\n",
    "\n",
    "            # Prepare feature vector for hybrid model\n",
    "            features = np.array([[cb_pred, ub_pred, ib_pred, mf_pred, bpr_pred]])\n",
    "            features_scaled = scaler.transform(features)\n",
    "            hybrid_pred = hybrid_model.predict(features_scaled)[0]\n",
    "\n",
    "            predictions.append((item_id, hybrid_pred))\n",
    "\n",
    "        except Exception as e:\n",
    "            # Skip if prediction not possible\n",
    "            continue\n",
    "\n",
    "    # Sort by predicted rating descending\n",
    "    recommendations = sorted(predictions, key=lambda x: x[1], reverse=True)[:top_k]\n",
    "    return recommendations\n"
   ]
  },
  {
   "cell_type": "markdown",
   "id": "p0j6vuUk7qjN",
   "metadata": {
    "id": "p0j6vuUk7qjN"
   },
   "source": [
    "### Make hybrid predictions on test set (maybe move this to Task 2)\n"
   ]
  },
  {
   "cell_type": "code",
   "execution_count": null,
   "id": "WpEOowrf-23z",
   "metadata": {
    "colab": {
     "base_uri": "https://localhost:8080/"
    },
    "executionInfo": {
     "elapsed": 313945,
     "status": "ok",
     "timestamp": 1761057926103,
     "user": {
      "displayName": "Elena Mihalache",
      "userId": "05431839471568078681"
     },
     "user_tz": -120
    },
    "id": "WpEOowrf-23z",
    "outputId": "a9f14bab-620b-4d0b-a337-ac4e00b168ca"
   },
   "outputs": [],
   "source": [
    "def evaluate_hybrid_models(\n",
    "    test_data,\n",
    "    train_data,\n",
    "    item_similarity_matrix,\n",
    "    user_similarity_matrix,\n",
    "    mf_model,\n",
    "    hybrid_reg_scaled,\n",
    "    bpr_model,\n",
    "    k_item,\n",
    "    k_user,\n",
    "    device,\n",
    "):\n",
    "    # Generate component predictions on test data\n",
    "    hybrid_test = generate_component_predictions(\n",
    "        test_data,\n",
    "        train_data,\n",
    "        item_similarity_matrix,\n",
    "        user_similarity_matrix,\n",
    "        mf_model,\n",
    "        bpr_model,\n",
    "        k_item=k_item,\n",
    "        k_user=k_user,\n",
    "        device=device,\n",
    "        verbose=False,\n",
    "    )\n",
    "\n",
    "    # Predict using learned hybrid regression\n",
    "    X_test = hybrid_test[[\"cb\", \"userknn\", \"itemknn\", \"mf\", \"bpr\"]]\n",
    "    y_test = hybrid_test[\"true_rating\"]\n",
    "    y_pred = hybrid_reg.predict(X_test)\n",
    "\n",
    "    # Evaluate\n",
    "    test_rmse = RMSE(y_test, y_pred)\n",
    "    print(f\"✅ Hybrid Test RMSE = {test_rmse:.4f}\")\n",
    "\n",
    "    X_test_scaled = scaler.transform(hybrid_test[[\"cb\", \"userknn\", \"itemknn\", \"mf\", \"bpr\"]])\n",
    "    y_pred_scaled = hybrid_reg_scaled.predict(X_test_scaled)\n",
    "    test_rmse_scaled = RMSE(hybrid_test[\"true_rating\"], y_pred_scaled)\n",
    "    print(f\"✅ Scaled Hybrid Test RMSE = {test_rmse_scaled:.4f}\")\n",
    "\n",
    "    return test_rmse_scaled\n",
    "\n",
    "rmse_hybrid = evaluate_hybrid_models(\n",
    "    test_data,\n",
    "    train_data,\n",
    "    item_similarity_matrix,\n",
    "    user_similarity_matrix,\n",
    "    mf_model,\n",
    "    hybrid_reg_scaled,\n",
    "    bpr_model,\n",
    "    k_item=20,\n",
    "    k_user=70,\n",
    "    device=device,\n",
    ")"
   ]
  },
  {
   "cell_type": "markdown",
   "id": "cpfYq6cvEo5t",
   "metadata": {
    "id": "cpfYq6cvEo5t"
   },
   "source": [
    "> Although scaling did not change RMSE (since linear regression predictions are invariant to affine scaling of inputs), it standardized the component feature space. This gives interpretable weights (comparable across models) and ensures numerical stability. BPR is almost non significant because it is for ranking, not rating prediction."
   ]
  },
  {
   "cell_type": "markdown",
   "id": "s-_dZAUK9XxE",
   "metadata": {
    "id": "s-_dZAUK9XxE"
   },
   "source": [
    "### Visualize coefficient importance"
   ]
  },
  {
   "cell_type": "code",
   "execution_count": null,
   "id": "WKOEdY1ABXhn",
   "metadata": {
    "colab": {
     "base_uri": "https://localhost:8080/",
     "height": 410
    },
    "executionInfo": {
     "elapsed": 165,
     "status": "ok",
     "timestamp": 1761057926266,
     "user": {
      "displayName": "Elena Mihalache",
      "userId": "05431839471568078681"
     },
     "user_tz": -120
    },
    "id": "WKOEdY1ABXhn",
    "outputId": "93fb03f4-e276-42e3-9d4e-60b527784b65"
   },
   "outputs": [],
   "source": [
    "plt.figure(figsize=(7,4))\n",
    "sns.barplot(data=coefficients_scaled, x='Component', y='Alpha (Weight)', palette='coolwarm')\n",
    "plt.title('Hybrid Model Component Importance (After Scaling)')\n",
    "plt.ylabel('Weight (α)')\n",
    "plt.show()\n"
   ]
  },
  {
   "cell_type": "code",
   "execution_count": null,
   "id": "eEzjEcFAGbt3",
   "metadata": {
    "colab": {
     "base_uri": "https://localhost:8080/",
     "height": 410
    },
    "executionInfo": {
     "elapsed": 224,
     "status": "ok",
     "timestamp": 1761057926509,
     "user": {
      "displayName": "Elena Mihalache",
      "userId": "05431839471568078681"
     },
     "user_tz": -120
    },
    "id": "eEzjEcFAGbt3",
    "outputId": "e4b8a427-b381-41bc-94d3-6cfbc452910b"
   },
   "outputs": [],
   "source": [
    "coeff_compare = pd.DataFrame({\n",
    "    'Component': X.columns,\n",
    "    'Unscaled': hybrid_reg.coef_,\n",
    "    'Scaled': hybrid_reg_scaled.coef_\n",
    "}).melt(id_vars='Component', var_name='Model', value_name='Weight (α)')\n",
    "\n",
    "plt.figure(figsize=(7,4))\n",
    "sns.barplot(data=coeff_compare, x='Component', y='Weight (α)', hue='Model', palette='coolwarm')\n",
    "plt.title('Hybrid Coefficients Before vs After Scaling')\n",
    "plt.show()\n"
   ]
  },
  {
   "cell_type": "markdown",
   "id": "ec7f712c-2895-4962-ad06-85da032fd597",
   "metadata": {
    "id": "ec7f712c-2895-4962-ad06-85da032fd597"
   },
   "source": [
    "# Task 2) Experiments for both rating prediction and ranking tasks, and conducting offline evaluation"
   ]
  },
  {
   "cell_type": "code",
   "execution_count": null,
   "id": "Tkc2dudX_lTa",
   "metadata": {
    "id": "Tkc2dudX_lTa"
   },
   "outputs": [],
   "source": [
    "def Precision(ground_truth, rec_list):\n",
    "    # Implement a function that computes Precision across ground truth data and recommendation list generated for each user.\n",
    "    # Note that ground_truth and rec_list contain the list of items for all users, e.g., 2-dimensional arrays.\n",
    "\n",
    "    result = 0.0\n",
    "\n",
    "\n",
    "    ############# Your code here ############\n",
    "    # Precision measures how many of the positive samples are actually positive\n",
    "    # so how many of the recommended items are actually relevant\n",
    "\n",
    "    precisions = []\n",
    "\n",
    "    for gt, rec in zip(ground_truth, rec_list):\n",
    "        if not rec:\n",
    "            continue\n",
    "        hits = len(set(gt) & set(rec))\n",
    "        precision = hits / len(rec)\n",
    "        precisions.append(precision)\n",
    "\n",
    "    result = np.mean(precisions)\n",
    "    #########################################\n",
    "\n",
    "    return result\n",
    "\n",
    "def Recall(ground_truth, rec_list):\n",
    "    # Implement a function that computes Recall across ground truth data and recommendation list generated for each user.\n",
    "    # Note that ground_truth and rec_list contain the list of items for all users, e.g., 2-dimensional arrays.\n",
    "\n",
    "    result = 0.0\n",
    "\n",
    "    ############# Your code here ############\n",
    "    # recall is out of all relevant items, how many did it positively predict\n",
    "    recalls = []\n",
    "\n",
    "    for gt, rec in zip(ground_truth, rec_list):\n",
    "        if not rec or not gt:\n",
    "            continue\n",
    "        hits = len(set(gt) & set(rec))\n",
    "        recall = hits / len(gt)\n",
    "        recalls.append(recall)\n",
    "\n",
    "    result = np.mean(recalls)\n",
    "\n",
    "    #########################################\n",
    "\n",
    "    return result\n",
    "\n",
    "def NDCG(ground_truth, rec_list):\n",
    "    # Implement a function that computes NDCG across ground truth data and recommendation list generated for each user.\n",
    "    # Note that ground_truth and rec_list contain the list of items for all users, e.g., 2-dimensional arrays.\n",
    "\n",
    "    result = 0.0\n",
    "\n",
    "    ############# Your code here ############\n",
    "    ndcgs = []\n",
    "    for gt_items, rec_items in zip(ground_truth, rec_list):\n",
    "        dcg = 0.0\n",
    "\n",
    "        # Calculate DCG\n",
    "        for i, item in enumerate(rec_items):\n",
    "            if item in gt_items:\n",
    "                dcg += 1.0 / np.log2(i + 1)\n",
    "\n",
    "        # Calculate IDCG\n",
    "        idcg = 0.0\n",
    "        for i in range(min(len(rec_items), len(gt_items))):\n",
    "            idcg += 1.0 / np.log2(i + 1)\n",
    "\n",
    "        # Calculate NDCG\n",
    "        if idcg == 0:\n",
    "            ndcgs.append(0.0)\n",
    "        else:\n",
    "            ndcgs.append(dcg / idcg)\n",
    "\n",
    "    return np.mean(ndcgs)\n",
    "    #########################################"
   ]
  },
  {
   "cell_type": "markdown",
   "id": "w5p0p-bHC3iV",
   "metadata": {
    "id": "w5p0p-bHC3iV"
   },
   "source": [
    "## 2.1 Rating Prediction Task Evaluation"
   ]
  },
  {
   "cell_type": "code",
   "execution_count": null,
   "id": "QcerzgN2DG-l",
   "metadata": {
    "colab": {
     "base_uri": "https://localhost:8080/",
     "height": 391
    },
    "executionInfo": {
     "elapsed": 147900,
     "status": "error",
     "timestamp": 1761083038181,
     "user": {
      "displayName": "Kanta Tanahashi",
      "userId": "14493519528935864142"
     },
     "user_tz": -120
    },
    "id": "QcerzgN2DG-l",
    "outputId": "4179edde-c05f-430d-d146-88f3b000923e"
   },
   "outputs": [],
   "source": [
    "# We computed this when we optimized hyperparameters earlier but here we go again\n",
    "# RMSE of content-based, user-based, item-based, and matrix factorization model as well as the hybrid model\n",
    "\n",
    "\n",
    "if rmse_content_based and rmse_user_based and rmse_item_based and rmse_mf and rmse_hybrid:\n",
    "    print(\"Skipping evaluation, already computed.\")\n",
    "    print(f\"Content-based RMSE: {rmse_content_based}\")\n",
    "    print(f\"User-based RMSE: {rmse_user_based}\")\n",
    "    print(f\"Item-based RMSE: {rmse_item_based}\")\n",
    "    print(f\"Matrix Factorization RMSE: {rmse_mf}\")  \n",
    "    print(f\"Hybrid RMSE: {rmse_hybrid}\")\n",
    "\n",
    "else:\n",
    "    print(\"Running Content rating based evaluations on test data...\")\n",
    "    rmse_content_based = evaluate_rating_prediction_content_based(\n",
    "                train_data,\n",
    "                test_data,\n",
    "                \"full\",\n",
    "                \"weighted_avg\")\n",
    "\n",
    "    print(\"Running user based rating evaluations on test data...\")\n",
    "    rmse_user_based = evaluate_rating_prediction_user_based(train_data, test_data, user_similarity_matrix, 70)\n",
    "\n",
    "    print(\"Running item based rating evaluations on test data...\")\n",
    "    rmse_item_based = evaluate_rating_prediction_item_based(train_data, test_data, item_similarity_matrix, 20)\n",
    "\n",
    "    print(\"Running matrix factorization rating evaluations on test data...\")\n",
    "    rmse_mf = mf_model.evaluate(test_data)\n",
    "\n",
    "    print(\"Running hybrid rating evaluations on test data...\")\n",
    "    rmse_hybrid = evaluate_hybrid_models(\n",
    "        test_data,\n",
    "        train_data,\n",
    "        item_similarity_matrix,\n",
    "        user_similarity_matrix,\n",
    "        mf_model,\n",
    "        hybrid_reg_scaled,\n",
    "        bpr_model,\n",
    "        k_item=20,\n",
    "        k_user=50,\n",
    "        device=device,\n",
    "    )\n",
    "\n",
    "    print(type(rmse_content_based), rmse_content_based)\n",
    "    print(type(rmse_user_based), rmse_user_based)\n",
    "    print(type(rmse_item_based), rmse_item_based)\n",
    "    print(type(rmse_mf), rmse_mf)\n",
    "    print(type(rmse_hybrid), rmse_hybrid)\n",
    "\n",
    "    # --- Final Comparison ---\n",
    "    print(\"\\n--- Model RMSE Comparison ---\")\n",
    "    results = {\n",
    "        \"Content-Based\": rmse_content_based,\n",
    "        \"User-Based KNN\": rmse_user_based,\n",
    "        \"Item-Based KNN\": rmse_item_based,\n",
    "        \"Matrix Factorization\": rmse_mf,\n",
    "        \"Hybrid (Scaled)\": rmse_hybrid,\n",
    "    }\n",
    "    results_df = pd.DataFrame(list(results.items()), columns=[\"Model\", \"RMSE\"])\n",
    "    results_df = results_df.sort_values(\"RMSE\").set_index(\"Model\")\n",
    "    display(results_df)"
   ]
  },
  {
   "cell_type": "markdown",
   "id": "fabd26da",
   "metadata": {},
   "source": [
    "## 2.2 Ranking Prediction Task Evaluation"
   ]
  },
  {
   "cell_type": "code",
   "execution_count": null,
   "id": "8b33cb71",
   "metadata": {},
   "outputs": [],
   "source": [
    "def evaluate_all_models_ranking(\n",
    "    train_data: pd.DataFrame,\n",
    "    test_data: pd.DataFrame,\n",
    "    user_similarity_matrix: pd.DataFrame,\n",
    "    item_similarity_matrix: pd.DataFrame,\n",
    "    mf_model,  \n",
    "    bpr_model,\n",
    "    k: int = 10,\n",
    ") -> pd.DataFrame:\n",
    "    \"\"\"\n",
    "    Evaluates all five models against the test data.\n",
    "    Model objects are passed as direct parameters.\n",
    "    Hyperparameters (k_user, k_item, etc.) are hardcoded inside.\n",
    "    \"\"\"\n",
    "\n",
    "    test_users = test_data[\"user_id\"].unique()\n",
    "\n",
    "    # Data structures to hold results\n",
    "    all_ground_truths = []\n",
    "\n",
    "    # Define the models we are testing\n",
    "    model_names = [\n",
    "        \"Content-Based\",\n",
    "        \"User-Based KNN\",\n",
    "        \"Item-Based KNN\",\n",
    "        \"Matrix Factorization\",\n",
    "        \"BPR Model\",\n",
    "    ]\n",
    "\n",
    "    all_recommendations = {model_name: [] for model_name in model_names}\n",
    "\n",
    "    for user_id in tqdm(test_users, desc=\"Evaluating all models via ranking task\"):\n",
    "\n",
    "        # Get all the items that the user has rated 4.0 or higher in the test set\n",
    "        gt = list(test_data[(test_data['user_id'] == user_id) & (test_data['rating'] >= 4.0)]['item_id'])\n",
    "\n",
    "        if not gt:\n",
    "            continue\n",
    "\n",
    "        all_ground_truths.append(gt)\n",
    "\n",
    "        # Get recommendations from each one of the model\n",
    "\n",
    "        # --- Content-Based ---\n",
    "        recs_cb = recommend_topk_content_based(\n",
    "            train_data=train_data,\n",
    "            target_user=user_id,\n",
    "            k=k,\n",
    "            content_type=\"full\",  \n",
    "            aggregation_method=\"weighted_avg\", \n",
    "        )\n",
    "\n",
    "        recs_cb_ids = [item_id for item_id, score in recs_cb]\n",
    "\n",
    "        # print(f\"User {user_id} Content-Based Recs: {recs_cb[:5]}\")\n",
    "        all_recommendations[\"Content-Based\"].append(recs_cb_ids)\n",
    "\n",
    "        # --- User-Based KNN ---\n",
    "        recs_ub = recommend_topk_user_based(\n",
    "            train_data=train_data,\n",
    "            target_user=user_id,\n",
    "            k=k,\n",
    "            user_similarity_matrix=user_similarity_matrix,\n",
    "            k_user=50,  \n",
    "        )\n",
    "\n",
    "        recs_ub_ids = [item_id for item_id, score in recs_ub]\n",
    "\n",
    "        # print(f\"User {user_id} User-Based KNN Recs: {recs_ub[:5]}\")\n",
    "        all_recommendations[\"User-Based KNN\"].append(recs_ub_ids)\n",
    "\n",
    "        # --- Item-Based KNN ---\n",
    "        recs_ib = recommend_topk_item_based(\n",
    "            train_data=train_data,\n",
    "            target_user=user_id,\n",
    "            k=k,\n",
    "            item_similarity_matrix=item_similarity_matrix,\n",
    "            k_item=20,  \n",
    "        )\n",
    "\n",
    "        recs_ib_ids = [item_id for item_id, score in recs_ib]\n",
    "        # print(f\"User {user_id} Item-Based KNN Recs: {recs_ib[:5]}\")\n",
    "        all_recommendations[\"Item-Based KNN\"].append(recs_ib_ids)\n",
    "\n",
    "        # --- Matrix Factorization ---\n",
    "        recs_mf = recommend_topk_mf(\n",
    "            mf_trainer=mf_model, train_data=train_data, target_user=user_id, k=k\n",
    "        )\n",
    "        # print(f\"User {user_id} Matrix Factorization Recs: {recs_mf[:5]}\")\n",
    "        all_recommendations[\"Matrix Factorization\"].append(recs_mf)\n",
    "\n",
    "        # --- BPR Model ---\n",
    "        recs_bpr = bpr_model.recommend(target_user, train_data, k)\n",
    "        # print(f\"User {user_id} BPR Model Recs: {recs_bpr[:5]}\")\n",
    "\n",
    "        recs_bpr_ids = [item_id for item_id, score in recs_bpr]\n",
    "        all_recommendations[\"BPR Model\"].append(recs_bpr_ids)\n",
    "\n",
    "    print(\"\\nCalculating final metrics...\")\n",
    "\n",
    "    final_results = {}\n",
    "    for model_name, rec_lists in all_recommendations.items():\n",
    "        if not rec_lists:\n",
    "            print(f\"Warning: No recommendations generated for {model_name}\")\n",
    "            continue\n",
    "\n",
    "        prec = Precision(all_ground_truths, rec_lists)\n",
    "        rec = Recall(all_ground_truths, rec_lists)\n",
    "        ndcg = NDCG(all_ground_truths, rec_lists)\n",
    "\n",
    "        final_results[model_name] = {\n",
    "            \"Precision@K\": prec,\n",
    "            \"Recall@K\": rec,\n",
    "            \"NDCG@K\": ndcg,\n",
    "        }\n",
    "\n",
    "    results_df = pd.DataFrame.from_dict(final_results, orient=\"index\")\n",
    "    results_df = results_df.sort_values(\"NDCG@K\", ascending=False)\n",
    "\n",
    "    return results_df"
   ]
  },
  {
   "cell_type": "code",
   "execution_count": null,
   "id": "xiN10UGBDNRd",
   "metadata": {
    "id": "xiN10UGBDNRd"
   },
   "outputs": [],
   "source": [
    "all_model_results = evaluate_all_models_ranking(\n",
    "    train_data,\n",
    "    test_data,\n",
    "    user_similarity_matrix=user_similarity_matrix,\n",
    "    item_similarity_matrix=item_similarity_matrix,\n",
    "    mf_model=mf_model,\n",
    "    bpr_model=bpr_model,\n",
    "    k=10,\n",
    ")\n",
    "\n",
    "# Display the final comparison table\n",
    "print(\"\\n--- Final Model Comparison (Ranking Function) ---\")\n",
    "display(all_model_results)"
   ]
  },
  {
   "cell_type": "markdown",
   "id": "a7f3a3e5-adef-4144-b7ad-f5f55696972d",
   "metadata": {
    "id": "a7f3a3e5-adef-4144-b7ad-f5f55696972d"
   },
   "source": [
    "# Task 3) Implement baselines for both rating prediction and ranking tasks, and perform experiments with those baselines"
   ]
  },
  {
   "cell_type": "code",
   "execution_count": null,
   "id": "fc5710b4-8bae-42f0-8990-41e7cec7433f",
   "metadata": {
    "id": "fc5710b4-8bae-42f0-8990-41e7cec7433f"
   },
   "outputs": [],
   "source": []
  },
  {
   "cell_type": "markdown",
   "id": "e10661af-16f3-41f1-b09a-0307f70c344f",
   "metadata": {
    "id": "e10661af-16f3-41f1-b09a-0307f70c344f"
   },
   "source": [
    "# Task 4) Analysis of recommendation models. Analyzing the coefficients of hybrid model and the success of recommendation models for different users' groups."
   ]
  },
  {
   "cell_type": "code",
   "execution_count": null,
   "id": "23377855-cc19-4b06-a497-712a892ae3f5",
   "metadata": {
    "id": "23377855-cc19-4b06-a497-712a892ae3f5"
   },
   "outputs": [],
   "source": []
  },
  {
   "cell_type": "markdown",
   "id": "9914f603-b893-471c-9622-4437855dd8fa",
   "metadata": {
    "id": "9914f603-b893-471c-9622-4437855dd8fa"
   },
   "source": [
    "# Task 5) Evaluation of beyond accuracy"
   ]
  },
  {
   "cell_type": "markdown",
   "id": "ZsPBgQ1Hld5U",
   "metadata": {
    "id": "ZsPBgQ1Hld5U"
   },
   "source": [
    "## Diversity (intra-list diversity)"
   ]
  },
  {
   "cell_type": "markdown",
   "id": "sxev9kGZ91Lt",
   "metadata": {
    "id": "sxev9kGZ91Lt"
   },
   "source": [
    "**Intra-List Diversity (ILD)** quantifies how *different* the items within a single user’s recommendation list are from each other.\n",
    "\n",
    "Formally:\n",
    "[\n",
    "ILD(u) = \\frac{1}{|L_u|(|L_u|-1)} \\sum_{i \\ne j} (1 - \\text{sim}(i,j))\n",
    "]\n",
    "where `sim(i,j)` is cosine similarity between item embeddings (here, BERT item representations).\n",
    "Then we average across users to get the final ILD score.\n",
    "\n",
    "* **High ILD (close to 1)** → items are *very dissimilar* → *diverse recommendations* (e.g., a mix of action, romance, and comedy movies).\n",
    "* **Low ILD (close to 0)** → items are *very similar* → *homogeneous recommendations* (e.g., 10 action movies with similar plots).\n",
    "\n"
   ]
  },
  {
   "cell_type": "markdown",
   "id": "heLlPj9woUxB",
   "metadata": {
    "id": "heLlPj9woUxB"
   },
   "source": [
    "### Define distance function"
   ]
  },
  {
   "cell_type": "markdown",
   "id": "MbC5yI8AoaV2",
   "metadata": {
    "id": "MbC5yI8AoaV2"
   },
   "source": [
    "> We'll use cosine distance based on item content embeddings (BERT or title+genre)."
   ]
  },
  {
   "cell_type": "code",
   "execution_count": null,
   "id": "lKLoeMLIoTzj",
   "metadata": {
    "id": "lKLoeMLIoTzj"
   },
   "outputs": [],
   "source": [
    "from sklearn.metrics.pairwise import cosine_similarity as cosine_sim_matrix\n",
    "import numpy as np\n",
    "import pandas as pd\n",
    "from tqdm import tqdm\n",
    "\n",
    "def compute_intra_list_diversity(rec_lists, item_embeddings):\n",
    "    \"\"\"\n",
    "    Compute average ILD across all users.\n",
    "\n",
    "    Args:\n",
    "        rec_lists (dict): {user_id: [item_ids]} – recommended items per user\n",
    "        item_embeddings (np.ndarray): matrix of item embeddings (indexed by item_id - 1)\n",
    "    Returns:\n",
    "        float: average ILD score\n",
    "    \"\"\"\n",
    "    ild_scores = []\n",
    "    for user, rec_items in rec_lists.items():\n",
    "        if len(rec_items) < 2:\n",
    "            continue  # skip too-short lists\n",
    "        embs = item_embeddings[[i - 1 for i in rec_items]]\n",
    "        sim_matrix = cosine_sim_matrix(embs)\n",
    "        # convert to distance\n",
    "        dist_matrix = 1 - sim_matrix\n",
    "        n = len(rec_items)\n",
    "        ild = dist_matrix.sum() / (n * (n - 1))\n",
    "        ild_scores.append(ild)\n",
    "    return np.mean(ild_scores)\n"
   ]
  },
  {
   "cell_type": "markdown",
   "id": "fKay7rg6ojS4",
   "metadata": {
    "id": "fKay7rg6ojS4"
   },
   "source": [
    "### Generate recommendation lists"
   ]
  },
  {
   "cell_type": "code",
   "execution_count": null,
   "id": "YW8PeKyaomnJ",
   "metadata": {
    "colab": {
     "base_uri": "https://localhost:8080/"
    },
    "executionInfo": {
     "elapsed": 329176,
     "status": "ok",
     "timestamp": 1761058255776,
     "user": {
      "displayName": "Elena Mihalache",
      "userId": "05431839471568078681"
     },
     "user_tz": -120
    },
    "id": "YW8PeKyaomnJ",
    "outputId": "8bf62072-65dd-448c-ca21-2fb8522285e9"
   },
   "outputs": [],
   "source": [
    "# Generate Top-10 lists for a random sample of users\n",
    "sample_users = np.random.choice(train_data['user_id'].unique(), size=10, replace=False)\n",
    "\n",
    "# topk_cb, topk_userknn, topk_itemknn, topk_mf, topk_bpr, topk_hybrid = {}, {}, {}, {}, {}, {}\n",
    "topk_itemknn = {}\n",
    "topk_hybrid = {}\n",
    "\n",
    "for user in tqdm(sample_users):\n",
    "    # topk_cb[user] = recommend_topk_item_based(train_data, item_similarity_matrix, user, k=10)\n",
    "    # topk_userknn[user] = [i for i, _ in recommend_topk_user_based(train_data, user_similarity_matrix, user, k=10)]\n",
    "    topk_itemknn[user] = [i for i, _ in recommend_topk_item_based(train_data, item_similarity_matrix, user, k=10)]\n",
    "    # topk_mf[user] = [i for i, _ in recommend_topk_MF(mf_model, train_data, user, k=10)]\n",
    "    # topk_bpr[user] = [i for i, _ in bpr_model.recommend(user, train_data=train_data, top_k=10)]\n",
    "    topk_hybrid[user] = [\n",
    "    i for i, _ in recommend_topk_hybrid(\n",
    "        user,\n",
    "        hybrid_reg_scaled,\n",
    "        train_data,\n",
    "        item_similarity_matrix,\n",
    "        user_similarity_matrix,\n",
    "        mf_model,\n",
    "        bpr_model,\n",
    "        scaler,\n",
    "        top_k=10\n",
    "    )\n",
    "]\n"
   ]
  },
  {
   "cell_type": "markdown",
   "id": "IuOQinJNqNlq",
   "metadata": {
    "id": "IuOQinJNqNlq"
   },
   "source": [
    "### Compute ILD per model"
   ]
  },
  {
   "cell_type": "code",
   "execution_count": null,
   "id": "8UQY8IDRqPh6",
   "metadata": {
    "colab": {
     "base_uri": "https://localhost:8080/",
     "height": 237
    },
    "executionInfo": {
     "elapsed": 29,
     "status": "ok",
     "timestamp": 1761058255803,
     "user": {
      "displayName": "Elena Mihalache",
      "userId": "05431839471568078681"
     },
     "user_tz": -120
    },
    "id": "8UQY8IDRqPh6",
    "outputId": "e9df4b63-f619-486b-dee0-0bd80385e221"
   },
   "outputs": [],
   "source": [
    "emb_to_use = item_emb_full  # or item_emb_titlegenres\n",
    "\n",
    "# ild_cb = compute_intra_list_diversity(topk_cb, emb_to_use)\n",
    "# ild_userknn = compute_intra_list_diversity(topk_userknn, emb_to_use)\n",
    "ild_itemknn = compute_intra_list_diversity(topk_itemknn, emb_to_use)\n",
    "# ild_mf = compute_intra_list_diversity(topk_mf, emb_to_use)\n",
    "# ild_bpr = compute_intra_list_diversity(topk_bpr, emb_to_use)\n",
    "ild_hybrid = compute_intra_list_diversity(topk_hybrid, emb_to_use)\n",
    "\n",
    "results_ild = pd.DataFrame({\n",
    "    'Model': ['CB', 'UserKNN', 'ItemKNN', 'MF', 'BPR', 'Hybrid'],\n",
    "    'Intra-List Diversity': [None, None, ild_itemknn, None, None, ild_hybrid]\n",
    "})\n",
    "display(results_ild)"
   ]
  },
  {
   "cell_type": "markdown",
   "id": "slwqF3Z1qatT",
   "metadata": {
    "id": "slwqF3Z1qatT"
   },
   "source": [
    "### Visualize diversity comparison"
   ]
  },
  {
   "cell_type": "code",
   "execution_count": null,
   "id": "CjM8fcG5qeOb",
   "metadata": {
    "colab": {
     "base_uri": "https://localhost:8080/",
     "height": 487
    },
    "executionInfo": {
     "elapsed": 176,
     "status": "ok",
     "timestamp": 1761058256000,
     "user": {
      "displayName": "Elena Mihalache",
      "userId": "05431839471568078681"
     },
     "user_tz": -120
    },
    "id": "CjM8fcG5qeOb",
    "outputId": "ec4e01f8-fa7a-4d34-ea90-73fb55c9e67e"
   },
   "outputs": [],
   "source": [
    "import seaborn as sns\n",
    "import matplotlib.pyplot as plt\n",
    "\n",
    "plt.figure(figsize=(8,5))\n",
    "sns.barplot(data=results_ild, x='Model', y='Intra-List Diversity', palette='viridis')\n",
    "plt.title('Intra-List Diversity (ILD) Comparison Across Models')\n",
    "plt.ylabel('Average ILD')\n",
    "plt.xlabel('Recommendation Model')\n",
    "plt.grid(axis='y', linestyle='--', alpha=0.6)\n",
    "plt.show()"
   ]
  },
  {
   "cell_type": "markdown",
   "id": "tiJvJBQKlkO0",
   "metadata": {
    "id": "tiJvJBQKlkO0"
   },
   "source": [
    "## Novelty (surprisal)"
   ]
  },
  {
   "cell_type": "markdown",
   "id": "EbTGPvqn-6dC",
   "metadata": {
    "id": "EbTGPvqn-6dC"
   },
   "source": [
    "Measure each item’s novelty as:\n",
    "\n",
    "[\n",
    "\\text{novelty}(i)=-\\log_2 p(i)\n",
    "\\quad\\text{with}\\quad\n",
    "p(i)=\\frac{#\\text{interactions on }i}{\\text{total interactions}}\n",
    "]\n",
    "\n",
    "A user’s novelty is the **mean** surprisal of the items in their recommended list, and finally average across users."
   ]
  },
  {
   "cell_type": "markdown",
   "id": "AfYn_X7p_DSS",
   "metadata": {
    "id": "AfYn_X7p_DSS"
   },
   "source": [
    "### Item popularity"
   ]
  },
  {
   "cell_type": "code",
   "execution_count": null,
   "id": "WLD3XGJ6_Vmj",
   "metadata": {
    "id": "WLD3XGJ6_Vmj"
   },
   "outputs": [],
   "source": [
    "def build_item_popularity(train_df):\n",
    "    \"\"\"\n",
    "    Returns:\n",
    "      pop: pd.Series indexed by item_id with p(i) in [0,1]\n",
    "    \"\"\"\n",
    "    item_counts = train_df['item_id'].value_counts().sort_index()\n",
    "    total = item_counts.sum()\n",
    "    pop = item_counts / total\n",
    "    # also ensure every known item appears (even if 0 in train subset)\n",
    "    all_items = train_df['item_id'].unique()\n",
    "    pop = pop.reindex(sorted(all_items), fill_value=0.0)\n",
    "    return pop"
   ]
  },
  {
   "cell_type": "markdown",
   "id": "Jquo4Ch1_Pwq",
   "metadata": {
    "id": "Jquo4Ch1_Pwq"
   },
   "source": [
    "### Item surprisal"
   ]
  },
  {
   "cell_type": "code",
   "execution_count": null,
   "id": "jaFpNo3e_ZiG",
   "metadata": {
    "id": "jaFpNo3e_ZiG"
   },
   "outputs": [],
   "source": [
    "def build_item_surprisal(pop, eps=1e-12):\n",
    "    \"\"\"\n",
    "    novelty(i) = -log2(pop(i) + eps)  (in bits)\n",
    "    \"\"\"\n",
    "    return -np.log2(pop + eps)"
   ]
  },
  {
   "cell_type": "markdown",
   "id": "GtdMPu42_cTc",
   "metadata": {
    "id": "GtdMPu42_cTc"
   },
   "source": [
    "### Example build from training split"
   ]
  },
  {
   "cell_type": "code",
   "execution_count": null,
   "id": "zwvgIz76_h2T",
   "metadata": {
    "colab": {
     "base_uri": "https://localhost:8080/",
     "height": 255
    },
    "executionInfo": {
     "elapsed": 21,
     "status": "ok",
     "timestamp": 1761058256102,
     "user": {
      "displayName": "Elena Mihalache",
      "userId": "05431839471568078681"
     },
     "user_tz": -120
    },
    "id": "zwvgIz76_h2T",
    "outputId": "82967bf5-6274-490a-ce9a-6572daafc61b"
   },
   "outputs": [],
   "source": [
    "item_pop = build_item_popularity(train_data)\n",
    "item_surprisal = build_item_surprisal(item_pop)\n",
    "\n",
    "print(\"Example surprisal (higher = more novel):\")\n",
    "display(item_surprisal.sample(5).to_frame(\"novelty_bits\"))"
   ]
  },
  {
   "cell_type": "markdown",
   "id": "3iRpLzLhlnBb",
   "metadata": {
    "id": "3iRpLzLhlnBb"
   },
   "source": [
    "## Calibration"
   ]
  },
  {
   "cell_type": "markdown",
   "id": "hSllKW6Jlpv4",
   "metadata": {
    "id": "hSllKW6Jlpv4"
   },
   "source": [
    "## Fairness metrics"
   ]
  },
  {
   "cell_type": "code",
   "execution_count": null,
   "id": "4c4a0e4b-adbe-4673-82f8-a75761666fd1",
   "metadata": {
    "id": "4c4a0e4b-adbe-4673-82f8-a75761666fd1"
   },
   "outputs": [],
   "source": []
  }
 ],
 "metadata": {
  "accelerator": "GPU",
  "colab": {
   "gpuType": "T4",
   "provenance": []
  },
  "kernelspec": {
   "display_name": "Python 3 (ipykernel)",
   "language": "python",
   "name": "python3"
  },
  "language_info": {
   "codemirror_mode": {
    "name": "ipython",
    "version": 3
   },
   "file_extension": ".py",
   "mimetype": "text/x-python",
   "name": "python",
   "nbconvert_exporter": "python",
   "pygments_lexer": "ipython3",
   "version": "3.10.16"
  }
 },
 "nbformat": 4,
 "nbformat_minor": 5
}
